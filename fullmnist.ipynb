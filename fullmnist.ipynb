{
  "nbformat": 4,
  "nbformat_minor": 0,
  "metadata": {
    "colab": {
      "provenance": [],
      "gpuType": "T4"
    },
    "kernelspec": {
      "name": "python3",
      "display_name": "Python 3"
    },
    "language_info": {
      "name": "python"
    },
    "accelerator": "GPU"
  },
  "cells": [
    {
      "cell_type": "code",
      "source": [
        "! [ -e /content ] && pip install -Uqq fastbook\n",
        "import fastbook\n",
        "fastbook.setup_book()\n",
        "\n",
        "from fastai.vision.all import *\n",
        "from fastbook import *"
      ],
      "metadata": {
        "colab": {
          "base_uri": "https://localhost:8080/"
        },
        "id": "oWcK6IbFtkyb",
        "outputId": "96aac8b3-cbd6-43ed-c6b0-4947e1c9dcdd"
      },
      "execution_count": null,
      "outputs": [
        {
          "output_type": "stream",
          "name": "stdout",
          "text": [
            "\u001b[2K     \u001b[90m━━━━━━━━━━━━━━━━━━━━━━━━━━━━━━━━━━━━━━\u001b[0m \u001b[32m719.8/719.8 kB\u001b[0m \u001b[31m13.5 MB/s\u001b[0m eta \u001b[36m0:00:00\u001b[0m\n",
            "\u001b[2K     \u001b[90m━━━━━━━━━━━━━━━━━━━━━━━━━━━━━━━━━━━━━━━━\u001b[0m \u001b[32m7.4/7.4 MB\u001b[0m \u001b[31m100.2 MB/s\u001b[0m eta \u001b[36m0:00:00\u001b[0m\n",
            "\u001b[2K     \u001b[90m━━━━━━━━━━━━━━━━━━━━━━━━━━━━━━━━━━━━━━\u001b[0m \u001b[32m519.3/519.3 kB\u001b[0m \u001b[31m50.6 MB/s\u001b[0m eta \u001b[36m0:00:00\u001b[0m\n",
            "\u001b[2K     \u001b[90m━━━━━━━━━━━━━━━━━━━━━━━━━━━━━━━━━━━━━━━━\u001b[0m \u001b[32m1.3/1.3 MB\u001b[0m \u001b[31m62.4 MB/s\u001b[0m eta \u001b[36m0:00:00\u001b[0m\n",
            "\u001b[2K     \u001b[90m━━━━━━━━━━━━━━━━━━━━━━━━━━━━━━━━━━━━━━\u001b[0m \u001b[32m115.3/115.3 kB\u001b[0m \u001b[31m17.1 MB/s\u001b[0m eta \u001b[36m0:00:00\u001b[0m\n",
            "\u001b[2K     \u001b[90m━━━━━━━━━━━━━━━━━━━━━━━━━━━━━━━━━━━━━━\u001b[0m \u001b[32m194.1/194.1 kB\u001b[0m \u001b[31m23.2 MB/s\u001b[0m eta \u001b[36m0:00:00\u001b[0m\n",
            "\u001b[2K     \u001b[90m━━━━━━━━━━━━━━━━━━━━━━━━━━━━━━━━━━━━━━\u001b[0m \u001b[32m134.8/134.8 kB\u001b[0m \u001b[31m17.7 MB/s\u001b[0m eta \u001b[36m0:00:00\u001b[0m\n",
            "\u001b[2K     \u001b[90m━━━━━━━━━━━━━━━━━━━━━━━━━━━━━━━━━━━━━━\u001b[0m \u001b[32m268.8/268.8 kB\u001b[0m \u001b[31m31.4 MB/s\u001b[0m eta \u001b[36m0:00:00\u001b[0m\n",
            "\u001b[2K     \u001b[90m━━━━━━━━━━━━━━━━━━━━━━━━━━━━━━━━━━━━━━━━\u001b[0m \u001b[32m7.8/7.8 MB\u001b[0m \u001b[31m103.8 MB/s\u001b[0m eta \u001b[36m0:00:00\u001b[0m\n",
            "\u001b[2K     \u001b[90m━━━━━━━━━━━━━━━━━━━━━━━━━━━━━━━━━━━━━━━━\u001b[0m \u001b[32m1.3/1.3 MB\u001b[0m \u001b[31m84.6 MB/s\u001b[0m eta \u001b[36m0:00:00\u001b[0m\n",
            "\u001b[2K     \u001b[90m━━━━━━━━━━━━━━━━━━━━━━━━━━━━━━━━━━━━━━━━\u001b[0m \u001b[32m1.6/1.6 MB\u001b[0m \u001b[31m88.9 MB/s\u001b[0m eta \u001b[36m0:00:00\u001b[0m\n",
            "\u001b[?25hMounted at /content/gdrive\n"
          ]
        }
      ]
    },
    {
      "cell_type": "code",
      "execution_count": null,
      "metadata": {
        "id": "zPa_QV1NtNjk"
      },
      "outputs": [],
      "source": [
        "#hide\n",
        "\n",
        "from fastai.vision.all import *\n",
        "from fastbook import *\n",
        "\n",
        "matplotlib.rc('image', cmap='Greys')"
      ]
    },
    {
      "cell_type": "code",
      "source": [
        "path = untar_data(URLs.MNIST)"
      ],
      "metadata": {
        "id": "yIN96rYjqu11",
        "colab": {
          "base_uri": "https://localhost:8080/",
          "height": 37
        },
        "outputId": "a41d8e46-f6ec-45a4-c350-a5ddbc3ed37c"
      },
      "execution_count": null,
      "outputs": [
        {
          "output_type": "display_data",
          "data": {
            "text/plain": [
              "<IPython.core.display.HTML object>"
            ],
            "text/html": [
              "\n",
              "<style>\n",
              "    /* Turns off some styling */\n",
              "    progress {\n",
              "        /* gets rid of default border in Firefox and Opera. */\n",
              "        border: none;\n",
              "        /* Needs to be in here for Safari polyfill so background images work as expected. */\n",
              "        background-size: auto;\n",
              "    }\n",
              "    progress:not([value]), progress:not([value])::-webkit-progress-bar {\n",
              "        background: repeating-linear-gradient(45deg, #7e7e7e, #7e7e7e 10px, #5c5c5c 10px, #5c5c5c 20px);\n",
              "    }\n",
              "    .progress-bar-interrupted, .progress-bar-interrupted::-webkit-progress-bar {\n",
              "        background: #F44336;\n",
              "    }\n",
              "</style>\n"
            ]
          },
          "metadata": {}
        },
        {
          "output_type": "display_data",
          "data": {
            "text/plain": [
              "<IPython.core.display.HTML object>"
            ],
            "text/html": [
              "\n",
              "    <div>\n",
              "      <progress value='15687680' class='' max='15683414' style='width:300px; height:20px; vertical-align: middle;'></progress>\n",
              "      100.03% [15687680/15683414 00:02&lt;00:00]\n",
              "    </div>\n",
              "    "
            ]
          },
          "metadata": {}
        }
      ]
    },
    {
      "cell_type": "code",
      "source": [
        "Path.BASE_PATH = path\n",
        "path.ls()"
      ],
      "metadata": {
        "colab": {
          "base_uri": "https://localhost:8080/"
        },
        "id": "3IlHA9N_q7ib",
        "outputId": "4ae3a69d-922e-4c85-d989-c1832aa9f8c3"
      },
      "execution_count": null,
      "outputs": [
        {
          "output_type": "execute_result",
          "data": {
            "text/plain": [
              "(#2) [Path('testing'),Path('training')]"
            ]
          },
          "metadata": {},
          "execution_count": 4
        }
      ]
    },
    {
      "cell_type": "code",
      "source": [
        "(path/'training').ls()"
      ],
      "metadata": {
        "colab": {
          "base_uri": "https://localhost:8080/"
        },
        "id": "iCYrWFtorOHm",
        "outputId": "443f02c9-9a10-4df7-ca34-d7ce2b501cb3"
      },
      "execution_count": null,
      "outputs": [
        {
          "output_type": "execute_result",
          "data": {
            "text/plain": [
              "(#10) [Path('training/9'),Path('training/0'),Path('training/4'),Path('training/7'),Path('training/2'),Path('training/6'),Path('training/1'),Path('training/3'),Path('training/8'),Path('training/5')]"
            ]
          },
          "metadata": {},
          "execution_count": 5
        }
      ]
    },
    {
      "cell_type": "code",
      "source": [
        "ones = (path/'training'/'1').ls().sorted() # show the list of images with one\n",
        "ones"
      ],
      "metadata": {
        "colab": {
          "base_uri": "https://localhost:8080/"
        },
        "id": "aNrII6oVrwuP",
        "outputId": "496034e1-62cc-46d4-811c-06b128c6d148"
      },
      "execution_count": null,
      "outputs": [
        {
          "output_type": "execute_result",
          "data": {
            "text/plain": [
              "(#6742) [Path('training/1/10006.png'),Path('training/1/10007.png'),Path('training/1/1002.png'),Path('training/1/10020.png'),Path('training/1/10027.png'),Path('training/1/1003.png'),Path('training/1/10040.png'),Path('training/1/10048.png'),Path('training/1/10058.png'),Path('training/1/10067.png')...]"
            ]
          },
          "metadata": {},
          "execution_count": 6
        }
      ]
    },
    {
      "cell_type": "code",
      "source": [
        "im1_path = ones[2] # view a sample image\n",
        "im1 = Image.open(im1_path)\n",
        "im1"
      ],
      "metadata": {
        "colab": {
          "base_uri": "https://localhost:8080/",
          "height": 45
        },
        "id": "X7BSqv8_sRJd",
        "outputId": "70b699e7-0387-406f-92b9-a24702a46f39"
      },
      "execution_count": null,
      "outputs": [
        {
          "output_type": "execute_result",
          "data": {
            "text/plain": [
              "<PIL.PngImagePlugin.PngImageFile image mode=L size=28x28>"
            ],
            "image/png": "[encoded data removed]"
          },
          "metadata": {},
          "execution_count": 7
        }
      ]
    },
    {
      "cell_type": "code",
      "source": [
        "im1_t = tensor(im1)\n",
        "im1_t[4:10, 4:10]"
      ],
      "metadata": {
        "colab": {
          "base_uri": "https://localhost:8080/"
        },
        "id": "BP_vCo9Vsw7U",
        "outputId": "5747f499-a074-498b-f3d7-56fa62940c3e"
      },
      "execution_count": null,
      "outputs": [
        {
          "output_type": "execute_result",
          "data": {
            "text/plain": [
              "tensor([[0, 0, 0, 0, 0, 0],\n",
              "        [0, 0, 0, 0, 0, 0],\n",
              "        [0, 0, 0, 0, 0, 0],\n",
              "        [0, 0, 0, 0, 0, 0],\n",
              "        [0, 0, 0, 0, 0, 0],\n",
              "        [0, 0, 0, 0, 0, 0]], dtype=torch.uint8)"
            ]
          },
          "metadata": {},
          "execution_count": 8
        }
      ]
    },
    {
      "cell_type": "code",
      "source": [
        "df = pd.DataFrame(im1_t[4:25,4:22])\n",
        "df.style.set_properties(**{'font-size':'8pt'}).background_gradient('Greys')"
      ],
      "metadata": {
        "colab": {
          "base_uri": "https://localhost:8080/",
          "height": 707
        },
        "id": "TvUiU6mctLYT",
        "outputId": "769334e2-1b2f-4930-adfb-049d352b8cab"
      },
      "execution_count": null,
      "outputs": [
        {
          "output_type": "execute_result",
          "data": {
            "text/plain": [
              "<pandas.io.formats.style.Styler at 0x7fdcba1f3ee0>"
            ],
            "text/html": [
              "<style type=\"text/css\">\n",
              "#T_fde98_row0_col0, #T_fde98_row0_col1, #T_fde98_row0_col2, #T_fde98_row0_col3, #T_fde98_row0_col4, #T_fde98_row0_col5, #T_fde98_row0_col6, #T_fde98_row0_col7, #T_fde98_row0_col8, #T_fde98_row0_col9, #T_fde98_row0_col12, #T_fde98_row0_col13, #T_fde98_row0_col14, #T_fde98_row0_col15, #T_fde98_row0_col16, #T_fde98_row0_col17, #T_fde98_row1_col0, #T_fde98_row1_col1, #T_fde98_row1_col2, #T_fde98_row1_col3, #T_fde98_row1_col4, #T_fde98_row1_col5, #T_fde98_row1_col6, #T_fde98_row1_col7, #T_fde98_row1_col8, #T_fde98_row1_col9, #T_fde98_row1_col12, #T_fde98_row1_col13, #T_fde98_row1_col14, #T_fde98_row1_col15, #T_fde98_row1_col16, #T_fde98_row1_col17, #T_fde98_row2_col0, #T_fde98_row2_col1, #T_fde98_row2_col2, #T_fde98_row2_col3, #T_fde98_row2_col4, #T_fde98_row2_col5, #T_fde98_row2_col6, #T_fde98_row2_col7, #T_fde98_row2_col8, #T_fde98_row2_col9, #T_fde98_row2_col12, #T_fde98_row2_col13, #T_fde98_row2_col14, #T_fde98_row2_col15, #T_fde98_row2_col16, #T_fde98_row2_col17, #T_fde98_row3_col0, #T_fde98_row3_col1, #T_fde98_row3_col2, #T_fde98_row3_col3, #T_fde98_row3_col4, #T_fde98_row3_col5, #T_fde98_row3_col6, #T_fde98_row3_col7, #T_fde98_row3_col8, #T_fde98_row3_col9, #T_fde98_row3_col12, #T_fde98_row3_col13, #T_fde98_row3_col14, #T_fde98_row3_col15, #T_fde98_row3_col16, #T_fde98_row3_col17, #T_fde98_row4_col0, #T_fde98_row4_col1, #T_fde98_row4_col2, #T_fde98_row4_col3, #T_fde98_row4_col4, #T_fde98_row4_col5, #T_fde98_row4_col6, #T_fde98_row4_col7, #T_fde98_row4_col8, #T_fde98_row4_col9, #T_fde98_row4_col12, #T_fde98_row4_col13, #T_fde98_row4_col14, #T_fde98_row4_col15, #T_fde98_row4_col16, #T_fde98_row4_col17, #T_fde98_row5_col0, #T_fde98_row5_col1, #T_fde98_row5_col2, #T_fde98_row5_col3, #T_fde98_row5_col4, #T_fde98_row5_col5, #T_fde98_row5_col6, #T_fde98_row5_col7, #T_fde98_row5_col8, #T_fde98_row5_col9, #T_fde98_row5_col12, #T_fde98_row5_col13, #T_fde98_row5_col14, #T_fde98_row5_col15, #T_fde98_row5_col16, #T_fde98_row5_col17, #T_fde98_row6_col0, #T_fde98_row6_col1, #T_fde98_row6_col2, #T_fde98_row6_col3, #T_fde98_row6_col4, #T_fde98_row6_col5, #T_fde98_row6_col6, #T_fde98_row6_col7, #T_fde98_row6_col8, #T_fde98_row6_col9, #T_fde98_row6_col12, #T_fde98_row6_col13, #T_fde98_row6_col14, #T_fde98_row6_col15, #T_fde98_row6_col16, #T_fde98_row6_col17, #T_fde98_row7_col0, #T_fde98_row7_col1, #T_fde98_row7_col2, #T_fde98_row7_col3, #T_fde98_row7_col4, #T_fde98_row7_col5, #T_fde98_row7_col6, #T_fde98_row7_col7, #T_fde98_row7_col8, #T_fde98_row7_col12, #T_fde98_row7_col13, #T_fde98_row7_col14, #T_fde98_row7_col15, #T_fde98_row7_col16, #T_fde98_row7_col17, #T_fde98_row8_col0, #T_fde98_row8_col1, #T_fde98_row8_col2, #T_fde98_row8_col3, #T_fde98_row8_col4, #T_fde98_row8_col5, #T_fde98_row8_col6, #T_fde98_row8_col7, #T_fde98_row8_col8, #T_fde98_row8_col12, #T_fde98_row8_col13, #T_fde98_row8_col14, #T_fde98_row8_col15, #T_fde98_row8_col16, #T_fde98_row8_col17, #T_fde98_row9_col0, #T_fde98_row9_col1, #T_fde98_row9_col2, #T_fde98_row9_col3, #T_fde98_row9_col4, #T_fde98_row9_col5, #T_fde98_row9_col6, #T_fde98_row9_col7, #T_fde98_row9_col8, #T_fde98_row9_col12, #T_fde98_row9_col13, #T_fde98_row9_col14, #T_fde98_row9_col15, #T_fde98_row9_col16, #T_fde98_row9_col17, #T_fde98_row10_col0, #T_fde98_row10_col1, #T_fde98_row10_col2, #T_fde98_row10_col3, #T_fde98_row10_col4, #T_fde98_row10_col5, #T_fde98_row10_col6, #T_fde98_row10_col7, #T_fde98_row10_col8, #T_fde98_row10_col9, #T_fde98_row10_col12, #T_fde98_row10_col13, #T_fde98_row10_col14, #T_fde98_row10_col15, #T_fde98_row10_col16, #T_fde98_row10_col17, #T_fde98_row11_col0, #T_fde98_row11_col1, #T_fde98_row11_col2, #T_fde98_row11_col3, #T_fde98_row11_col4, #T_fde98_row11_col5, #T_fde98_row11_col6, #T_fde98_row11_col7, #T_fde98_row11_col8, #T_fde98_row11_col9, #T_fde98_row11_col12, #T_fde98_row11_col13, #T_fde98_row11_col14, #T_fde98_row11_col15, #T_fde98_row11_col16, #T_fde98_row11_col17, #T_fde98_row12_col0, #T_fde98_row12_col1, #T_fde98_row12_col2, #T_fde98_row12_col3, #T_fde98_row12_col4, #T_fde98_row12_col5, #T_fde98_row12_col6, #T_fde98_row12_col7, #T_fde98_row12_col8, #T_fde98_row12_col9, #T_fde98_row12_col12, #T_fde98_row12_col13, #T_fde98_row12_col14, #T_fde98_row12_col15, #T_fde98_row12_col16, #T_fde98_row12_col17, #T_fde98_row13_col0, #T_fde98_row13_col1, #T_fde98_row13_col2, #T_fde98_row13_col3, #T_fde98_row13_col4, #T_fde98_row13_col5, #T_fde98_row13_col6, #T_fde98_row13_col7, #T_fde98_row13_col8, #T_fde98_row13_col9, #T_fde98_row13_col12, #T_fde98_row13_col13, #T_fde98_row13_col14, #T_fde98_row13_col15, #T_fde98_row13_col16, #T_fde98_row13_col17, #T_fde98_row14_col0, #T_fde98_row14_col1, #T_fde98_row14_col2, #T_fde98_row14_col3, #T_fde98_row14_col4, #T_fde98_row14_col5, #T_fde98_row14_col6, #T_fde98_row14_col7, #T_fde98_row14_col8, #T_fde98_row14_col9, #T_fde98_row14_col13, #T_fde98_row14_col14, #T_fde98_row14_col15, #T_fde98_row14_col16, #T_fde98_row14_col17, #T_fde98_row15_col0, #T_fde98_row15_col1, #T_fde98_row15_col2, #T_fde98_row15_col3, #T_fde98_row15_col4, #T_fde98_row15_col5, #T_fde98_row15_col6, #T_fde98_row15_col7, #T_fde98_row15_col8, #T_fde98_row15_col9, #T_fde98_row15_col13, #T_fde98_row15_col14, #T_fde98_row15_col15, #T_fde98_row15_col16, #T_fde98_row15_col17, #T_fde98_row16_col0, #T_fde98_row16_col1, #T_fde98_row16_col2, #T_fde98_row16_col3, #T_fde98_row16_col4, #T_fde98_row16_col5, #T_fde98_row16_col6, #T_fde98_row16_col7, #T_fde98_row16_col8, #T_fde98_row16_col9, #T_fde98_row16_col13, #T_fde98_row16_col14, #T_fde98_row16_col15, #T_fde98_row16_col16, #T_fde98_row16_col17, #T_fde98_row17_col0, #T_fde98_row17_col1, #T_fde98_row17_col2, #T_fde98_row17_col3, #T_fde98_row17_col4, #T_fde98_row17_col5, #T_fde98_row17_col6, #T_fde98_row17_col7, #T_fde98_row17_col8, #T_fde98_row17_col9, #T_fde98_row17_col12, #T_fde98_row17_col13, #T_fde98_row17_col14, #T_fde98_row17_col15, #T_fde98_row17_col16, #T_fde98_row17_col17, #T_fde98_row18_col0, #T_fde98_row18_col1, #T_fde98_row18_col2, #T_fde98_row18_col3, #T_fde98_row18_col4, #T_fde98_row18_col5, #T_fde98_row18_col6, #T_fde98_row18_col7, #T_fde98_row18_col8, #T_fde98_row18_col9, #T_fde98_row18_col12, #T_fde98_row18_col13, #T_fde98_row18_col14, #T_fde98_row18_col15, #T_fde98_row18_col16, #T_fde98_row18_col17, #T_fde98_row19_col0, #T_fde98_row19_col1, #T_fde98_row19_col2, #T_fde98_row19_col3, #T_fde98_row19_col4, #T_fde98_row19_col5, #T_fde98_row19_col6, #T_fde98_row19_col7, #T_fde98_row19_col8, #T_fde98_row19_col9, #T_fde98_row19_col12, #T_fde98_row19_col13, #T_fde98_row19_col14, #T_fde98_row19_col15, #T_fde98_row19_col16, #T_fde98_row19_col17, #T_fde98_row20_col0, #T_fde98_row20_col1, #T_fde98_row20_col2, #T_fde98_row20_col3, #T_fde98_row20_col4, #T_fde98_row20_col5, #T_fde98_row20_col6, #T_fde98_row20_col7, #T_fde98_row20_col8, #T_fde98_row20_col9, #T_fde98_row20_col10, #T_fde98_row20_col11, #T_fde98_row20_col12, #T_fde98_row20_col13, #T_fde98_row20_col14, #T_fde98_row20_col15, #T_fde98_row20_col16, #T_fde98_row20_col17 {\n",
              "  font-size: 8pt;\n",
              "  background-color: #ffffff;\n",
              "  color: #000000;\n",
              "}\n",
              "#T_fde98_row0_col10 {\n",
              "  font-size: 8pt;\n",
              "  background-color: #666666;\n",
              "  color: #f1f1f1;\n",
              "}\n",
              "#T_fde98_row0_col11 {\n",
              "  font-size: 8pt;\n",
              "  background-color: #535353;\n",
              "  color: #f1f1f1;\n",
              "}\n",
              "#T_fde98_row1_col10, #T_fde98_row2_col10, #T_fde98_row3_col10, #T_fde98_row4_col10, #T_fde98_row5_col10, #T_fde98_row6_col10, #T_fde98_row10_col10, #T_fde98_row11_col10, #T_fde98_row12_col10, #T_fde98_row13_col11, #T_fde98_row17_col11, #T_fde98_row18_col10, #T_fde98_row19_col10 {\n",
              "  font-size: 8pt;\n",
              "  background-color: #060606;\n",
              "  color: #f1f1f1;\n",
              "}\n",
              "#T_fde98_row1_col11, #T_fde98_row2_col11, #T_fde98_row3_col11, #T_fde98_row4_col11, #T_fde98_row5_col11, #T_fde98_row6_col11, #T_fde98_row9_col11, #T_fde98_row10_col11, #T_fde98_row11_col11, #T_fde98_row14_col10, #T_fde98_row15_col10, #T_fde98_row16_col10, #T_fde98_row19_col11 {\n",
              "  font-size: 8pt;\n",
              "  background-color: #7d7d7d;\n",
              "  color: #f1f1f1;\n",
              "}\n",
              "#T_fde98_row7_col9 {\n",
              "  font-size: 8pt;\n",
              "  background-color: #0f0f0f;\n",
              "  color: #f1f1f1;\n",
              "}\n",
              "#T_fde98_row7_col10, #T_fde98_row9_col10 {\n",
              "  font-size: 8pt;\n",
              "  background-color: #010101;\n",
              "  color: #f1f1f1;\n",
              "}\n",
              "#T_fde98_row7_col11 {\n",
              "  font-size: 8pt;\n",
              "  background-color: #dfdfdf;\n",
              "  color: #000000;\n",
              "}\n",
              "#T_fde98_row8_col9, #T_fde98_row8_col10, #T_fde98_row15_col11, #T_fde98_row15_col12, #T_fde98_row16_col11 {\n",
              "  font-size: 8pt;\n",
              "  background-color: #000000;\n",
              "  color: #f1f1f1;\n",
              "}\n",
              "#T_fde98_row8_col11 {\n",
              "  font-size: 8pt;\n",
              "  background-color: #c5c5c5;\n",
              "  color: #000000;\n",
              "}\n",
              "#T_fde98_row9_col9 {\n",
              "  font-size: 8pt;\n",
              "  background-color: #3f3f3f;\n",
              "  color: #f1f1f1;\n",
              "}\n",
              "#T_fde98_row12_col11 {\n",
              "  font-size: 8pt;\n",
              "  background-color: #777777;\n",
              "  color: #f1f1f1;\n",
              "}\n",
              "#T_fde98_row13_col10 {\n",
              "  font-size: 8pt;\n",
              "  background-color: #5b5b5b;\n",
              "  color: #f1f1f1;\n",
              "}\n",
              "#T_fde98_row14_col11 {\n",
              "  font-size: 8pt;\n",
              "  background-color: #020202;\n",
              "  color: #f1f1f1;\n",
              "}\n",
              "#T_fde98_row14_col12 {\n",
              "  font-size: 8pt;\n",
              "  background-color: #989898;\n",
              "  color: #f1f1f1;\n",
              "}\n",
              "#T_fde98_row16_col12 {\n",
              "  font-size: 8pt;\n",
              "  background-color: #292929;\n",
              "  color: #f1f1f1;\n",
              "}\n",
              "#T_fde98_row17_col10 {\n",
              "  font-size: 8pt;\n",
              "  background-color: #232323;\n",
              "  color: #f1f1f1;\n",
              "}\n",
              "#T_fde98_row18_col11 {\n",
              "  font-size: 8pt;\n",
              "  background-color: #505050;\n",
              "  color: #f1f1f1;\n",
              "}\n",
              "</style>\n",
              "<table id=\"T_fde98\" class=\"dataframe\">\n",
              "  <thead>\n",
              "    <tr>\n",
              "      <th class=\"blank level0\" >&nbsp;</th>\n",
              "      <th id=\"T_fde98_level0_col0\" class=\"col_heading level0 col0\" >0</th>\n",
              "      <th id=\"T_fde98_level0_col1\" class=\"col_heading level0 col1\" >1</th>\n",
              "      <th id=\"T_fde98_level0_col2\" class=\"col_heading level0 col2\" >2</th>\n",
              "      <th id=\"T_fde98_level0_col3\" class=\"col_heading level0 col3\" >3</th>\n",
              "      <th id=\"T_fde98_level0_col4\" class=\"col_heading level0 col4\" >4</th>\n",
              "      <th id=\"T_fde98_level0_col5\" class=\"col_heading level0 col5\" >5</th>\n",
              "      <th id=\"T_fde98_level0_col6\" class=\"col_heading level0 col6\" >6</th>\n",
              "      <th id=\"T_fde98_level0_col7\" class=\"col_heading level0 col7\" >7</th>\n",
              "      <th id=\"T_fde98_level0_col8\" class=\"col_heading level0 col8\" >8</th>\n",
              "      <th id=\"T_fde98_level0_col9\" class=\"col_heading level0 col9\" >9</th>\n",
              "      <th id=\"T_fde98_level0_col10\" class=\"col_heading level0 col10\" >10</th>\n",
              "      <th id=\"T_fde98_level0_col11\" class=\"col_heading level0 col11\" >11</th>\n",
              "      <th id=\"T_fde98_level0_col12\" class=\"col_heading level0 col12\" >12</th>\n",
              "      <th id=\"T_fde98_level0_col13\" class=\"col_heading level0 col13\" >13</th>\n",
              "      <th id=\"T_fde98_level0_col14\" class=\"col_heading level0 col14\" >14</th>\n",
              "      <th id=\"T_fde98_level0_col15\" class=\"col_heading level0 col15\" >15</th>\n",
              "      <th id=\"T_fde98_level0_col16\" class=\"col_heading level0 col16\" >16</th>\n",
              "      <th id=\"T_fde98_level0_col17\" class=\"col_heading level0 col17\" >17</th>\n",
              "    </tr>\n",
              "  </thead>\n",
              "  <tbody>\n",
              "    <tr>\n",
              "      <th id=\"T_fde98_level0_row0\" class=\"row_heading level0 row0\" >0</th>\n",
              "      <td id=\"T_fde98_row0_col0\" class=\"data row0 col0\" >0</td>\n",
              "      <td id=\"T_fde98_row0_col1\" class=\"data row0 col1\" >0</td>\n",
              "      <td id=\"T_fde98_row0_col2\" class=\"data row0 col2\" >0</td>\n",
              "      <td id=\"T_fde98_row0_col3\" class=\"data row0 col3\" >0</td>\n",
              "      <td id=\"T_fde98_row0_col4\" class=\"data row0 col4\" >0</td>\n",
              "      <td id=\"T_fde98_row0_col5\" class=\"data row0 col5\" >0</td>\n",
              "      <td id=\"T_fde98_row0_col6\" class=\"data row0 col6\" >0</td>\n",
              "      <td id=\"T_fde98_row0_col7\" class=\"data row0 col7\" >0</td>\n",
              "      <td id=\"T_fde98_row0_col8\" class=\"data row0 col8\" >0</td>\n",
              "      <td id=\"T_fde98_row0_col9\" class=\"data row0 col9\" >0</td>\n",
              "      <td id=\"T_fde98_row0_col10\" class=\"data row0 col10\" >172</td>\n",
              "      <td id=\"T_fde98_row0_col11\" class=\"data row0 col11\" >189</td>\n",
              "      <td id=\"T_fde98_row0_col12\" class=\"data row0 col12\" >0</td>\n",
              "      <td id=\"T_fde98_row0_col13\" class=\"data row0 col13\" >0</td>\n",
              "      <td id=\"T_fde98_row0_col14\" class=\"data row0 col14\" >0</td>\n",
              "      <td id=\"T_fde98_row0_col15\" class=\"data row0 col15\" >0</td>\n",
              "      <td id=\"T_fde98_row0_col16\" class=\"data row0 col16\" >0</td>\n",
              "      <td id=\"T_fde98_row0_col17\" class=\"data row0 col17\" >0</td>\n",
              "    </tr>\n",
              "    <tr>\n",
              "      <th id=\"T_fde98_level0_row1\" class=\"row_heading level0 row1\" >1</th>\n",
              "      <td id=\"T_fde98_row1_col0\" class=\"data row1 col0\" >0</td>\n",
              "      <td id=\"T_fde98_row1_col1\" class=\"data row1 col1\" >0</td>\n",
              "      <td id=\"T_fde98_row1_col2\" class=\"data row1 col2\" >0</td>\n",
              "      <td id=\"T_fde98_row1_col3\" class=\"data row1 col3\" >0</td>\n",
              "      <td id=\"T_fde98_row1_col4\" class=\"data row1 col4\" >0</td>\n",
              "      <td id=\"T_fde98_row1_col5\" class=\"data row1 col5\" >0</td>\n",
              "      <td id=\"T_fde98_row1_col6\" class=\"data row1 col6\" >0</td>\n",
              "      <td id=\"T_fde98_row1_col7\" class=\"data row1 col7\" >0</td>\n",
              "      <td id=\"T_fde98_row1_col8\" class=\"data row1 col8\" >0</td>\n",
              "      <td id=\"T_fde98_row1_col9\" class=\"data row1 col9\" >0</td>\n",
              "      <td id=\"T_fde98_row1_col10\" class=\"data row1 col10\" >250</td>\n",
              "      <td id=\"T_fde98_row1_col11\" class=\"data row1 col11\" >149</td>\n",
              "      <td id=\"T_fde98_row1_col12\" class=\"data row1 col12\" >0</td>\n",
              "      <td id=\"T_fde98_row1_col13\" class=\"data row1 col13\" >0</td>\n",
              "      <td id=\"T_fde98_row1_col14\" class=\"data row1 col14\" >0</td>\n",
              "      <td id=\"T_fde98_row1_col15\" class=\"data row1 col15\" >0</td>\n",
              "      <td id=\"T_fde98_row1_col16\" class=\"data row1 col16\" >0</td>\n",
              "      <td id=\"T_fde98_row1_col17\" class=\"data row1 col17\" >0</td>\n",
              "    </tr>\n",
              "    <tr>\n",
              "      <th id=\"T_fde98_level0_row2\" class=\"row_heading level0 row2\" >2</th>\n",
              "      <td id=\"T_fde98_row2_col0\" class=\"data row2 col0\" >0</td>\n",
              "      <td id=\"T_fde98_row2_col1\" class=\"data row2 col1\" >0</td>\n",
              "      <td id=\"T_fde98_row2_col2\" class=\"data row2 col2\" >0</td>\n",
              "      <td id=\"T_fde98_row2_col3\" class=\"data row2 col3\" >0</td>\n",
              "      <td id=\"T_fde98_row2_col4\" class=\"data row2 col4\" >0</td>\n",
              "      <td id=\"T_fde98_row2_col5\" class=\"data row2 col5\" >0</td>\n",
              "      <td id=\"T_fde98_row2_col6\" class=\"data row2 col6\" >0</td>\n",
              "      <td id=\"T_fde98_row2_col7\" class=\"data row2 col7\" >0</td>\n",
              "      <td id=\"T_fde98_row2_col8\" class=\"data row2 col8\" >0</td>\n",
              "      <td id=\"T_fde98_row2_col9\" class=\"data row2 col9\" >0</td>\n",
              "      <td id=\"T_fde98_row2_col10\" class=\"data row2 col10\" >250</td>\n",
              "      <td id=\"T_fde98_row2_col11\" class=\"data row2 col11\" >149</td>\n",
              "      <td id=\"T_fde98_row2_col12\" class=\"data row2 col12\" >0</td>\n",
              "      <td id=\"T_fde98_row2_col13\" class=\"data row2 col13\" >0</td>\n",
              "      <td id=\"T_fde98_row2_col14\" class=\"data row2 col14\" >0</td>\n",
              "      <td id=\"T_fde98_row2_col15\" class=\"data row2 col15\" >0</td>\n",
              "      <td id=\"T_fde98_row2_col16\" class=\"data row2 col16\" >0</td>\n",
              "      <td id=\"T_fde98_row2_col17\" class=\"data row2 col17\" >0</td>\n",
              "    </tr>\n",
              "    <tr>\n",
              "      <th id=\"T_fde98_level0_row3\" class=\"row_heading level0 row3\" >3</th>\n",
              "      <td id=\"T_fde98_row3_col0\" class=\"data row3 col0\" >0</td>\n",
              "      <td id=\"T_fde98_row3_col1\" class=\"data row3 col1\" >0</td>\n",
              "      <td id=\"T_fde98_row3_col2\" class=\"data row3 col2\" >0</td>\n",
              "      <td id=\"T_fde98_row3_col3\" class=\"data row3 col3\" >0</td>\n",
              "      <td id=\"T_fde98_row3_col4\" class=\"data row3 col4\" >0</td>\n",
              "      <td id=\"T_fde98_row3_col5\" class=\"data row3 col5\" >0</td>\n",
              "      <td id=\"T_fde98_row3_col6\" class=\"data row3 col6\" >0</td>\n",
              "      <td id=\"T_fde98_row3_col7\" class=\"data row3 col7\" >0</td>\n",
              "      <td id=\"T_fde98_row3_col8\" class=\"data row3 col8\" >0</td>\n",
              "      <td id=\"T_fde98_row3_col9\" class=\"data row3 col9\" >0</td>\n",
              "      <td id=\"T_fde98_row3_col10\" class=\"data row3 col10\" >250</td>\n",
              "      <td id=\"T_fde98_row3_col11\" class=\"data row3 col11\" >149</td>\n",
              "      <td id=\"T_fde98_row3_col12\" class=\"data row3 col12\" >0</td>\n",
              "      <td id=\"T_fde98_row3_col13\" class=\"data row3 col13\" >0</td>\n",
              "      <td id=\"T_fde98_row3_col14\" class=\"data row3 col14\" >0</td>\n",
              "      <td id=\"T_fde98_row3_col15\" class=\"data row3 col15\" >0</td>\n",
              "      <td id=\"T_fde98_row3_col16\" class=\"data row3 col16\" >0</td>\n",
              "      <td id=\"T_fde98_row3_col17\" class=\"data row3 col17\" >0</td>\n",
              "    </tr>\n",
              "    <tr>\n",
              "      <th id=\"T_fde98_level0_row4\" class=\"row_heading level0 row4\" >4</th>\n",
              "      <td id=\"T_fde98_row4_col0\" class=\"data row4 col0\" >0</td>\n",
              "      <td id=\"T_fde98_row4_col1\" class=\"data row4 col1\" >0</td>\n",
              "      <td id=\"T_fde98_row4_col2\" class=\"data row4 col2\" >0</td>\n",
              "      <td id=\"T_fde98_row4_col3\" class=\"data row4 col3\" >0</td>\n",
              "      <td id=\"T_fde98_row4_col4\" class=\"data row4 col4\" >0</td>\n",
              "      <td id=\"T_fde98_row4_col5\" class=\"data row4 col5\" >0</td>\n",
              "      <td id=\"T_fde98_row4_col6\" class=\"data row4 col6\" >0</td>\n",
              "      <td id=\"T_fde98_row4_col7\" class=\"data row4 col7\" >0</td>\n",
              "      <td id=\"T_fde98_row4_col8\" class=\"data row4 col8\" >0</td>\n",
              "      <td id=\"T_fde98_row4_col9\" class=\"data row4 col9\" >0</td>\n",
              "      <td id=\"T_fde98_row4_col10\" class=\"data row4 col10\" >250</td>\n",
              "      <td id=\"T_fde98_row4_col11\" class=\"data row4 col11\" >149</td>\n",
              "      <td id=\"T_fde98_row4_col12\" class=\"data row4 col12\" >0</td>\n",
              "      <td id=\"T_fde98_row4_col13\" class=\"data row4 col13\" >0</td>\n",
              "      <td id=\"T_fde98_row4_col14\" class=\"data row4 col14\" >0</td>\n",
              "      <td id=\"T_fde98_row4_col15\" class=\"data row4 col15\" >0</td>\n",
              "      <td id=\"T_fde98_row4_col16\" class=\"data row4 col16\" >0</td>\n",
              "      <td id=\"T_fde98_row4_col17\" class=\"data row4 col17\" >0</td>\n",
              "    </tr>\n",
              "    <tr>\n",
              "      <th id=\"T_fde98_level0_row5\" class=\"row_heading level0 row5\" >5</th>\n",
              "      <td id=\"T_fde98_row5_col0\" class=\"data row5 col0\" >0</td>\n",
              "      <td id=\"T_fde98_row5_col1\" class=\"data row5 col1\" >0</td>\n",
              "      <td id=\"T_fde98_row5_col2\" class=\"data row5 col2\" >0</td>\n",
              "      <td id=\"T_fde98_row5_col3\" class=\"data row5 col3\" >0</td>\n",
              "      <td id=\"T_fde98_row5_col4\" class=\"data row5 col4\" >0</td>\n",
              "      <td id=\"T_fde98_row5_col5\" class=\"data row5 col5\" >0</td>\n",
              "      <td id=\"T_fde98_row5_col6\" class=\"data row5 col6\" >0</td>\n",
              "      <td id=\"T_fde98_row5_col7\" class=\"data row5 col7\" >0</td>\n",
              "      <td id=\"T_fde98_row5_col8\" class=\"data row5 col8\" >0</td>\n",
              "      <td id=\"T_fde98_row5_col9\" class=\"data row5 col9\" >0</td>\n",
              "      <td id=\"T_fde98_row5_col10\" class=\"data row5 col10\" >250</td>\n",
              "      <td id=\"T_fde98_row5_col11\" class=\"data row5 col11\" >149</td>\n",
              "      <td id=\"T_fde98_row5_col12\" class=\"data row5 col12\" >0</td>\n",
              "      <td id=\"T_fde98_row5_col13\" class=\"data row5 col13\" >0</td>\n",
              "      <td id=\"T_fde98_row5_col14\" class=\"data row5 col14\" >0</td>\n",
              "      <td id=\"T_fde98_row5_col15\" class=\"data row5 col15\" >0</td>\n",
              "      <td id=\"T_fde98_row5_col16\" class=\"data row5 col16\" >0</td>\n",
              "      <td id=\"T_fde98_row5_col17\" class=\"data row5 col17\" >0</td>\n",
              "    </tr>\n",
              "    <tr>\n",
              "      <th id=\"T_fde98_level0_row6\" class=\"row_heading level0 row6\" >6</th>\n",
              "      <td id=\"T_fde98_row6_col0\" class=\"data row6 col0\" >0</td>\n",
              "      <td id=\"T_fde98_row6_col1\" class=\"data row6 col1\" >0</td>\n",
              "      <td id=\"T_fde98_row6_col2\" class=\"data row6 col2\" >0</td>\n",
              "      <td id=\"T_fde98_row6_col3\" class=\"data row6 col3\" >0</td>\n",
              "      <td id=\"T_fde98_row6_col4\" class=\"data row6 col4\" >0</td>\n",
              "      <td id=\"T_fde98_row6_col5\" class=\"data row6 col5\" >0</td>\n",
              "      <td id=\"T_fde98_row6_col6\" class=\"data row6 col6\" >0</td>\n",
              "      <td id=\"T_fde98_row6_col7\" class=\"data row6 col7\" >0</td>\n",
              "      <td id=\"T_fde98_row6_col8\" class=\"data row6 col8\" >0</td>\n",
              "      <td id=\"T_fde98_row6_col9\" class=\"data row6 col9\" >0</td>\n",
              "      <td id=\"T_fde98_row6_col10\" class=\"data row6 col10\" >250</td>\n",
              "      <td id=\"T_fde98_row6_col11\" class=\"data row6 col11\" >149</td>\n",
              "      <td id=\"T_fde98_row6_col12\" class=\"data row6 col12\" >0</td>\n",
              "      <td id=\"T_fde98_row6_col13\" class=\"data row6 col13\" >0</td>\n",
              "      <td id=\"T_fde98_row6_col14\" class=\"data row6 col14\" >0</td>\n",
              "      <td id=\"T_fde98_row6_col15\" class=\"data row6 col15\" >0</td>\n",
              "      <td id=\"T_fde98_row6_col16\" class=\"data row6 col16\" >0</td>\n",
              "      <td id=\"T_fde98_row6_col17\" class=\"data row6 col17\" >0</td>\n",
              "    </tr>\n",
              "    <tr>\n",
              "      <th id=\"T_fde98_level0_row7\" class=\"row_heading level0 row7\" >7</th>\n",
              "      <td id=\"T_fde98_row7_col0\" class=\"data row7 col0\" >0</td>\n",
              "      <td id=\"T_fde98_row7_col1\" class=\"data row7 col1\" >0</td>\n",
              "      <td id=\"T_fde98_row7_col2\" class=\"data row7 col2\" >0</td>\n",
              "      <td id=\"T_fde98_row7_col3\" class=\"data row7 col3\" >0</td>\n",
              "      <td id=\"T_fde98_row7_col4\" class=\"data row7 col4\" >0</td>\n",
              "      <td id=\"T_fde98_row7_col5\" class=\"data row7 col5\" >0</td>\n",
              "      <td id=\"T_fde98_row7_col6\" class=\"data row7 col6\" >0</td>\n",
              "      <td id=\"T_fde98_row7_col7\" class=\"data row7 col7\" >0</td>\n",
              "      <td id=\"T_fde98_row7_col8\" class=\"data row7 col8\" >0</td>\n",
              "      <td id=\"T_fde98_row7_col9\" class=\"data row7 col9\" >91</td>\n",
              "      <td id=\"T_fde98_row7_col10\" class=\"data row7 col10\" >254</td>\n",
              "      <td id=\"T_fde98_row7_col11\" class=\"data row7 col11\" >55</td>\n",
              "      <td id=\"T_fde98_row7_col12\" class=\"data row7 col12\" >0</td>\n",
              "      <td id=\"T_fde98_row7_col13\" class=\"data row7 col13\" >0</td>\n",
              "      <td id=\"T_fde98_row7_col14\" class=\"data row7 col14\" >0</td>\n",
              "      <td id=\"T_fde98_row7_col15\" class=\"data row7 col15\" >0</td>\n",
              "      <td id=\"T_fde98_row7_col16\" class=\"data row7 col16\" >0</td>\n",
              "      <td id=\"T_fde98_row7_col17\" class=\"data row7 col17\" >0</td>\n",
              "    </tr>\n",
              "    <tr>\n",
              "      <th id=\"T_fde98_level0_row8\" class=\"row_heading level0 row8\" >8</th>\n",
              "      <td id=\"T_fde98_row8_col0\" class=\"data row8 col0\" >0</td>\n",
              "      <td id=\"T_fde98_row8_col1\" class=\"data row8 col1\" >0</td>\n",
              "      <td id=\"T_fde98_row8_col2\" class=\"data row8 col2\" >0</td>\n",
              "      <td id=\"T_fde98_row8_col3\" class=\"data row8 col3\" >0</td>\n",
              "      <td id=\"T_fde98_row8_col4\" class=\"data row8 col4\" >0</td>\n",
              "      <td id=\"T_fde98_row8_col5\" class=\"data row8 col5\" >0</td>\n",
              "      <td id=\"T_fde98_row8_col6\" class=\"data row8 col6\" >0</td>\n",
              "      <td id=\"T_fde98_row8_col7\" class=\"data row8 col7\" >0</td>\n",
              "      <td id=\"T_fde98_row8_col8\" class=\"data row8 col8\" >0</td>\n",
              "      <td id=\"T_fde98_row8_col9\" class=\"data row8 col9\" >96</td>\n",
              "      <td id=\"T_fde98_row8_col10\" class=\"data row8 col10\" >255</td>\n",
              "      <td id=\"T_fde98_row8_col11\" class=\"data row8 col11\" >87</td>\n",
              "      <td id=\"T_fde98_row8_col12\" class=\"data row8 col12\" >0</td>\n",
              "      <td id=\"T_fde98_row8_col13\" class=\"data row8 col13\" >0</td>\n",
              "      <td id=\"T_fde98_row8_col14\" class=\"data row8 col14\" >0</td>\n",
              "      <td id=\"T_fde98_row8_col15\" class=\"data row8 col15\" >0</td>\n",
              "      <td id=\"T_fde98_row8_col16\" class=\"data row8 col16\" >0</td>\n",
              "      <td id=\"T_fde98_row8_col17\" class=\"data row8 col17\" >0</td>\n",
              "    </tr>\n",
              "    <tr>\n",
              "      <th id=\"T_fde98_level0_row9\" class=\"row_heading level0 row9\" >9</th>\n",
              "      <td id=\"T_fde98_row9_col0\" class=\"data row9 col0\" >0</td>\n",
              "      <td id=\"T_fde98_row9_col1\" class=\"data row9 col1\" >0</td>\n",
              "      <td id=\"T_fde98_row9_col2\" class=\"data row9 col2\" >0</td>\n",
              "      <td id=\"T_fde98_row9_col3\" class=\"data row9 col3\" >0</td>\n",
              "      <td id=\"T_fde98_row9_col4\" class=\"data row9 col4\" >0</td>\n",
              "      <td id=\"T_fde98_row9_col5\" class=\"data row9 col5\" >0</td>\n",
              "      <td id=\"T_fde98_row9_col6\" class=\"data row9 col6\" >0</td>\n",
              "      <td id=\"T_fde98_row9_col7\" class=\"data row9 col7\" >0</td>\n",
              "      <td id=\"T_fde98_row9_col8\" class=\"data row9 col8\" >0</td>\n",
              "      <td id=\"T_fde98_row9_col9\" class=\"data row9 col9\" >77</td>\n",
              "      <td id=\"T_fde98_row9_col10\" class=\"data row9 col10\" >254</td>\n",
              "      <td id=\"T_fde98_row9_col11\" class=\"data row9 col11\" >149</td>\n",
              "      <td id=\"T_fde98_row9_col12\" class=\"data row9 col12\" >0</td>\n",
              "      <td id=\"T_fde98_row9_col13\" class=\"data row9 col13\" >0</td>\n",
              "      <td id=\"T_fde98_row9_col14\" class=\"data row9 col14\" >0</td>\n",
              "      <td id=\"T_fde98_row9_col15\" class=\"data row9 col15\" >0</td>\n",
              "      <td id=\"T_fde98_row9_col16\" class=\"data row9 col16\" >0</td>\n",
              "      <td id=\"T_fde98_row9_col17\" class=\"data row9 col17\" >0</td>\n",
              "    </tr>\n",
              "    <tr>\n",
              "      <th id=\"T_fde98_level0_row10\" class=\"row_heading level0 row10\" >10</th>\n",
              "      <td id=\"T_fde98_row10_col0\" class=\"data row10 col0\" >0</td>\n",
              "      <td id=\"T_fde98_row10_col1\" class=\"data row10 col1\" >0</td>\n",
              "      <td id=\"T_fde98_row10_col2\" class=\"data row10 col2\" >0</td>\n",
              "      <td id=\"T_fde98_row10_col3\" class=\"data row10 col3\" >0</td>\n",
              "      <td id=\"T_fde98_row10_col4\" class=\"data row10 col4\" >0</td>\n",
              "      <td id=\"T_fde98_row10_col5\" class=\"data row10 col5\" >0</td>\n",
              "      <td id=\"T_fde98_row10_col6\" class=\"data row10 col6\" >0</td>\n",
              "      <td id=\"T_fde98_row10_col7\" class=\"data row10 col7\" >0</td>\n",
              "      <td id=\"T_fde98_row10_col8\" class=\"data row10 col8\" >0</td>\n",
              "      <td id=\"T_fde98_row10_col9\" class=\"data row10 col9\" >0</td>\n",
              "      <td id=\"T_fde98_row10_col10\" class=\"data row10 col10\" >250</td>\n",
              "      <td id=\"T_fde98_row10_col11\" class=\"data row10 col11\" >149</td>\n",
              "      <td id=\"T_fde98_row10_col12\" class=\"data row10 col12\" >0</td>\n",
              "      <td id=\"T_fde98_row10_col13\" class=\"data row10 col13\" >0</td>\n",
              "      <td id=\"T_fde98_row10_col14\" class=\"data row10 col14\" >0</td>\n",
              "      <td id=\"T_fde98_row10_col15\" class=\"data row10 col15\" >0</td>\n",
              "      <td id=\"T_fde98_row10_col16\" class=\"data row10 col16\" >0</td>\n",
              "      <td id=\"T_fde98_row10_col17\" class=\"data row10 col17\" >0</td>\n",
              "    </tr>\n",
              "    <tr>\n",
              "      <th id=\"T_fde98_level0_row11\" class=\"row_heading level0 row11\" >11</th>\n",
              "      <td id=\"T_fde98_row11_col0\" class=\"data row11 col0\" >0</td>\n",
              "      <td id=\"T_fde98_row11_col1\" class=\"data row11 col1\" >0</td>\n",
              "      <td id=\"T_fde98_row11_col2\" class=\"data row11 col2\" >0</td>\n",
              "      <td id=\"T_fde98_row11_col3\" class=\"data row11 col3\" >0</td>\n",
              "      <td id=\"T_fde98_row11_col4\" class=\"data row11 col4\" >0</td>\n",
              "      <td id=\"T_fde98_row11_col5\" class=\"data row11 col5\" >0</td>\n",
              "      <td id=\"T_fde98_row11_col6\" class=\"data row11 col6\" >0</td>\n",
              "      <td id=\"T_fde98_row11_col7\" class=\"data row11 col7\" >0</td>\n",
              "      <td id=\"T_fde98_row11_col8\" class=\"data row11 col8\" >0</td>\n",
              "      <td id=\"T_fde98_row11_col9\" class=\"data row11 col9\" >0</td>\n",
              "      <td id=\"T_fde98_row11_col10\" class=\"data row11 col10\" >250</td>\n",
              "      <td id=\"T_fde98_row11_col11\" class=\"data row11 col11\" >149</td>\n",
              "      <td id=\"T_fde98_row11_col12\" class=\"data row11 col12\" >0</td>\n",
              "      <td id=\"T_fde98_row11_col13\" class=\"data row11 col13\" >0</td>\n",
              "      <td id=\"T_fde98_row11_col14\" class=\"data row11 col14\" >0</td>\n",
              "      <td id=\"T_fde98_row11_col15\" class=\"data row11 col15\" >0</td>\n",
              "      <td id=\"T_fde98_row11_col16\" class=\"data row11 col16\" >0</td>\n",
              "      <td id=\"T_fde98_row11_col17\" class=\"data row11 col17\" >0</td>\n",
              "    </tr>\n",
              "    <tr>\n",
              "      <th id=\"T_fde98_level0_row12\" class=\"row_heading level0 row12\" >12</th>\n",
              "      <td id=\"T_fde98_row12_col0\" class=\"data row12 col0\" >0</td>\n",
              "      <td id=\"T_fde98_row12_col1\" class=\"data row12 col1\" >0</td>\n",
              "      <td id=\"T_fde98_row12_col2\" class=\"data row12 col2\" >0</td>\n",
              "      <td id=\"T_fde98_row12_col3\" class=\"data row12 col3\" >0</td>\n",
              "      <td id=\"T_fde98_row12_col4\" class=\"data row12 col4\" >0</td>\n",
              "      <td id=\"T_fde98_row12_col5\" class=\"data row12 col5\" >0</td>\n",
              "      <td id=\"T_fde98_row12_col6\" class=\"data row12 col6\" >0</td>\n",
              "      <td id=\"T_fde98_row12_col7\" class=\"data row12 col7\" >0</td>\n",
              "      <td id=\"T_fde98_row12_col8\" class=\"data row12 col8\" >0</td>\n",
              "      <td id=\"T_fde98_row12_col9\" class=\"data row12 col9\" >0</td>\n",
              "      <td id=\"T_fde98_row12_col10\" class=\"data row12 col10\" >250</td>\n",
              "      <td id=\"T_fde98_row12_col11\" class=\"data row12 col11\" >155</td>\n",
              "      <td id=\"T_fde98_row12_col12\" class=\"data row12 col12\" >0</td>\n",
              "      <td id=\"T_fde98_row12_col13\" class=\"data row12 col13\" >0</td>\n",
              "      <td id=\"T_fde98_row12_col14\" class=\"data row12 col14\" >0</td>\n",
              "      <td id=\"T_fde98_row12_col15\" class=\"data row12 col15\" >0</td>\n",
              "      <td id=\"T_fde98_row12_col16\" class=\"data row12 col16\" >0</td>\n",
              "      <td id=\"T_fde98_row12_col17\" class=\"data row12 col17\" >0</td>\n",
              "    </tr>\n",
              "    <tr>\n",
              "      <th id=\"T_fde98_level0_row13\" class=\"row_heading level0 row13\" >13</th>\n",
              "      <td id=\"T_fde98_row13_col0\" class=\"data row13 col0\" >0</td>\n",
              "      <td id=\"T_fde98_row13_col1\" class=\"data row13 col1\" >0</td>\n",
              "      <td id=\"T_fde98_row13_col2\" class=\"data row13 col2\" >0</td>\n",
              "      <td id=\"T_fde98_row13_col3\" class=\"data row13 col3\" >0</td>\n",
              "      <td id=\"T_fde98_row13_col4\" class=\"data row13 col4\" >0</td>\n",
              "      <td id=\"T_fde98_row13_col5\" class=\"data row13 col5\" >0</td>\n",
              "      <td id=\"T_fde98_row13_col6\" class=\"data row13 col6\" >0</td>\n",
              "      <td id=\"T_fde98_row13_col7\" class=\"data row13 col7\" >0</td>\n",
              "      <td id=\"T_fde98_row13_col8\" class=\"data row13 col8\" >0</td>\n",
              "      <td id=\"T_fde98_row13_col9\" class=\"data row13 col9\" >0</td>\n",
              "      <td id=\"T_fde98_row13_col10\" class=\"data row13 col10\" >183</td>\n",
              "      <td id=\"T_fde98_row13_col11\" class=\"data row13 col11\" >249</td>\n",
              "      <td id=\"T_fde98_row13_col12\" class=\"data row13 col12\" >0</td>\n",
              "      <td id=\"T_fde98_row13_col13\" class=\"data row13 col13\" >0</td>\n",
              "      <td id=\"T_fde98_row13_col14\" class=\"data row13 col14\" >0</td>\n",
              "      <td id=\"T_fde98_row13_col15\" class=\"data row13 col15\" >0</td>\n",
              "      <td id=\"T_fde98_row13_col16\" class=\"data row13 col16\" >0</td>\n",
              "      <td id=\"T_fde98_row13_col17\" class=\"data row13 col17\" >0</td>\n",
              "    </tr>\n",
              "    <tr>\n",
              "      <th id=\"T_fde98_level0_row14\" class=\"row_heading level0 row14\" >14</th>\n",
              "      <td id=\"T_fde98_row14_col0\" class=\"data row14 col0\" >0</td>\n",
              "      <td id=\"T_fde98_row14_col1\" class=\"data row14 col1\" >0</td>\n",
              "      <td id=\"T_fde98_row14_col2\" class=\"data row14 col2\" >0</td>\n",
              "      <td id=\"T_fde98_row14_col3\" class=\"data row14 col3\" >0</td>\n",
              "      <td id=\"T_fde98_row14_col4\" class=\"data row14 col4\" >0</td>\n",
              "      <td id=\"T_fde98_row14_col5\" class=\"data row14 col5\" >0</td>\n",
              "      <td id=\"T_fde98_row14_col6\" class=\"data row14 col6\" >0</td>\n",
              "      <td id=\"T_fde98_row14_col7\" class=\"data row14 col7\" >0</td>\n",
              "      <td id=\"T_fde98_row14_col8\" class=\"data row14 col8\" >0</td>\n",
              "      <td id=\"T_fde98_row14_col9\" class=\"data row14 col9\" >0</td>\n",
              "      <td id=\"T_fde98_row14_col10\" class=\"data row14 col10\" >150</td>\n",
              "      <td id=\"T_fde98_row14_col11\" class=\"data row14 col11\" >252</td>\n",
              "      <td id=\"T_fde98_row14_col12\" class=\"data row14 col12\" >47</td>\n",
              "      <td id=\"T_fde98_row14_col13\" class=\"data row14 col13\" >0</td>\n",
              "      <td id=\"T_fde98_row14_col14\" class=\"data row14 col14\" >0</td>\n",
              "      <td id=\"T_fde98_row14_col15\" class=\"data row14 col15\" >0</td>\n",
              "      <td id=\"T_fde98_row14_col16\" class=\"data row14 col16\" >0</td>\n",
              "      <td id=\"T_fde98_row14_col17\" class=\"data row14 col17\" >0</td>\n",
              "    </tr>\n",
              "    <tr>\n",
              "      <th id=\"T_fde98_level0_row15\" class=\"row_heading level0 row15\" >15</th>\n",
              "      <td id=\"T_fde98_row15_col0\" class=\"data row15 col0\" >0</td>\n",
              "      <td id=\"T_fde98_row15_col1\" class=\"data row15 col1\" >0</td>\n",
              "      <td id=\"T_fde98_row15_col2\" class=\"data row15 col2\" >0</td>\n",
              "      <td id=\"T_fde98_row15_col3\" class=\"data row15 col3\" >0</td>\n",
              "      <td id=\"T_fde98_row15_col4\" class=\"data row15 col4\" >0</td>\n",
              "      <td id=\"T_fde98_row15_col5\" class=\"data row15 col5\" >0</td>\n",
              "      <td id=\"T_fde98_row15_col6\" class=\"data row15 col6\" >0</td>\n",
              "      <td id=\"T_fde98_row15_col7\" class=\"data row15 col7\" >0</td>\n",
              "      <td id=\"T_fde98_row15_col8\" class=\"data row15 col8\" >0</td>\n",
              "      <td id=\"T_fde98_row15_col9\" class=\"data row15 col9\" >0</td>\n",
              "      <td id=\"T_fde98_row15_col10\" class=\"data row15 col10\" >150</td>\n",
              "      <td id=\"T_fde98_row15_col11\" class=\"data row15 col11\" >254</td>\n",
              "      <td id=\"T_fde98_row15_col12\" class=\"data row15 col12\" >95</td>\n",
              "      <td id=\"T_fde98_row15_col13\" class=\"data row15 col13\" >0</td>\n",
              "      <td id=\"T_fde98_row15_col14\" class=\"data row15 col14\" >0</td>\n",
              "      <td id=\"T_fde98_row15_col15\" class=\"data row15 col15\" >0</td>\n",
              "      <td id=\"T_fde98_row15_col16\" class=\"data row15 col16\" >0</td>\n",
              "      <td id=\"T_fde98_row15_col17\" class=\"data row15 col17\" >0</td>\n",
              "    </tr>\n",
              "    <tr>\n",
              "      <th id=\"T_fde98_level0_row16\" class=\"row_heading level0 row16\" >16</th>\n",
              "      <td id=\"T_fde98_row16_col0\" class=\"data row16 col0\" >0</td>\n",
              "      <td id=\"T_fde98_row16_col1\" class=\"data row16 col1\" >0</td>\n",
              "      <td id=\"T_fde98_row16_col2\" class=\"data row16 col2\" >0</td>\n",
              "      <td id=\"T_fde98_row16_col3\" class=\"data row16 col3\" >0</td>\n",
              "      <td id=\"T_fde98_row16_col4\" class=\"data row16 col4\" >0</td>\n",
              "      <td id=\"T_fde98_row16_col5\" class=\"data row16 col5\" >0</td>\n",
              "      <td id=\"T_fde98_row16_col6\" class=\"data row16 col6\" >0</td>\n",
              "      <td id=\"T_fde98_row16_col7\" class=\"data row16 col7\" >0</td>\n",
              "      <td id=\"T_fde98_row16_col8\" class=\"data row16 col8\" >0</td>\n",
              "      <td id=\"T_fde98_row16_col9\" class=\"data row16 col9\" >0</td>\n",
              "      <td id=\"T_fde98_row16_col10\" class=\"data row16 col10\" >150</td>\n",
              "      <td id=\"T_fde98_row16_col11\" class=\"data row16 col11\" >254</td>\n",
              "      <td id=\"T_fde98_row16_col12\" class=\"data row16 col12\" >82</td>\n",
              "      <td id=\"T_fde98_row16_col13\" class=\"data row16 col13\" >0</td>\n",
              "      <td id=\"T_fde98_row16_col14\" class=\"data row16 col14\" >0</td>\n",
              "      <td id=\"T_fde98_row16_col15\" class=\"data row16 col15\" >0</td>\n",
              "      <td id=\"T_fde98_row16_col16\" class=\"data row16 col16\" >0</td>\n",
              "      <td id=\"T_fde98_row16_col17\" class=\"data row16 col17\" >0</td>\n",
              "    </tr>\n",
              "    <tr>\n",
              "      <th id=\"T_fde98_level0_row17\" class=\"row_heading level0 row17\" >17</th>\n",
              "      <td id=\"T_fde98_row17_col0\" class=\"data row17 col0\" >0</td>\n",
              "      <td id=\"T_fde98_row17_col1\" class=\"data row17 col1\" >0</td>\n",
              "      <td id=\"T_fde98_row17_col2\" class=\"data row17 col2\" >0</td>\n",
              "      <td id=\"T_fde98_row17_col3\" class=\"data row17 col3\" >0</td>\n",
              "      <td id=\"T_fde98_row17_col4\" class=\"data row17 col4\" >0</td>\n",
              "      <td id=\"T_fde98_row17_col5\" class=\"data row17 col5\" >0</td>\n",
              "      <td id=\"T_fde98_row17_col6\" class=\"data row17 col6\" >0</td>\n",
              "      <td id=\"T_fde98_row17_col7\" class=\"data row17 col7\" >0</td>\n",
              "      <td id=\"T_fde98_row17_col8\" class=\"data row17 col8\" >0</td>\n",
              "      <td id=\"T_fde98_row17_col9\" class=\"data row17 col9\" >0</td>\n",
              "      <td id=\"T_fde98_row17_col10\" class=\"data row17 col10\" >225</td>\n",
              "      <td id=\"T_fde98_row17_col11\" class=\"data row17 col11\" >249</td>\n",
              "      <td id=\"T_fde98_row17_col12\" class=\"data row17 col12\" >0</td>\n",
              "      <td id=\"T_fde98_row17_col13\" class=\"data row17 col13\" >0</td>\n",
              "      <td id=\"T_fde98_row17_col14\" class=\"data row17 col14\" >0</td>\n",
              "      <td id=\"T_fde98_row17_col15\" class=\"data row17 col15\" >0</td>\n",
              "      <td id=\"T_fde98_row17_col16\" class=\"data row17 col16\" >0</td>\n",
              "      <td id=\"T_fde98_row17_col17\" class=\"data row17 col17\" >0</td>\n",
              "    </tr>\n",
              "    <tr>\n",
              "      <th id=\"T_fde98_level0_row18\" class=\"row_heading level0 row18\" >18</th>\n",
              "      <td id=\"T_fde98_row18_col0\" class=\"data row18 col0\" >0</td>\n",
              "      <td id=\"T_fde98_row18_col1\" class=\"data row18 col1\" >0</td>\n",
              "      <td id=\"T_fde98_row18_col2\" class=\"data row18 col2\" >0</td>\n",
              "      <td id=\"T_fde98_row18_col3\" class=\"data row18 col3\" >0</td>\n",
              "      <td id=\"T_fde98_row18_col4\" class=\"data row18 col4\" >0</td>\n",
              "      <td id=\"T_fde98_row18_col5\" class=\"data row18 col5\" >0</td>\n",
              "      <td id=\"T_fde98_row18_col6\" class=\"data row18 col6\" >0</td>\n",
              "      <td id=\"T_fde98_row18_col7\" class=\"data row18 col7\" >0</td>\n",
              "      <td id=\"T_fde98_row18_col8\" class=\"data row18 col8\" >0</td>\n",
              "      <td id=\"T_fde98_row18_col9\" class=\"data row18 col9\" >0</td>\n",
              "      <td id=\"T_fde98_row18_col10\" class=\"data row18 col10\" >250</td>\n",
              "      <td id=\"T_fde98_row18_col11\" class=\"data row18 col11\" >192</td>\n",
              "      <td id=\"T_fde98_row18_col12\" class=\"data row18 col12\" >0</td>\n",
              "      <td id=\"T_fde98_row18_col13\" class=\"data row18 col13\" >0</td>\n",
              "      <td id=\"T_fde98_row18_col14\" class=\"data row18 col14\" >0</td>\n",
              "      <td id=\"T_fde98_row18_col15\" class=\"data row18 col15\" >0</td>\n",
              "      <td id=\"T_fde98_row18_col16\" class=\"data row18 col16\" >0</td>\n",
              "      <td id=\"T_fde98_row18_col17\" class=\"data row18 col17\" >0</td>\n",
              "    </tr>\n",
              "    <tr>\n",
              "      <th id=\"T_fde98_level0_row19\" class=\"row_heading level0 row19\" >19</th>\n",
              "      <td id=\"T_fde98_row19_col0\" class=\"data row19 col0\" >0</td>\n",
              "      <td id=\"T_fde98_row19_col1\" class=\"data row19 col1\" >0</td>\n",
              "      <td id=\"T_fde98_row19_col2\" class=\"data row19 col2\" >0</td>\n",
              "      <td id=\"T_fde98_row19_col3\" class=\"data row19 col3\" >0</td>\n",
              "      <td id=\"T_fde98_row19_col4\" class=\"data row19 col4\" >0</td>\n",
              "      <td id=\"T_fde98_row19_col5\" class=\"data row19 col5\" >0</td>\n",
              "      <td id=\"T_fde98_row19_col6\" class=\"data row19 col6\" >0</td>\n",
              "      <td id=\"T_fde98_row19_col7\" class=\"data row19 col7\" >0</td>\n",
              "      <td id=\"T_fde98_row19_col8\" class=\"data row19 col8\" >0</td>\n",
              "      <td id=\"T_fde98_row19_col9\" class=\"data row19 col9\" >0</td>\n",
              "      <td id=\"T_fde98_row19_col10\" class=\"data row19 col10\" >250</td>\n",
              "      <td id=\"T_fde98_row19_col11\" class=\"data row19 col11\" >149</td>\n",
              "      <td id=\"T_fde98_row19_col12\" class=\"data row19 col12\" >0</td>\n",
              "      <td id=\"T_fde98_row19_col13\" class=\"data row19 col13\" >0</td>\n",
              "      <td id=\"T_fde98_row19_col14\" class=\"data row19 col14\" >0</td>\n",
              "      <td id=\"T_fde98_row19_col15\" class=\"data row19 col15\" >0</td>\n",
              "      <td id=\"T_fde98_row19_col16\" class=\"data row19 col16\" >0</td>\n",
              "      <td id=\"T_fde98_row19_col17\" class=\"data row19 col17\" >0</td>\n",
              "    </tr>\n",
              "    <tr>\n",
              "      <th id=\"T_fde98_level0_row20\" class=\"row_heading level0 row20\" >20</th>\n",
              "      <td id=\"T_fde98_row20_col0\" class=\"data row20 col0\" >0</td>\n",
              "      <td id=\"T_fde98_row20_col1\" class=\"data row20 col1\" >0</td>\n",
              "      <td id=\"T_fde98_row20_col2\" class=\"data row20 col2\" >0</td>\n",
              "      <td id=\"T_fde98_row20_col3\" class=\"data row20 col3\" >0</td>\n",
              "      <td id=\"T_fde98_row20_col4\" class=\"data row20 col4\" >0</td>\n",
              "      <td id=\"T_fde98_row20_col5\" class=\"data row20 col5\" >0</td>\n",
              "      <td id=\"T_fde98_row20_col6\" class=\"data row20 col6\" >0</td>\n",
              "      <td id=\"T_fde98_row20_col7\" class=\"data row20 col7\" >0</td>\n",
              "      <td id=\"T_fde98_row20_col8\" class=\"data row20 col8\" >0</td>\n",
              "      <td id=\"T_fde98_row20_col9\" class=\"data row20 col9\" >0</td>\n",
              "      <td id=\"T_fde98_row20_col10\" class=\"data row20 col10\" >0</td>\n",
              "      <td id=\"T_fde98_row20_col11\" class=\"data row20 col11\" >0</td>\n",
              "      <td id=\"T_fde98_row20_col12\" class=\"data row20 col12\" >0</td>\n",
              "      <td id=\"T_fde98_row20_col13\" class=\"data row20 col13\" >0</td>\n",
              "      <td id=\"T_fde98_row20_col14\" class=\"data row20 col14\" >0</td>\n",
              "      <td id=\"T_fde98_row20_col15\" class=\"data row20 col15\" >0</td>\n",
              "      <td id=\"T_fde98_row20_col16\" class=\"data row20 col16\" >0</td>\n",
              "      <td id=\"T_fde98_row20_col17\" class=\"data row20 col17\" >0</td>\n",
              "    </tr>\n",
              "  </tbody>\n",
              "</table>\n"
            ]
          },
          "metadata": {},
          "execution_count": 9
        }
      ]
    },
    {
      "cell_type": "code",
      "source": [
        "one_tensors = [tensor(Image.open(o)) for o in ones]\n",
        "len(one_tensors)"
      ],
      "metadata": {
        "colab": {
          "base_uri": "https://localhost:8080/"
        },
        "id": "2ap60vYvtswN",
        "outputId": "6f104968-000f-49c3-fc03-c755ddc0a681"
      },
      "execution_count": null,
      "outputs": [
        {
          "output_type": "execute_result",
          "data": {
            "text/plain": [
              "6742"
            ]
          },
          "metadata": {},
          "execution_count": 10
        }
      ]
    },
    {
      "cell_type": "code",
      "source": [
        "show_image(one_tensors[1])"
      ],
      "metadata": {
        "colab": {
          "base_uri": "https://localhost:8080/",
          "height": 131
        },
        "id": "tqIHQidIt9wG",
        "outputId": "46f7044d-b5b8-4f2e-c468-6e1a41fca98c"
      },
      "execution_count": null,
      "outputs": [
        {
          "output_type": "execute_result",
          "data": {
            "text/plain": [
              "<Axes: >"
            ]
          },
          "metadata": {},
          "execution_count": 11
        },
        {
          "output_type": "display_data",
          "data": {
            "text/plain": [
              "<Figure size 100x100 with 1 Axes>"
            ],
            "image/png": "[encoded data removed]"
          },
          "metadata": {}
        }
      ]
    },
    {
      "cell_type": "code",
      "source": [
        "stacked_ones = torch.stack(one_tensors).float()/255\n",
        "stacked_ones.shape"
      ],
      "metadata": {
        "colab": {
          "base_uri": "https://localhost:8080/"
        },
        "id": "dwUkarMQuSqC",
        "outputId": "7094e738-437c-42ec-e3b4-7fa4ad94073e"
      },
      "execution_count": null,
      "outputs": [
        {
          "output_type": "execute_result",
          "data": {
            "text/plain": [
              "torch.Size([6742, 28, 28])"
            ]
          },
          "metadata": {},
          "execution_count": 12
        }
      ]
    },
    {
      "cell_type": "code",
      "source": [
        "stacked_ones.ndim"
      ],
      "metadata": {
        "colab": {
          "base_uri": "https://localhost:8080/"
        },
        "id": "eRldo3gtuxyX",
        "outputId": "40f9a04a-4305-48db-9cec-cace7543ddff"
      },
      "execution_count": null,
      "outputs": [
        {
          "output_type": "execute_result",
          "data": {
            "text/plain": [
              "3"
            ]
          },
          "metadata": {},
          "execution_count": 13
        }
      ]
    },
    {
      "cell_type": "code",
      "source": [
        "mean1 = stacked_ones.mean(0)\n",
        "show_image(mean1)"
      ],
      "metadata": {
        "colab": {
          "base_uri": "https://localhost:8080/",
          "height": 131
        },
        "id": "NXBpA335vTg6",
        "outputId": "b862844d-a480-473d-ad28-414d15469c42"
      },
      "execution_count": null,
      "outputs": [
        {
          "output_type": "execute_result",
          "data": {
            "text/plain": [
              "<Axes: >"
            ]
          },
          "metadata": {},
          "execution_count": 14
        },
        {
          "output_type": "display_data",
          "data": {
            "text/plain": [
              "<Figure size 100x100 with 1 Axes>"
            ],
            "image/png": "[encoded data removed]"
          },
          "metadata": {}
        }
      ]
    },
    {
      "cell_type": "code",
      "source": [
        "# take a sample 1\n",
        "\n",
        "a_1 = stacked_ones[1]\n",
        "show_image(a_1)"
      ],
      "metadata": {
        "colab": {
          "base_uri": "https://localhost:8080/",
          "height": 131
        },
        "id": "XIeBGHyMvnMv",
        "outputId": "78d4ab34-d8a5-4085-d00d-8e0012c667d2"
      },
      "execution_count": null,
      "outputs": [
        {
          "output_type": "execute_result",
          "data": {
            "text/plain": [
              "<Axes: >"
            ]
          },
          "metadata": {},
          "execution_count": 15
        },
        {
          "output_type": "display_data",
          "data": {
            "text/plain": [
              "<Figure size 100x100 with 1 Axes>"
            ],
            "image/png": "[encoded data removed]"
          },
          "metadata": {}
        }
      ]
    },
    {
      "cell_type": "code",
      "source": [
        "# try zeroes\n",
        "zeroes = (path/'training'/'0').ls().sorted() # show the list of images"
      ],
      "metadata": {
        "id": "KB6bJjkrvzjO"
      },
      "execution_count": null,
      "outputs": []
    },
    {
      "cell_type": "code",
      "source": [
        "im0_path = zeroes[1] # view a sample image\n",
        "im0 = Image.open(im0_path)\n",
        "im0"
      ],
      "metadata": {
        "colab": {
          "base_uri": "https://localhost:8080/",
          "height": 45
        },
        "outputId": "eefed0e5-f8ef-403b-bf9b-4b30fed0e3ba",
        "id": "w8lEX5f6yeGV"
      },
      "execution_count": null,
      "outputs": [
        {
          "output_type": "execute_result",
          "data": {
            "text/plain": [
              "<PIL.PngImagePlugin.PngImageFile image mode=L size=28x28>"
            ],
            "image/png": "[encoded data removed]"
          },
          "metadata": {},
          "execution_count": 17
        }
      ]
    },
    {
      "cell_type": "code",
      "source": [
        "im0_t = tensor(im0)\n",
        "df = pd.DataFrame(im0_t[4:25,4:22])\n",
        "df.style.set_properties(**{'font-size':'6pt'}).background_gradient('Greys')"
      ],
      "metadata": {
        "colab": {
          "base_uri": "https://localhost:8080/",
          "height": 707
        },
        "id": "9ySzTKNHy1mF",
        "outputId": "756d8fe2-a246-42af-aee2-98090a734dab"
      },
      "execution_count": null,
      "outputs": [
        {
          "output_type": "execute_result",
          "data": {
            "text/plain": [
              "<pandas.io.formats.style.Styler at 0x7fdcb8ec81c0>"
            ],
            "text/html": [
              "<style type=\"text/css\">\n",
              "#T_eb3ca_row0_col0, #T_eb3ca_row0_col1, #T_eb3ca_row0_col2, #T_eb3ca_row0_col3, #T_eb3ca_row0_col4, #T_eb3ca_row0_col5, #T_eb3ca_row0_col6, #T_eb3ca_row0_col7, #T_eb3ca_row0_col8, #T_eb3ca_row0_col9, #T_eb3ca_row0_col10, #T_eb3ca_row0_col11, #T_eb3ca_row0_col12, #T_eb3ca_row0_col13, #T_eb3ca_row0_col14, #T_eb3ca_row0_col15, #T_eb3ca_row0_col16, #T_eb3ca_row0_col17, #T_eb3ca_row1_col0, #T_eb3ca_row1_col1, #T_eb3ca_row1_col2, #T_eb3ca_row1_col3, #T_eb3ca_row1_col4, #T_eb3ca_row1_col5, #T_eb3ca_row1_col6, #T_eb3ca_row1_col7, #T_eb3ca_row1_col8, #T_eb3ca_row1_col9, #T_eb3ca_row1_col17, #T_eb3ca_row2_col0, #T_eb3ca_row2_col1, #T_eb3ca_row2_col2, #T_eb3ca_row2_col3, #T_eb3ca_row2_col4, #T_eb3ca_row2_col5, #T_eb3ca_row2_col6, #T_eb3ca_row2_col7, #T_eb3ca_row2_col17, #T_eb3ca_row3_col0, #T_eb3ca_row3_col1, #T_eb3ca_row3_col2, #T_eb3ca_row3_col3, #T_eb3ca_row3_col4, #T_eb3ca_row3_col5, #T_eb3ca_row3_col6, #T_eb3ca_row3_col17, #T_eb3ca_row4_col0, #T_eb3ca_row4_col1, #T_eb3ca_row4_col2, #T_eb3ca_row4_col3, #T_eb3ca_row4_col4, #T_eb3ca_row4_col5, #T_eb3ca_row4_col11, #T_eb3ca_row4_col12, #T_eb3ca_row4_col13, #T_eb3ca_row5_col0, #T_eb3ca_row5_col1, #T_eb3ca_row5_col2, #T_eb3ca_row5_col3, #T_eb3ca_row5_col4, #T_eb3ca_row5_col10, #T_eb3ca_row5_col11, #T_eb3ca_row5_col12, #T_eb3ca_row5_col13, #T_eb3ca_row6_col0, #T_eb3ca_row6_col1, #T_eb3ca_row6_col2, #T_eb3ca_row6_col3, #T_eb3ca_row6_col4, #T_eb3ca_row6_col9, #T_eb3ca_row6_col10, #T_eb3ca_row6_col11, #T_eb3ca_row6_col12, #T_eb3ca_row6_col13, #T_eb3ca_row6_col14, #T_eb3ca_row7_col0, #T_eb3ca_row7_col1, #T_eb3ca_row7_col2, #T_eb3ca_row7_col3, #T_eb3ca_row7_col4, #T_eb3ca_row7_col9, #T_eb3ca_row7_col10, #T_eb3ca_row7_col11, #T_eb3ca_row7_col12, #T_eb3ca_row7_col13, #T_eb3ca_row7_col14, #T_eb3ca_row8_col0, #T_eb3ca_row8_col1, #T_eb3ca_row8_col2, #T_eb3ca_row8_col3, #T_eb3ca_row8_col4, #T_eb3ca_row8_col8, #T_eb3ca_row8_col9, #T_eb3ca_row8_col10, #T_eb3ca_row8_col11, #T_eb3ca_row8_col12, #T_eb3ca_row8_col13, #T_eb3ca_row8_col14, #T_eb3ca_row9_col0, #T_eb3ca_row9_col1, #T_eb3ca_row9_col2, #T_eb3ca_row9_col3, #T_eb3ca_row9_col8, #T_eb3ca_row9_col9, #T_eb3ca_row9_col10, #T_eb3ca_row9_col11, #T_eb3ca_row9_col12, #T_eb3ca_row9_col13, #T_eb3ca_row10_col0, #T_eb3ca_row10_col1, #T_eb3ca_row10_col2, #T_eb3ca_row10_col3, #T_eb3ca_row10_col8, #T_eb3ca_row10_col9, #T_eb3ca_row10_col10, #T_eb3ca_row10_col11, #T_eb3ca_row10_col12, #T_eb3ca_row10_col13, #T_eb3ca_row11_col0, #T_eb3ca_row11_col1, #T_eb3ca_row11_col2, #T_eb3ca_row11_col3, #T_eb3ca_row11_col8, #T_eb3ca_row11_col9, #T_eb3ca_row11_col10, #T_eb3ca_row11_col11, #T_eb3ca_row11_col12, #T_eb3ca_row11_col13, #T_eb3ca_row11_col17, #T_eb3ca_row12_col0, #T_eb3ca_row12_col1, #T_eb3ca_row12_col2, #T_eb3ca_row12_col3, #T_eb3ca_row12_col8, #T_eb3ca_row12_col9, #T_eb3ca_row12_col10, #T_eb3ca_row12_col11, #T_eb3ca_row12_col12, #T_eb3ca_row12_col13, #T_eb3ca_row12_col17, #T_eb3ca_row13_col0, #T_eb3ca_row13_col1, #T_eb3ca_row13_col2, #T_eb3ca_row13_col3, #T_eb3ca_row13_col8, #T_eb3ca_row13_col9, #T_eb3ca_row13_col10, #T_eb3ca_row13_col11, #T_eb3ca_row13_col12, #T_eb3ca_row13_col17, #T_eb3ca_row14_col0, #T_eb3ca_row14_col1, #T_eb3ca_row14_col2, #T_eb3ca_row14_col3, #T_eb3ca_row14_col4, #T_eb3ca_row14_col8, #T_eb3ca_row14_col9, #T_eb3ca_row14_col10, #T_eb3ca_row14_col11, #T_eb3ca_row14_col12, #T_eb3ca_row14_col17, #T_eb3ca_row15_col0, #T_eb3ca_row15_col1, #T_eb3ca_row15_col2, #T_eb3ca_row15_col3, #T_eb3ca_row15_col4, #T_eb3ca_row15_col8, #T_eb3ca_row15_col9, #T_eb3ca_row15_col10, #T_eb3ca_row15_col11, #T_eb3ca_row15_col16, #T_eb3ca_row15_col17, #T_eb3ca_row16_col0, #T_eb3ca_row16_col1, #T_eb3ca_row16_col2, #T_eb3ca_row16_col3, #T_eb3ca_row16_col4, #T_eb3ca_row16_col8, #T_eb3ca_row16_col9, #T_eb3ca_row16_col10, #T_eb3ca_row16_col15, #T_eb3ca_row16_col16, #T_eb3ca_row16_col17, #T_eb3ca_row17_col0, #T_eb3ca_row17_col1, #T_eb3ca_row17_col2, #T_eb3ca_row17_col3, #T_eb3ca_row17_col4, #T_eb3ca_row17_col9, #T_eb3ca_row17_col10, #T_eb3ca_row17_col15, #T_eb3ca_row17_col16, #T_eb3ca_row17_col17, #T_eb3ca_row18_col0, #T_eb3ca_row18_col1, #T_eb3ca_row18_col2, #T_eb3ca_row18_col3, #T_eb3ca_row18_col4, #T_eb3ca_row18_col14, #T_eb3ca_row18_col15, #T_eb3ca_row18_col16, #T_eb3ca_row18_col17, #T_eb3ca_row19_col0, #T_eb3ca_row19_col1, #T_eb3ca_row19_col2, #T_eb3ca_row19_col3, #T_eb3ca_row19_col4, #T_eb3ca_row19_col5, #T_eb3ca_row19_col14, #T_eb3ca_row19_col15, #T_eb3ca_row19_col16, #T_eb3ca_row19_col17, #T_eb3ca_row20_col0, #T_eb3ca_row20_col1, #T_eb3ca_row20_col2, #T_eb3ca_row20_col3, #T_eb3ca_row20_col4, #T_eb3ca_row20_col5, #T_eb3ca_row20_col6, #T_eb3ca_row20_col13, #T_eb3ca_row20_col14, #T_eb3ca_row20_col15, #T_eb3ca_row20_col16, #T_eb3ca_row20_col17 {\n",
              "  font-size: 6pt;\n",
              "  background-color: #ffffff;\n",
              "  color: #000000;\n",
              "}\n",
              "#T_eb3ca_row1_col10, #T_eb3ca_row15_col7 {\n",
              "  font-size: 6pt;\n",
              "  background-color: #ededed;\n",
              "  color: #000000;\n",
              "}\n",
              "#T_eb3ca_row1_col11 {\n",
              "  font-size: 6pt;\n",
              "  background-color: #818181;\n",
              "  color: #f1f1f1;\n",
              "}\n",
              "#T_eb3ca_row1_col12, #T_eb3ca_row1_col13, #T_eb3ca_row2_col11, #T_eb3ca_row2_col12, #T_eb3ca_row2_col14, #T_eb3ca_row2_col15, #T_eb3ca_row3_col9, #T_eb3ca_row3_col10, #T_eb3ca_row3_col15, #T_eb3ca_row4_col8, #T_eb3ca_row4_col15, #T_eb3ca_row5_col7, #T_eb3ca_row5_col16, #T_eb3ca_row5_col17, #T_eb3ca_row6_col6, #T_eb3ca_row6_col7, #T_eb3ca_row6_col16, #T_eb3ca_row6_col17, #T_eb3ca_row7_col6, #T_eb3ca_row7_col16, #T_eb3ca_row7_col17, #T_eb3ca_row8_col6, #T_eb3ca_row8_col16, #T_eb3ca_row8_col17, #T_eb3ca_row9_col6, #T_eb3ca_row9_col16, #T_eb3ca_row9_col17, #T_eb3ca_row10_col4, #T_eb3ca_row10_col5, #T_eb3ca_row10_col6, #T_eb3ca_row10_col15, #T_eb3ca_row11_col4, #T_eb3ca_row11_col5, #T_eb3ca_row11_col6, #T_eb3ca_row11_col15, #T_eb3ca_row12_col4, #T_eb3ca_row12_col5, #T_eb3ca_row12_col6, #T_eb3ca_row12_col15, #T_eb3ca_row13_col6, #T_eb3ca_row13_col15, #T_eb3ca_row14_col6, #T_eb3ca_row14_col14, #T_eb3ca_row15_col6, #T_eb3ca_row16_col6, #T_eb3ca_row17_col6, #T_eb3ca_row17_col12, #T_eb3ca_row18_col7, #T_eb3ca_row18_col12, #T_eb3ca_row19_col8, #T_eb3ca_row19_col11, #T_eb3ca_row20_col9, #T_eb3ca_row20_col10 {\n",
              "  font-size: 6pt;\n",
              "  background-color: #000000;\n",
              "  color: #f1f1f1;\n",
              "}\n",
              "#T_eb3ca_row1_col14, #T_eb3ca_row14_col15, #T_eb3ca_row15_col14 {\n",
              "  font-size: 6pt;\n",
              "  background-color: #030303;\n",
              "  color: #f1f1f1;\n",
              "}\n",
              "#T_eb3ca_row1_col15, #T_eb3ca_row15_col15 {\n",
              "  font-size: 6pt;\n",
              "  background-color: #bebebe;\n",
              "  color: #000000;\n",
              "}\n",
              "#T_eb3ca_row1_col16, #T_eb3ca_row5_col14, #T_eb3ca_row9_col14 {\n",
              "  font-size: 6pt;\n",
              "  background-color: #fcfcfc;\n",
              "  color: #000000;\n",
              "}\n",
              "#T_eb3ca_row2_col8, #T_eb3ca_row16_col11, #T_eb3ca_row19_col13 {\n",
              "  font-size: 6pt;\n",
              "  background-color: #fefefe;\n",
              "  color: #000000;\n",
              "}\n",
              "#T_eb3ca_row2_col9 {\n",
              "  font-size: 6pt;\n",
              "  background-color: #bbbbbb;\n",
              "  color: #000000;\n",
              "}\n",
              "#T_eb3ca_row2_col10, #T_eb3ca_row19_col9 {\n",
              "  font-size: 6pt;\n",
              "  background-color: #171717;\n",
              "  color: #f1f1f1;\n",
              "}\n",
              "#T_eb3ca_row2_col13 {\n",
              "  font-size: 6pt;\n",
              "  background-color: #1b1b1b;\n",
              "  color: #f1f1f1;\n",
              "}\n",
              "#T_eb3ca_row2_col16, #T_eb3ca_row7_col8 {\n",
              "  font-size: 6pt;\n",
              "  background-color: #eeeeee;\n",
              "  color: #000000;\n",
              "}\n",
              "#T_eb3ca_row3_col7 {\n",
              "  font-size: 6pt;\n",
              "  background-color: #c3c3c3;\n",
              "  color: #000000;\n",
              "}\n",
              "#T_eb3ca_row3_col8, #T_eb3ca_row16_col12 {\n",
              "  font-size: 6pt;\n",
              "  background-color: #878787;\n",
              "  color: #f1f1f1;\n",
              "}\n",
              "#T_eb3ca_row3_col11 {\n",
              "  font-size: 6pt;\n",
              "  background-color: #636363;\n",
              "  color: #f1f1f1;\n",
              "}\n",
              "#T_eb3ca_row3_col12 {\n",
              "  font-size: 6pt;\n",
              "  background-color: #d6d6d6;\n",
              "  color: #000000;\n",
              "}\n",
              "#T_eb3ca_row3_col13 {\n",
              "  font-size: 6pt;\n",
              "  background-color: #efefef;\n",
              "  color: #000000;\n",
              "}\n",
              "#T_eb3ca_row3_col14 {\n",
              "  font-size: 6pt;\n",
              "  background-color: #444444;\n",
              "  color: #f1f1f1;\n",
              "}\n",
              "#T_eb3ca_row3_col16 {\n",
              "  font-size: 6pt;\n",
              "  background-color: #525252;\n",
              "  color: #f1f1f1;\n",
              "}\n",
              "#T_eb3ca_row4_col6 {\n",
              "  font-size: 6pt;\n",
              "  background-color: #aeaeae;\n",
              "  color: #000000;\n",
              "}\n",
              "#T_eb3ca_row4_col7, #T_eb3ca_row4_col16, #T_eb3ca_row16_col13 {\n",
              "  font-size: 6pt;\n",
              "  background-color: #010101;\n",
              "  color: #f1f1f1;\n",
              "}\n",
              "#T_eb3ca_row4_col9, #T_eb3ca_row17_col13, #T_eb3ca_row18_col6 {\n",
              "  font-size: 6pt;\n",
              "  background-color: #161616;\n",
              "  color: #f1f1f1;\n",
              "}\n",
              "#T_eb3ca_row4_col10 {\n",
              "  font-size: 6pt;\n",
              "  background-color: #e2e2e2;\n",
              "  color: #000000;\n",
              "}\n",
              "#T_eb3ca_row4_col14, #T_eb3ca_row5_col5 {\n",
              "  font-size: 6pt;\n",
              "  background-color: #f9f9f9;\n",
              "  color: #000000;\n",
              "}\n",
              "#T_eb3ca_row4_col17 {\n",
              "  font-size: 6pt;\n",
              "  background-color: #050505;\n",
              "  color: #f1f1f1;\n",
              "}\n",
              "#T_eb3ca_row5_col6, #T_eb3ca_row14_col5, #T_eb3ca_row15_col5 {\n",
              "  font-size: 6pt;\n",
              "  background-color: #2e2e2e;\n",
              "  color: #f1f1f1;\n",
              "}\n",
              "#T_eb3ca_row5_col8 {\n",
              "  font-size: 6pt;\n",
              "  background-color: #0c0c0c;\n",
              "  color: #f1f1f1;\n",
              "}\n",
              "#T_eb3ca_row5_col9 {\n",
              "  font-size: 6pt;\n",
              "  background-color: #dfdfdf;\n",
              "  color: #000000;\n",
              "}\n",
              "#T_eb3ca_row5_col15 {\n",
              "  font-size: 6pt;\n",
              "  background-color: #323232;\n",
              "  color: #f1f1f1;\n",
              "}\n",
              "#T_eb3ca_row6_col5 {\n",
              "  font-size: 6pt;\n",
              "  background-color: #f3f3f3;\n",
              "  color: #000000;\n",
              "}\n",
              "#T_eb3ca_row6_col8 {\n",
              "  font-size: 6pt;\n",
              "  background-color: #909090;\n",
              "  color: #f1f1f1;\n",
              "}\n",
              "#T_eb3ca_row6_col15, #T_eb3ca_row7_col15, #T_eb3ca_row8_col15 {\n",
              "  font-size: 6pt;\n",
              "  background-color: #696969;\n",
              "  color: #f1f1f1;\n",
              "}\n",
              "#T_eb3ca_row7_col5 {\n",
              "  font-size: 6pt;\n",
              "  background-color: #e7e7e7;\n",
              "  color: #000000;\n",
              "}\n",
              "#T_eb3ca_row7_col7 {\n",
              "  font-size: 6pt;\n",
              "  background-color: #0d0d0d;\n",
              "  color: #f1f1f1;\n",
              "}\n",
              "#T_eb3ca_row8_col5 {\n",
              "  font-size: 6pt;\n",
              "  background-color: #949494;\n",
              "  color: #f1f1f1;\n",
              "}\n",
              "#T_eb3ca_row8_col7 {\n",
              "  font-size: 6pt;\n",
              "  background-color: #757575;\n",
              "  color: #f1f1f1;\n",
              "}\n",
              "#T_eb3ca_row9_col4, #T_eb3ca_row17_col5 {\n",
              "  font-size: 6pt;\n",
              "  background-color: #c8c8c8;\n",
              "  color: #000000;\n",
              "}\n",
              "#T_eb3ca_row9_col5, #T_eb3ca_row9_col15 {\n",
              "  font-size: 6pt;\n",
              "  background-color: #1e1e1e;\n",
              "  color: #f1f1f1;\n",
              "}\n",
              "#T_eb3ca_row9_col7, #T_eb3ca_row12_col14 {\n",
              "  font-size: 6pt;\n",
              "  background-color: #b2b2b2;\n",
              "  color: #000000;\n",
              "}\n",
              "#T_eb3ca_row10_col7 {\n",
              "  font-size: 6pt;\n",
              "  background-color: #c5c5c5;\n",
              "  color: #000000;\n",
              "}\n",
              "#T_eb3ca_row10_col14, #T_eb3ca_row11_col14 {\n",
              "  font-size: 6pt;\n",
              "  background-color: #fafafa;\n",
              "  color: #000000;\n",
              "}\n",
              "#T_eb3ca_row10_col16 {\n",
              "  font-size: 6pt;\n",
              "  background-color: #090909;\n",
              "  color: #f1f1f1;\n",
              "}\n",
              "#T_eb3ca_row10_col17, #T_eb3ca_row11_col16 {\n",
              "  font-size: 6pt;\n",
              "  background-color: #363636;\n",
              "  color: #f1f1f1;\n",
              "}\n",
              "#T_eb3ca_row11_col7, #T_eb3ca_row12_col7, #T_eb3ca_row13_col7, #T_eb3ca_row14_col7 {\n",
              "  font-size: 6pt;\n",
              "  background-color: #fbfbfb;\n",
              "  color: #000000;\n",
              "}\n",
              "#T_eb3ca_row12_col16, #T_eb3ca_row17_col11 {\n",
              "  font-size: 6pt;\n",
              "  background-color: #c1c1c1;\n",
              "  color: #000000;\n",
              "}\n",
              "#T_eb3ca_row13_col4, #T_eb3ca_row15_col12, #T_eb3ca_row18_col9 {\n",
              "  font-size: 6pt;\n",
              "  background-color: #f5f5f5;\n",
              "  color: #000000;\n",
              "}\n",
              "#T_eb3ca_row13_col5 {\n",
              "  font-size: 6pt;\n",
              "  background-color: #292929;\n",
              "  color: #f1f1f1;\n",
              "}\n",
              "#T_eb3ca_row13_col13, #T_eb3ca_row13_col16, #T_eb3ca_row14_col16 {\n",
              "  font-size: 6pt;\n",
              "  background-color: #f4f4f4;\n",
              "  color: #000000;\n",
              "}\n",
              "#T_eb3ca_row13_col14 {\n",
              "  font-size: 6pt;\n",
              "  background-color: #1c1c1c;\n",
              "  color: #f1f1f1;\n",
              "}\n",
              "#T_eb3ca_row14_col13 {\n",
              "  font-size: 6pt;\n",
              "  background-color: #c7c7c7;\n",
              "  color: #000000;\n",
              "}\n",
              "#T_eb3ca_row15_col13 {\n",
              "  font-size: 6pt;\n",
              "  background-color: #3a3a3a;\n",
              "  color: #f1f1f1;\n",
              "}\n",
              "#T_eb3ca_row16_col5 {\n",
              "  font-size: 6pt;\n",
              "  background-color: #939393;\n",
              "  color: #f1f1f1;\n",
              "}\n",
              "#T_eb3ca_row16_col7 {\n",
              "  font-size: 6pt;\n",
              "  background-color: #9f9f9f;\n",
              "  color: #f1f1f1;\n",
              "}\n",
              "#T_eb3ca_row16_col14 {\n",
              "  font-size: 6pt;\n",
              "  background-color: #1d1d1d;\n",
              "  color: #f1f1f1;\n",
              "}\n",
              "#T_eb3ca_row17_col7 {\n",
              "  font-size: 6pt;\n",
              "  background-color: #252525;\n",
              "  color: #f1f1f1;\n",
              "}\n",
              "#T_eb3ca_row17_col8, #T_eb3ca_row18_col5 {\n",
              "  font-size: 6pt;\n",
              "  background-color: #f7f7f7;\n",
              "  color: #000000;\n",
              "}\n",
              "#T_eb3ca_row17_col14, #T_eb3ca_row19_col6 {\n",
              "  font-size: 6pt;\n",
              "  background-color: #e1e1e1;\n",
              "  color: #000000;\n",
              "}\n",
              "#T_eb3ca_row18_col8 {\n",
              "  font-size: 6pt;\n",
              "  background-color: #8e8e8e;\n",
              "  color: #f1f1f1;\n",
              "}\n",
              "#T_eb3ca_row18_col10 {\n",
              "  font-size: 6pt;\n",
              "  background-color: #a0a0a0;\n",
              "  color: #f1f1f1;\n",
              "}\n",
              "#T_eb3ca_row18_col11, #T_eb3ca_row20_col8 {\n",
              "  font-size: 6pt;\n",
              "  background-color: #141414;\n",
              "  color: #f1f1f1;\n",
              "}\n",
              "#T_eb3ca_row18_col13 {\n",
              "  font-size: 6pt;\n",
              "  background-color: #9a9a9a;\n",
              "  color: #f1f1f1;\n",
              "}\n",
              "#T_eb3ca_row19_col7 {\n",
              "  font-size: 6pt;\n",
              "  background-color: #060606;\n",
              "  color: #f1f1f1;\n",
              "}\n",
              "#T_eb3ca_row19_col10 {\n",
              "  font-size: 6pt;\n",
              "  background-color: #020202;\n",
              "  color: #f1f1f1;\n",
              "}\n",
              "#T_eb3ca_row19_col12 {\n",
              "  font-size: 6pt;\n",
              "  background-color: #656565;\n",
              "  color: #f1f1f1;\n",
              "}\n",
              "#T_eb3ca_row20_col7 {\n",
              "  font-size: 6pt;\n",
              "  background-color: #a4a4a4;\n",
              "  color: #f1f1f1;\n",
              "}\n",
              "#T_eb3ca_row20_col11 {\n",
              "  font-size: 6pt;\n",
              "  background-color: #8f8f8f;\n",
              "  color: #f1f1f1;\n",
              "}\n",
              "#T_eb3ca_row20_col12 {\n",
              "  font-size: 6pt;\n",
              "  background-color: #f6f6f6;\n",
              "  color: #000000;\n",
              "}\n",
              "</style>\n",
              "<table id=\"T_eb3ca\" class=\"dataframe\">\n",
              "  <thead>\n",
              "    <tr>\n",
              "      <th class=\"blank level0\" >&nbsp;</th>\n",
              "      <th id=\"T_eb3ca_level0_col0\" class=\"col_heading level0 col0\" >0</th>\n",
              "      <th id=\"T_eb3ca_level0_col1\" class=\"col_heading level0 col1\" >1</th>\n",
              "      <th id=\"T_eb3ca_level0_col2\" class=\"col_heading level0 col2\" >2</th>\n",
              "      <th id=\"T_eb3ca_level0_col3\" class=\"col_heading level0 col3\" >3</th>\n",
              "      <th id=\"T_eb3ca_level0_col4\" class=\"col_heading level0 col4\" >4</th>\n",
              "      <th id=\"T_eb3ca_level0_col5\" class=\"col_heading level0 col5\" >5</th>\n",
              "      <th id=\"T_eb3ca_level0_col6\" class=\"col_heading level0 col6\" >6</th>\n",
              "      <th id=\"T_eb3ca_level0_col7\" class=\"col_heading level0 col7\" >7</th>\n",
              "      <th id=\"T_eb3ca_level0_col8\" class=\"col_heading level0 col8\" >8</th>\n",
              "      <th id=\"T_eb3ca_level0_col9\" class=\"col_heading level0 col9\" >9</th>\n",
              "      <th id=\"T_eb3ca_level0_col10\" class=\"col_heading level0 col10\" >10</th>\n",
              "      <th id=\"T_eb3ca_level0_col11\" class=\"col_heading level0 col11\" >11</th>\n",
              "      <th id=\"T_eb3ca_level0_col12\" class=\"col_heading level0 col12\" >12</th>\n",
              "      <th id=\"T_eb3ca_level0_col13\" class=\"col_heading level0 col13\" >13</th>\n",
              "      <th id=\"T_eb3ca_level0_col14\" class=\"col_heading level0 col14\" >14</th>\n",
              "      <th id=\"T_eb3ca_level0_col15\" class=\"col_heading level0 col15\" >15</th>\n",
              "      <th id=\"T_eb3ca_level0_col16\" class=\"col_heading level0 col16\" >16</th>\n",
              "      <th id=\"T_eb3ca_level0_col17\" class=\"col_heading level0 col17\" >17</th>\n",
              "    </tr>\n",
              "  </thead>\n",
              "  <tbody>\n",
              "    <tr>\n",
              "      <th id=\"T_eb3ca_level0_row0\" class=\"row_heading level0 row0\" >0</th>\n",
              "      <td id=\"T_eb3ca_row0_col0\" class=\"data row0 col0\" >0</td>\n",
              "      <td id=\"T_eb3ca_row0_col1\" class=\"data row0 col1\" >0</td>\n",
              "      <td id=\"T_eb3ca_row0_col2\" class=\"data row0 col2\" >0</td>\n",
              "      <td id=\"T_eb3ca_row0_col3\" class=\"data row0 col3\" >0</td>\n",
              "      <td id=\"T_eb3ca_row0_col4\" class=\"data row0 col4\" >0</td>\n",
              "      <td id=\"T_eb3ca_row0_col5\" class=\"data row0 col5\" >0</td>\n",
              "      <td id=\"T_eb3ca_row0_col6\" class=\"data row0 col6\" >0</td>\n",
              "      <td id=\"T_eb3ca_row0_col7\" class=\"data row0 col7\" >0</td>\n",
              "      <td id=\"T_eb3ca_row0_col8\" class=\"data row0 col8\" >0</td>\n",
              "      <td id=\"T_eb3ca_row0_col9\" class=\"data row0 col9\" >0</td>\n",
              "      <td id=\"T_eb3ca_row0_col10\" class=\"data row0 col10\" >0</td>\n",
              "      <td id=\"T_eb3ca_row0_col11\" class=\"data row0 col11\" >0</td>\n",
              "      <td id=\"T_eb3ca_row0_col12\" class=\"data row0 col12\" >0</td>\n",
              "      <td id=\"T_eb3ca_row0_col13\" class=\"data row0 col13\" >0</td>\n",
              "      <td id=\"T_eb3ca_row0_col14\" class=\"data row0 col14\" >0</td>\n",
              "      <td id=\"T_eb3ca_row0_col15\" class=\"data row0 col15\" >0</td>\n",
              "      <td id=\"T_eb3ca_row0_col16\" class=\"data row0 col16\" >0</td>\n",
              "      <td id=\"T_eb3ca_row0_col17\" class=\"data row0 col17\" >0</td>\n",
              "    </tr>\n",
              "    <tr>\n",
              "      <th id=\"T_eb3ca_level0_row1\" class=\"row_heading level0 row1\" >1</th>\n",
              "      <td id=\"T_eb3ca_row1_col0\" class=\"data row1 col0\" >0</td>\n",
              "      <td id=\"T_eb3ca_row1_col1\" class=\"data row1 col1\" >0</td>\n",
              "      <td id=\"T_eb3ca_row1_col2\" class=\"data row1 col2\" >0</td>\n",
              "      <td id=\"T_eb3ca_row1_col3\" class=\"data row1 col3\" >0</td>\n",
              "      <td id=\"T_eb3ca_row1_col4\" class=\"data row1 col4\" >0</td>\n",
              "      <td id=\"T_eb3ca_row1_col5\" class=\"data row1 col5\" >0</td>\n",
              "      <td id=\"T_eb3ca_row1_col6\" class=\"data row1 col6\" >0</td>\n",
              "      <td id=\"T_eb3ca_row1_col7\" class=\"data row1 col7\" >0</td>\n",
              "      <td id=\"T_eb3ca_row1_col8\" class=\"data row1 col8\" >0</td>\n",
              "      <td id=\"T_eb3ca_row1_col9\" class=\"data row1 col9\" >0</td>\n",
              "      <td id=\"T_eb3ca_row1_col10\" class=\"data row1 col10\" >36</td>\n",
              "      <td id=\"T_eb3ca_row1_col11\" class=\"data row1 col11\" >146</td>\n",
              "      <td id=\"T_eb3ca_row1_col12\" class=\"data row1 col12\" >254</td>\n",
              "      <td id=\"T_eb3ca_row1_col13\" class=\"data row1 col13\" >255</td>\n",
              "      <td id=\"T_eb3ca_row1_col14\" class=\"data row1 col14\" >251</td>\n",
              "      <td id=\"T_eb3ca_row1_col15\" class=\"data row1 col15\" >95</td>\n",
              "      <td id=\"T_eb3ca_row1_col16\" class=\"data row1 col16\" >6</td>\n",
              "      <td id=\"T_eb3ca_row1_col17\" class=\"data row1 col17\" >0</td>\n",
              "    </tr>\n",
              "    <tr>\n",
              "      <th id=\"T_eb3ca_level0_row2\" class=\"row_heading level0 row2\" >2</th>\n",
              "      <td id=\"T_eb3ca_row2_col0\" class=\"data row2 col0\" >0</td>\n",
              "      <td id=\"T_eb3ca_row2_col1\" class=\"data row2 col1\" >0</td>\n",
              "      <td id=\"T_eb3ca_row2_col2\" class=\"data row2 col2\" >0</td>\n",
              "      <td id=\"T_eb3ca_row2_col3\" class=\"data row2 col3\" >0</td>\n",
              "      <td id=\"T_eb3ca_row2_col4\" class=\"data row2 col4\" >0</td>\n",
              "      <td id=\"T_eb3ca_row2_col5\" class=\"data row2 col5\" >0</td>\n",
              "      <td id=\"T_eb3ca_row2_col6\" class=\"data row2 col6\" >0</td>\n",
              "      <td id=\"T_eb3ca_row2_col7\" class=\"data row2 col7\" >0</td>\n",
              "      <td id=\"T_eb3ca_row2_col8\" class=\"data row2 col8\" >3</td>\n",
              "      <td id=\"T_eb3ca_row2_col9\" class=\"data row2 col9\" >97</td>\n",
              "      <td id=\"T_eb3ca_row2_col10\" class=\"data row2 col10\" >234</td>\n",
              "      <td id=\"T_eb3ca_row2_col11\" class=\"data row2 col11\" >254</td>\n",
              "      <td id=\"T_eb3ca_row2_col12\" class=\"data row2 col12\" >254</td>\n",
              "      <td id=\"T_eb3ca_row2_col13\" class=\"data row2 col13\" >232</td>\n",
              "      <td id=\"T_eb3ca_row2_col14\" class=\"data row2 col14\" >254</td>\n",
              "      <td id=\"T_eb3ca_row2_col15\" class=\"data row2 col15\" >254</td>\n",
              "      <td id=\"T_eb3ca_row2_col16\" class=\"data row2 col16\" >35</td>\n",
              "      <td id=\"T_eb3ca_row2_col17\" class=\"data row2 col17\" >0</td>\n",
              "    </tr>\n",
              "    <tr>\n",
              "      <th id=\"T_eb3ca_level0_row3\" class=\"row_heading level0 row3\" >3</th>\n",
              "      <td id=\"T_eb3ca_row3_col0\" class=\"data row3 col0\" >0</td>\n",
              "      <td id=\"T_eb3ca_row3_col1\" class=\"data row3 col1\" >0</td>\n",
              "      <td id=\"T_eb3ca_row3_col2\" class=\"data row3 col2\" >0</td>\n",
              "      <td id=\"T_eb3ca_row3_col3\" class=\"data row3 col3\" >0</td>\n",
              "      <td id=\"T_eb3ca_row3_col4\" class=\"data row3 col4\" >0</td>\n",
              "      <td id=\"T_eb3ca_row3_col5\" class=\"data row3 col5\" >0</td>\n",
              "      <td id=\"T_eb3ca_row3_col6\" class=\"data row3 col6\" >0</td>\n",
              "      <td id=\"T_eb3ca_row3_col7\" class=\"data row3 col7\" >89</td>\n",
              "      <td id=\"T_eb3ca_row3_col8\" class=\"data row3 col8\" >140</td>\n",
              "      <td id=\"T_eb3ca_row3_col9\" class=\"data row3 col9\" >254</td>\n",
              "      <td id=\"T_eb3ca_row3_col10\" class=\"data row3 col10\" >254</td>\n",
              "      <td id=\"T_eb3ca_row3_col11\" class=\"data row3 col11\" >174</td>\n",
              "      <td id=\"T_eb3ca_row3_col12\" class=\"data row3 col12\" >67</td>\n",
              "      <td id=\"T_eb3ca_row3_col13\" class=\"data row3 col13\" >33</td>\n",
              "      <td id=\"T_eb3ca_row3_col14\" class=\"data row3 col14\" >200</td>\n",
              "      <td id=\"T_eb3ca_row3_col15\" class=\"data row3 col15\" >254</td>\n",
              "      <td id=\"T_eb3ca_row3_col16\" class=\"data row3 col16\" >190</td>\n",
              "      <td id=\"T_eb3ca_row3_col17\" class=\"data row3 col17\" >0</td>\n",
              "    </tr>\n",
              "    <tr>\n",
              "      <th id=\"T_eb3ca_level0_row4\" class=\"row_heading level0 row4\" >4</th>\n",
              "      <td id=\"T_eb3ca_row4_col0\" class=\"data row4 col0\" >0</td>\n",
              "      <td id=\"T_eb3ca_row4_col1\" class=\"data row4 col1\" >0</td>\n",
              "      <td id=\"T_eb3ca_row4_col2\" class=\"data row4 col2\" >0</td>\n",
              "      <td id=\"T_eb3ca_row4_col3\" class=\"data row4 col3\" >0</td>\n",
              "      <td id=\"T_eb3ca_row4_col4\" class=\"data row4 col4\" >0</td>\n",
              "      <td id=\"T_eb3ca_row4_col5\" class=\"data row4 col5\" >0</td>\n",
              "      <td id=\"T_eb3ca_row4_col6\" class=\"data row4 col6\" >108</td>\n",
              "      <td id=\"T_eb3ca_row4_col7\" class=\"data row4 col7\" >253</td>\n",
              "      <td id=\"T_eb3ca_row4_col8\" class=\"data row4 col8\" >254</td>\n",
              "      <td id=\"T_eb3ca_row4_col9\" class=\"data row4 col9\" >235</td>\n",
              "      <td id=\"T_eb3ca_row4_col10\" class=\"data row4 col10\" >51</td>\n",
              "      <td id=\"T_eb3ca_row4_col11\" class=\"data row4 col11\" >1</td>\n",
              "      <td id=\"T_eb3ca_row4_col12\" class=\"data row4 col12\" >0</td>\n",
              "      <td id=\"T_eb3ca_row4_col13\" class=\"data row4 col13\" >0</td>\n",
              "      <td id=\"T_eb3ca_row4_col14\" class=\"data row4 col14\" >12</td>\n",
              "      <td id=\"T_eb3ca_row4_col15\" class=\"data row4 col15\" >254</td>\n",
              "      <td id=\"T_eb3ca_row4_col16\" class=\"data row4 col16\" >253</td>\n",
              "      <td id=\"T_eb3ca_row4_col17\" class=\"data row4 col17\" >56</td>\n",
              "    </tr>\n",
              "    <tr>\n",
              "      <th id=\"T_eb3ca_level0_row5\" class=\"row_heading level0 row5\" >5</th>\n",
              "      <td id=\"T_eb3ca_row5_col0\" class=\"data row5 col0\" >0</td>\n",
              "      <td id=\"T_eb3ca_row5_col1\" class=\"data row5 col1\" >0</td>\n",
              "      <td id=\"T_eb3ca_row5_col2\" class=\"data row5 col2\" >0</td>\n",
              "      <td id=\"T_eb3ca_row5_col3\" class=\"data row5 col3\" >0</td>\n",
              "      <td id=\"T_eb3ca_row5_col4\" class=\"data row5 col4\" >0</td>\n",
              "      <td id=\"T_eb3ca_row5_col5\" class=\"data row5 col5\" >12</td>\n",
              "      <td id=\"T_eb3ca_row5_col6\" class=\"data row5 col6\" >216</td>\n",
              "      <td id=\"T_eb3ca_row5_col7\" class=\"data row5 col7\" >254</td>\n",
              "      <td id=\"T_eb3ca_row5_col8\" class=\"data row5 col8\" >244</td>\n",
              "      <td id=\"T_eb3ca_row5_col9\" class=\"data row5 col9\" >55</td>\n",
              "      <td id=\"T_eb3ca_row5_col10\" class=\"data row5 col10\" >0</td>\n",
              "      <td id=\"T_eb3ca_row5_col11\" class=\"data row5 col11\" >0</td>\n",
              "      <td id=\"T_eb3ca_row5_col12\" class=\"data row5 col12\" >0</td>\n",
              "      <td id=\"T_eb3ca_row5_col13\" class=\"data row5 col13\" >0</td>\n",
              "      <td id=\"T_eb3ca_row5_col14\" class=\"data row5 col14\" >6</td>\n",
              "      <td id=\"T_eb3ca_row5_col15\" class=\"data row5 col15\" >213</td>\n",
              "      <td id=\"T_eb3ca_row5_col16\" class=\"data row5 col16\" >254</td>\n",
              "      <td id=\"T_eb3ca_row5_col17\" class=\"data row5 col17\" >57</td>\n",
              "    </tr>\n",
              "    <tr>\n",
              "      <th id=\"T_eb3ca_level0_row6\" class=\"row_heading level0 row6\" >6</th>\n",
              "      <td id=\"T_eb3ca_row6_col0\" class=\"data row6 col0\" >0</td>\n",
              "      <td id=\"T_eb3ca_row6_col1\" class=\"data row6 col1\" >0</td>\n",
              "      <td id=\"T_eb3ca_row6_col2\" class=\"data row6 col2\" >0</td>\n",
              "      <td id=\"T_eb3ca_row6_col3\" class=\"data row6 col3\" >0</td>\n",
              "      <td id=\"T_eb3ca_row6_col4\" class=\"data row6 col4\" >0</td>\n",
              "      <td id=\"T_eb3ca_row6_col5\" class=\"data row6 col5\" >25</td>\n",
              "      <td id=\"T_eb3ca_row6_col6\" class=\"data row6 col6\" >254</td>\n",
              "      <td id=\"T_eb3ca_row6_col7\" class=\"data row6 col7\" >254</td>\n",
              "      <td id=\"T_eb3ca_row6_col8\" class=\"data row6 col8\" >132</td>\n",
              "      <td id=\"T_eb3ca_row6_col9\" class=\"data row6 col9\" >0</td>\n",
              "      <td id=\"T_eb3ca_row6_col10\" class=\"data row6 col10\" >0</td>\n",
              "      <td id=\"T_eb3ca_row6_col11\" class=\"data row6 col11\" >0</td>\n",
              "      <td id=\"T_eb3ca_row6_col12\" class=\"data row6 col12\" >0</td>\n",
              "      <td id=\"T_eb3ca_row6_col13\" class=\"data row6 col13\" >0</td>\n",
              "      <td id=\"T_eb3ca_row6_col14\" class=\"data row6 col14\" >0</td>\n",
              "      <td id=\"T_eb3ca_row6_col15\" class=\"data row6 col15\" >168</td>\n",
              "      <td id=\"T_eb3ca_row6_col16\" class=\"data row6 col16\" >254</td>\n",
              "      <td id=\"T_eb3ca_row6_col17\" class=\"data row6 col17\" >57</td>\n",
              "    </tr>\n",
              "    <tr>\n",
              "      <th id=\"T_eb3ca_level0_row7\" class=\"row_heading level0 row7\" >7</th>\n",
              "      <td id=\"T_eb3ca_row7_col0\" class=\"data row7 col0\" >0</td>\n",
              "      <td id=\"T_eb3ca_row7_col1\" class=\"data row7 col1\" >0</td>\n",
              "      <td id=\"T_eb3ca_row7_col2\" class=\"data row7 col2\" >0</td>\n",
              "      <td id=\"T_eb3ca_row7_col3\" class=\"data row7 col3\" >0</td>\n",
              "      <td id=\"T_eb3ca_row7_col4\" class=\"data row7 col4\" >0</td>\n",
              "      <td id=\"T_eb3ca_row7_col5\" class=\"data row7 col5\" >45</td>\n",
              "      <td id=\"T_eb3ca_row7_col6\" class=\"data row7 col6\" >254</td>\n",
              "      <td id=\"T_eb3ca_row7_col7\" class=\"data row7 col7\" >243</td>\n",
              "      <td id=\"T_eb3ca_row7_col8\" class=\"data row7 col8\" >34</td>\n",
              "      <td id=\"T_eb3ca_row7_col9\" class=\"data row7 col9\" >0</td>\n",
              "      <td id=\"T_eb3ca_row7_col10\" class=\"data row7 col10\" >0</td>\n",
              "      <td id=\"T_eb3ca_row7_col11\" class=\"data row7 col11\" >0</td>\n",
              "      <td id=\"T_eb3ca_row7_col12\" class=\"data row7 col12\" >0</td>\n",
              "      <td id=\"T_eb3ca_row7_col13\" class=\"data row7 col13\" >0</td>\n",
              "      <td id=\"T_eb3ca_row7_col14\" class=\"data row7 col14\" >0</td>\n",
              "      <td id=\"T_eb3ca_row7_col15\" class=\"data row7 col15\" >168</td>\n",
              "      <td id=\"T_eb3ca_row7_col16\" class=\"data row7 col16\" >254</td>\n",
              "      <td id=\"T_eb3ca_row7_col17\" class=\"data row7 col17\" >57</td>\n",
              "    </tr>\n",
              "    <tr>\n",
              "      <th id=\"T_eb3ca_level0_row8\" class=\"row_heading level0 row8\" >8</th>\n",
              "      <td id=\"T_eb3ca_row8_col0\" class=\"data row8 col0\" >0</td>\n",
              "      <td id=\"T_eb3ca_row8_col1\" class=\"data row8 col1\" >0</td>\n",
              "      <td id=\"T_eb3ca_row8_col2\" class=\"data row8 col2\" >0</td>\n",
              "      <td id=\"T_eb3ca_row8_col3\" class=\"data row8 col3\" >0</td>\n",
              "      <td id=\"T_eb3ca_row8_col4\" class=\"data row8 col4\" >0</td>\n",
              "      <td id=\"T_eb3ca_row8_col5\" class=\"data row8 col5\" >128</td>\n",
              "      <td id=\"T_eb3ca_row8_col6\" class=\"data row8 col6\" >254</td>\n",
              "      <td id=\"T_eb3ca_row8_col7\" class=\"data row8 col7\" >157</td>\n",
              "      <td id=\"T_eb3ca_row8_col8\" class=\"data row8 col8\" >0</td>\n",
              "      <td id=\"T_eb3ca_row8_col9\" class=\"data row8 col9\" >0</td>\n",
              "      <td id=\"T_eb3ca_row8_col10\" class=\"data row8 col10\" >0</td>\n",
              "      <td id=\"T_eb3ca_row8_col11\" class=\"data row8 col11\" >0</td>\n",
              "      <td id=\"T_eb3ca_row8_col12\" class=\"data row8 col12\" >0</td>\n",
              "      <td id=\"T_eb3ca_row8_col13\" class=\"data row8 col13\" >0</td>\n",
              "      <td id=\"T_eb3ca_row8_col14\" class=\"data row8 col14\" >0</td>\n",
              "      <td id=\"T_eb3ca_row8_col15\" class=\"data row8 col15\" >168</td>\n",
              "      <td id=\"T_eb3ca_row8_col16\" class=\"data row8 col16\" >254</td>\n",
              "      <td id=\"T_eb3ca_row8_col17\" class=\"data row8 col17\" >57</td>\n",
              "    </tr>\n",
              "    <tr>\n",
              "      <th id=\"T_eb3ca_level0_row9\" class=\"row_heading level0 row9\" >9</th>\n",
              "      <td id=\"T_eb3ca_row9_col0\" class=\"data row9 col0\" >0</td>\n",
              "      <td id=\"T_eb3ca_row9_col1\" class=\"data row9 col1\" >0</td>\n",
              "      <td id=\"T_eb3ca_row9_col2\" class=\"data row9 col2\" >0</td>\n",
              "      <td id=\"T_eb3ca_row9_col3\" class=\"data row9 col3\" >0</td>\n",
              "      <td id=\"T_eb3ca_row9_col4\" class=\"data row9 col4\" >19</td>\n",
              "      <td id=\"T_eb3ca_row9_col5\" class=\"data row9 col5\" >228</td>\n",
              "      <td id=\"T_eb3ca_row9_col6\" class=\"data row9 col6\" >254</td>\n",
              "      <td id=\"T_eb3ca_row9_col7\" class=\"data row9 col7\" >105</td>\n",
              "      <td id=\"T_eb3ca_row9_col8\" class=\"data row9 col8\" >0</td>\n",
              "      <td id=\"T_eb3ca_row9_col9\" class=\"data row9 col9\" >0</td>\n",
              "      <td id=\"T_eb3ca_row9_col10\" class=\"data row9 col10\" >0</td>\n",
              "      <td id=\"T_eb3ca_row9_col11\" class=\"data row9 col11\" >0</td>\n",
              "      <td id=\"T_eb3ca_row9_col12\" class=\"data row9 col12\" >0</td>\n",
              "      <td id=\"T_eb3ca_row9_col13\" class=\"data row9 col13\" >0</td>\n",
              "      <td id=\"T_eb3ca_row9_col14\" class=\"data row9 col14\" >7</td>\n",
              "      <td id=\"T_eb3ca_row9_col15\" class=\"data row9 col15\" >228</td>\n",
              "      <td id=\"T_eb3ca_row9_col16\" class=\"data row9 col16\" >254</td>\n",
              "      <td id=\"T_eb3ca_row9_col17\" class=\"data row9 col17\" >57</td>\n",
              "    </tr>\n",
              "    <tr>\n",
              "      <th id=\"T_eb3ca_level0_row10\" class=\"row_heading level0 row10\" >10</th>\n",
              "      <td id=\"T_eb3ca_row10_col0\" class=\"data row10 col0\" >0</td>\n",
              "      <td id=\"T_eb3ca_row10_col1\" class=\"data row10 col1\" >0</td>\n",
              "      <td id=\"T_eb3ca_row10_col2\" class=\"data row10 col2\" >0</td>\n",
              "      <td id=\"T_eb3ca_row10_col3\" class=\"data row10 col3\" >0</td>\n",
              "      <td id=\"T_eb3ca_row10_col4\" class=\"data row10 col4\" >58</td>\n",
              "      <td id=\"T_eb3ca_row10_col5\" class=\"data row10 col5\" >254</td>\n",
              "      <td id=\"T_eb3ca_row10_col6\" class=\"data row10 col6\" >254</td>\n",
              "      <td id=\"T_eb3ca_row10_col7\" class=\"data row10 col7\" >87</td>\n",
              "      <td id=\"T_eb3ca_row10_col8\" class=\"data row10 col8\" >0</td>\n",
              "      <td id=\"T_eb3ca_row10_col9\" class=\"data row10 col9\" >0</td>\n",
              "      <td id=\"T_eb3ca_row10_col10\" class=\"data row10 col10\" >0</td>\n",
              "      <td id=\"T_eb3ca_row10_col11\" class=\"data row10 col11\" >0</td>\n",
              "      <td id=\"T_eb3ca_row10_col12\" class=\"data row10 col12\" >0</td>\n",
              "      <td id=\"T_eb3ca_row10_col13\" class=\"data row10 col13\" >0</td>\n",
              "      <td id=\"T_eb3ca_row10_col14\" class=\"data row10 col14\" >10</td>\n",
              "      <td id=\"T_eb3ca_row10_col15\" class=\"data row10 col15\" >254</td>\n",
              "      <td id=\"T_eb3ca_row10_col16\" class=\"data row10 col16\" >246</td>\n",
              "      <td id=\"T_eb3ca_row10_col17\" class=\"data row10 col17\" >47</td>\n",
              "    </tr>\n",
              "    <tr>\n",
              "      <th id=\"T_eb3ca_level0_row11\" class=\"row_heading level0 row11\" >11</th>\n",
              "      <td id=\"T_eb3ca_row11_col0\" class=\"data row11 col0\" >0</td>\n",
              "      <td id=\"T_eb3ca_row11_col1\" class=\"data row11 col1\" >0</td>\n",
              "      <td id=\"T_eb3ca_row11_col2\" class=\"data row11 col2\" >0</td>\n",
              "      <td id=\"T_eb3ca_row11_col3\" class=\"data row11 col3\" >0</td>\n",
              "      <td id=\"T_eb3ca_row11_col4\" class=\"data row11 col4\" >58</td>\n",
              "      <td id=\"T_eb3ca_row11_col5\" class=\"data row11 col5\" >254</td>\n",
              "      <td id=\"T_eb3ca_row11_col6\" class=\"data row11 col6\" >254</td>\n",
              "      <td id=\"T_eb3ca_row11_col7\" class=\"data row11 col7\" >9</td>\n",
              "      <td id=\"T_eb3ca_row11_col8\" class=\"data row11 col8\" >0</td>\n",
              "      <td id=\"T_eb3ca_row11_col9\" class=\"data row11 col9\" >0</td>\n",
              "      <td id=\"T_eb3ca_row11_col10\" class=\"data row11 col10\" >0</td>\n",
              "      <td id=\"T_eb3ca_row11_col11\" class=\"data row11 col11\" >0</td>\n",
              "      <td id=\"T_eb3ca_row11_col12\" class=\"data row11 col12\" >0</td>\n",
              "      <td id=\"T_eb3ca_row11_col13\" class=\"data row11 col13\" >0</td>\n",
              "      <td id=\"T_eb3ca_row11_col14\" class=\"data row11 col14\" >10</td>\n",
              "      <td id=\"T_eb3ca_row11_col15\" class=\"data row11 col15\" >254</td>\n",
              "      <td id=\"T_eb3ca_row11_col16\" class=\"data row11 col16\" >210</td>\n",
              "      <td id=\"T_eb3ca_row11_col17\" class=\"data row11 col17\" >0</td>\n",
              "    </tr>\n",
              "    <tr>\n",
              "      <th id=\"T_eb3ca_level0_row12\" class=\"row_heading level0 row12\" >12</th>\n",
              "      <td id=\"T_eb3ca_row12_col0\" class=\"data row12 col0\" >0</td>\n",
              "      <td id=\"T_eb3ca_row12_col1\" class=\"data row12 col1\" >0</td>\n",
              "      <td id=\"T_eb3ca_row12_col2\" class=\"data row12 col2\" >0</td>\n",
              "      <td id=\"T_eb3ca_row12_col3\" class=\"data row12 col3\" >0</td>\n",
              "      <td id=\"T_eb3ca_row12_col4\" class=\"data row12 col4\" >58</td>\n",
              "      <td id=\"T_eb3ca_row12_col5\" class=\"data row12 col5\" >254</td>\n",
              "      <td id=\"T_eb3ca_row12_col6\" class=\"data row12 col6\" >254</td>\n",
              "      <td id=\"T_eb3ca_row12_col7\" class=\"data row12 col7\" >9</td>\n",
              "      <td id=\"T_eb3ca_row12_col8\" class=\"data row12 col8\" >0</td>\n",
              "      <td id=\"T_eb3ca_row12_col9\" class=\"data row12 col9\" >0</td>\n",
              "      <td id=\"T_eb3ca_row12_col10\" class=\"data row12 col10\" >0</td>\n",
              "      <td id=\"T_eb3ca_row12_col11\" class=\"data row12 col11\" >0</td>\n",
              "      <td id=\"T_eb3ca_row12_col12\" class=\"data row12 col12\" >0</td>\n",
              "      <td id=\"T_eb3ca_row12_col13\" class=\"data row12 col13\" >0</td>\n",
              "      <td id=\"T_eb3ca_row12_col14\" class=\"data row12 col14\" >105</td>\n",
              "      <td id=\"T_eb3ca_row12_col15\" class=\"data row12 col15\" >254</td>\n",
              "      <td id=\"T_eb3ca_row12_col16\" class=\"data row12 col16\" >91</td>\n",
              "      <td id=\"T_eb3ca_row12_col17\" class=\"data row12 col17\" >0</td>\n",
              "    </tr>\n",
              "    <tr>\n",
              "      <th id=\"T_eb3ca_level0_row13\" class=\"row_heading level0 row13\" >13</th>\n",
              "      <td id=\"T_eb3ca_row13_col0\" class=\"data row13 col0\" >0</td>\n",
              "      <td id=\"T_eb3ca_row13_col1\" class=\"data row13 col1\" >0</td>\n",
              "      <td id=\"T_eb3ca_row13_col2\" class=\"data row13 col2\" >0</td>\n",
              "      <td id=\"T_eb3ca_row13_col3\" class=\"data row13 col3\" >0</td>\n",
              "      <td id=\"T_eb3ca_row13_col4\" class=\"data row13 col4\" >5</td>\n",
              "      <td id=\"T_eb3ca_row13_col5\" class=\"data row13 col5\" >219</td>\n",
              "      <td id=\"T_eb3ca_row13_col6\" class=\"data row13 col6\" >254</td>\n",
              "      <td id=\"T_eb3ca_row13_col7\" class=\"data row13 col7\" >9</td>\n",
              "      <td id=\"T_eb3ca_row13_col8\" class=\"data row13 col8\" >0</td>\n",
              "      <td id=\"T_eb3ca_row13_col9\" class=\"data row13 col9\" >0</td>\n",
              "      <td id=\"T_eb3ca_row13_col10\" class=\"data row13 col10\" >0</td>\n",
              "      <td id=\"T_eb3ca_row13_col11\" class=\"data row13 col11\" >0</td>\n",
              "      <td id=\"T_eb3ca_row13_col12\" class=\"data row13 col12\" >0</td>\n",
              "      <td id=\"T_eb3ca_row13_col13\" class=\"data row13 col13\" >24</td>\n",
              "      <td id=\"T_eb3ca_row13_col14\" class=\"data row13 col14\" >230</td>\n",
              "      <td id=\"T_eb3ca_row13_col15\" class=\"data row13 col15\" >254</td>\n",
              "      <td id=\"T_eb3ca_row13_col16\" class=\"data row13 col16\" >24</td>\n",
              "      <td id=\"T_eb3ca_row13_col17\" class=\"data row13 col17\" >0</td>\n",
              "    </tr>\n",
              "    <tr>\n",
              "      <th id=\"T_eb3ca_level0_row14\" class=\"row_heading level0 row14\" >14</th>\n",
              "      <td id=\"T_eb3ca_row14_col0\" class=\"data row14 col0\" >0</td>\n",
              "      <td id=\"T_eb3ca_row14_col1\" class=\"data row14 col1\" >0</td>\n",
              "      <td id=\"T_eb3ca_row14_col2\" class=\"data row14 col2\" >0</td>\n",
              "      <td id=\"T_eb3ca_row14_col3\" class=\"data row14 col3\" >0</td>\n",
              "      <td id=\"T_eb3ca_row14_col4\" class=\"data row14 col4\" >0</td>\n",
              "      <td id=\"T_eb3ca_row14_col5\" class=\"data row14 col5\" >216</td>\n",
              "      <td id=\"T_eb3ca_row14_col6\" class=\"data row14 col6\" >254</td>\n",
              "      <td id=\"T_eb3ca_row14_col7\" class=\"data row14 col7\" >9</td>\n",
              "      <td id=\"T_eb3ca_row14_col8\" class=\"data row14 col8\" >0</td>\n",
              "      <td id=\"T_eb3ca_row14_col9\" class=\"data row14 col9\" >0</td>\n",
              "      <td id=\"T_eb3ca_row14_col10\" class=\"data row14 col10\" >0</td>\n",
              "      <td id=\"T_eb3ca_row14_col11\" class=\"data row14 col11\" >0</td>\n",
              "      <td id=\"T_eb3ca_row14_col12\" class=\"data row14 col12\" >0</td>\n",
              "      <td id=\"T_eb3ca_row14_col13\" class=\"data row14 col13\" >84</td>\n",
              "      <td id=\"T_eb3ca_row14_col14\" class=\"data row14 col14\" >254</td>\n",
              "      <td id=\"T_eb3ca_row14_col15\" class=\"data row14 col15\" >251</td>\n",
              "      <td id=\"T_eb3ca_row14_col16\" class=\"data row14 col16\" >23</td>\n",
              "      <td id=\"T_eb3ca_row14_col17\" class=\"data row14 col17\" >0</td>\n",
              "    </tr>\n",
              "    <tr>\n",
              "      <th id=\"T_eb3ca_level0_row15\" class=\"row_heading level0 row15\" >15</th>\n",
              "      <td id=\"T_eb3ca_row15_col0\" class=\"data row15 col0\" >0</td>\n",
              "      <td id=\"T_eb3ca_row15_col1\" class=\"data row15 col1\" >0</td>\n",
              "      <td id=\"T_eb3ca_row15_col2\" class=\"data row15 col2\" >0</td>\n",
              "      <td id=\"T_eb3ca_row15_col3\" class=\"data row15 col3\" >0</td>\n",
              "      <td id=\"T_eb3ca_row15_col4\" class=\"data row15 col4\" >0</td>\n",
              "      <td id=\"T_eb3ca_row15_col5\" class=\"data row15 col5\" >216</td>\n",
              "      <td id=\"T_eb3ca_row15_col6\" class=\"data row15 col6\" >254</td>\n",
              "      <td id=\"T_eb3ca_row15_col7\" class=\"data row15 col7\" >36</td>\n",
              "      <td id=\"T_eb3ca_row15_col8\" class=\"data row15 col8\" >0</td>\n",
              "      <td id=\"T_eb3ca_row15_col9\" class=\"data row15 col9\" >0</td>\n",
              "      <td id=\"T_eb3ca_row15_col10\" class=\"data row15 col10\" >0</td>\n",
              "      <td id=\"T_eb3ca_row15_col11\" class=\"data row15 col11\" >0</td>\n",
              "      <td id=\"T_eb3ca_row15_col12\" class=\"data row15 col12\" >22</td>\n",
              "      <td id=\"T_eb3ca_row15_col13\" class=\"data row15 col13\" >208</td>\n",
              "      <td id=\"T_eb3ca_row15_col14\" class=\"data row15 col14\" >251</td>\n",
              "      <td id=\"T_eb3ca_row15_col15\" class=\"data row15 col15\" >94</td>\n",
              "      <td id=\"T_eb3ca_row15_col16\" class=\"data row15 col16\" >0</td>\n",
              "      <td id=\"T_eb3ca_row15_col17\" class=\"data row15 col17\" >0</td>\n",
              "    </tr>\n",
              "    <tr>\n",
              "      <th id=\"T_eb3ca_level0_row16\" class=\"row_heading level0 row16\" >16</th>\n",
              "      <td id=\"T_eb3ca_row16_col0\" class=\"data row16 col0\" >0</td>\n",
              "      <td id=\"T_eb3ca_row16_col1\" class=\"data row16 col1\" >0</td>\n",
              "      <td id=\"T_eb3ca_row16_col2\" class=\"data row16 col2\" >0</td>\n",
              "      <td id=\"T_eb3ca_row16_col3\" class=\"data row16 col3\" >0</td>\n",
              "      <td id=\"T_eb3ca_row16_col4\" class=\"data row16 col4\" >0</td>\n",
              "      <td id=\"T_eb3ca_row16_col5\" class=\"data row16 col5\" >129</td>\n",
              "      <td id=\"T_eb3ca_row16_col6\" class=\"data row16 col6\" >254</td>\n",
              "      <td id=\"T_eb3ca_row16_col7\" class=\"data row16 col7\" >120</td>\n",
              "      <td id=\"T_eb3ca_row16_col8\" class=\"data row16 col8\" >0</td>\n",
              "      <td id=\"T_eb3ca_row16_col9\" class=\"data row16 col9\" >0</td>\n",
              "      <td id=\"T_eb3ca_row16_col10\" class=\"data row16 col10\" >0</td>\n",
              "      <td id=\"T_eb3ca_row16_col11\" class=\"data row16 col11\" >3</td>\n",
              "      <td id=\"T_eb3ca_row16_col12\" class=\"data row16 col12\" >140</td>\n",
              "      <td id=\"T_eb3ca_row16_col13\" class=\"data row16 col13\" >254</td>\n",
              "      <td id=\"T_eb3ca_row16_col14\" class=\"data row16 col14\" >229</td>\n",
              "      <td id=\"T_eb3ca_row16_col15\" class=\"data row16 col15\" >0</td>\n",
              "      <td id=\"T_eb3ca_row16_col16\" class=\"data row16 col16\" >0</td>\n",
              "      <td id=\"T_eb3ca_row16_col17\" class=\"data row16 col17\" >0</td>\n",
              "    </tr>\n",
              "    <tr>\n",
              "      <th id=\"T_eb3ca_level0_row17\" class=\"row_heading level0 row17\" >17</th>\n",
              "      <td id=\"T_eb3ca_row17_col0\" class=\"data row17 col0\" >0</td>\n",
              "      <td id=\"T_eb3ca_row17_col1\" class=\"data row17 col1\" >0</td>\n",
              "      <td id=\"T_eb3ca_row17_col2\" class=\"data row17 col2\" >0</td>\n",
              "      <td id=\"T_eb3ca_row17_col3\" class=\"data row17 col3\" >0</td>\n",
              "      <td id=\"T_eb3ca_row17_col4\" class=\"data row17 col4\" >0</td>\n",
              "      <td id=\"T_eb3ca_row17_col5\" class=\"data row17 col5\" >83</td>\n",
              "      <td id=\"T_eb3ca_row17_col6\" class=\"data row17 col6\" >254</td>\n",
              "      <td id=\"T_eb3ca_row17_col7\" class=\"data row17 col7\" >222</td>\n",
              "      <td id=\"T_eb3ca_row17_col8\" class=\"data row17 col8\" >17</td>\n",
              "      <td id=\"T_eb3ca_row17_col9\" class=\"data row17 col9\" >0</td>\n",
              "      <td id=\"T_eb3ca_row17_col10\" class=\"data row17 col10\" >0</td>\n",
              "      <td id=\"T_eb3ca_row17_col11\" class=\"data row17 col11\" >91</td>\n",
              "      <td id=\"T_eb3ca_row17_col12\" class=\"data row17 col12\" >254</td>\n",
              "      <td id=\"T_eb3ca_row17_col13\" class=\"data row17 col13\" >236</td>\n",
              "      <td id=\"T_eb3ca_row17_col14\" class=\"data row17 col14\" >53</td>\n",
              "      <td id=\"T_eb3ca_row17_col15\" class=\"data row17 col15\" >0</td>\n",
              "      <td id=\"T_eb3ca_row17_col16\" class=\"data row17 col16\" >0</td>\n",
              "      <td id=\"T_eb3ca_row17_col17\" class=\"data row17 col17\" >0</td>\n",
              "    </tr>\n",
              "    <tr>\n",
              "      <th id=\"T_eb3ca_level0_row18\" class=\"row_heading level0 row18\" >18</th>\n",
              "      <td id=\"T_eb3ca_row18_col0\" class=\"data row18 col0\" >0</td>\n",
              "      <td id=\"T_eb3ca_row18_col1\" class=\"data row18 col1\" >0</td>\n",
              "      <td id=\"T_eb3ca_row18_col2\" class=\"data row18 col2\" >0</td>\n",
              "      <td id=\"T_eb3ca_row18_col3\" class=\"data row18 col3\" >0</td>\n",
              "      <td id=\"T_eb3ca_row18_col4\" class=\"data row18 col4\" >0</td>\n",
              "      <td id=\"T_eb3ca_row18_col5\" class=\"data row18 col5\" >18</td>\n",
              "      <td id=\"T_eb3ca_row18_col6\" class=\"data row18 col6\" >235</td>\n",
              "      <td id=\"T_eb3ca_row18_col7\" class=\"data row18 col7\" >254</td>\n",
              "      <td id=\"T_eb3ca_row18_col8\" class=\"data row18 col8\" >134</td>\n",
              "      <td id=\"T_eb3ca_row18_col9\" class=\"data row18 col9\" >21</td>\n",
              "      <td id=\"T_eb3ca_row18_col10\" class=\"data row18 col10\" >119</td>\n",
              "      <td id=\"T_eb3ca_row18_col11\" class=\"data row18 col11\" >237</td>\n",
              "      <td id=\"T_eb3ca_row18_col12\" class=\"data row18 col12\" >254</td>\n",
              "      <td id=\"T_eb3ca_row18_col13\" class=\"data row18 col13\" >124</td>\n",
              "      <td id=\"T_eb3ca_row18_col14\" class=\"data row18 col14\" >0</td>\n",
              "      <td id=\"T_eb3ca_row18_col15\" class=\"data row18 col15\" >0</td>\n",
              "      <td id=\"T_eb3ca_row18_col16\" class=\"data row18 col16\" >0</td>\n",
              "      <td id=\"T_eb3ca_row18_col17\" class=\"data row18 col17\" >0</td>\n",
              "    </tr>\n",
              "    <tr>\n",
              "      <th id=\"T_eb3ca_level0_row19\" class=\"row_heading level0 row19\" >19</th>\n",
              "      <td id=\"T_eb3ca_row19_col0\" class=\"data row19 col0\" >0</td>\n",
              "      <td id=\"T_eb3ca_row19_col1\" class=\"data row19 col1\" >0</td>\n",
              "      <td id=\"T_eb3ca_row19_col2\" class=\"data row19 col2\" >0</td>\n",
              "      <td id=\"T_eb3ca_row19_col3\" class=\"data row19 col3\" >0</td>\n",
              "      <td id=\"T_eb3ca_row19_col4\" class=\"data row19 col4\" >0</td>\n",
              "      <td id=\"T_eb3ca_row19_col5\" class=\"data row19 col5\" >0</td>\n",
              "      <td id=\"T_eb3ca_row19_col6\" class=\"data row19 col6\" >53</td>\n",
              "      <td id=\"T_eb3ca_row19_col7\" class=\"data row19 col7\" >249</td>\n",
              "      <td id=\"T_eb3ca_row19_col8\" class=\"data row19 col8\" >254</td>\n",
              "      <td id=\"T_eb3ca_row19_col9\" class=\"data row19 col9\" >234</td>\n",
              "      <td id=\"T_eb3ca_row19_col10\" class=\"data row19 col10\" >252</td>\n",
              "      <td id=\"T_eb3ca_row19_col11\" class=\"data row19 col11\" >254</td>\n",
              "      <td id=\"T_eb3ca_row19_col12\" class=\"data row19 col12\" >172</td>\n",
              "      <td id=\"T_eb3ca_row19_col13\" class=\"data row19 col13\" >3</td>\n",
              "      <td id=\"T_eb3ca_row19_col14\" class=\"data row19 col14\" >0</td>\n",
              "      <td id=\"T_eb3ca_row19_col15\" class=\"data row19 col15\" >0</td>\n",
              "      <td id=\"T_eb3ca_row19_col16\" class=\"data row19 col16\" >0</td>\n",
              "      <td id=\"T_eb3ca_row19_col17\" class=\"data row19 col17\" >0</td>\n",
              "    </tr>\n",
              "    <tr>\n",
              "      <th id=\"T_eb3ca_level0_row20\" class=\"row_heading level0 row20\" >20</th>\n",
              "      <td id=\"T_eb3ca_row20_col0\" class=\"data row20 col0\" >0</td>\n",
              "      <td id=\"T_eb3ca_row20_col1\" class=\"data row20 col1\" >0</td>\n",
              "      <td id=\"T_eb3ca_row20_col2\" class=\"data row20 col2\" >0</td>\n",
              "      <td id=\"T_eb3ca_row20_col3\" class=\"data row20 col3\" >0</td>\n",
              "      <td id=\"T_eb3ca_row20_col4\" class=\"data row20 col4\" >0</td>\n",
              "      <td id=\"T_eb3ca_row20_col5\" class=\"data row20 col5\" >0</td>\n",
              "      <td id=\"T_eb3ca_row20_col6\" class=\"data row20 col6\" >0</td>\n",
              "      <td id=\"T_eb3ca_row20_col7\" class=\"data row20 col7\" >116</td>\n",
              "      <td id=\"T_eb3ca_row20_col8\" class=\"data row20 col8\" >237</td>\n",
              "      <td id=\"T_eb3ca_row20_col9\" class=\"data row20 col9\" >254</td>\n",
              "      <td id=\"T_eb3ca_row20_col10\" class=\"data row20 col10\" >254</td>\n",
              "      <td id=\"T_eb3ca_row20_col11\" class=\"data row20 col11\" >133</td>\n",
              "      <td id=\"T_eb3ca_row20_col12\" class=\"data row20 col12\" >20</td>\n",
              "      <td id=\"T_eb3ca_row20_col13\" class=\"data row20 col13\" >0</td>\n",
              "      <td id=\"T_eb3ca_row20_col14\" class=\"data row20 col14\" >0</td>\n",
              "      <td id=\"T_eb3ca_row20_col15\" class=\"data row20 col15\" >0</td>\n",
              "      <td id=\"T_eb3ca_row20_col16\" class=\"data row20 col16\" >0</td>\n",
              "      <td id=\"T_eb3ca_row20_col17\" class=\"data row20 col17\" >0</td>\n",
              "    </tr>\n",
              "  </tbody>\n",
              "</table>\n"
            ]
          },
          "metadata": {},
          "execution_count": 18
        }
      ]
    },
    {
      "cell_type": "code",
      "source": [
        "zero_tensors = [tensor(Image.open(o)) for o in zeroes]\n",
        "stacked_zeroes = torch.stack(zero_tensors).float()/255\n",
        "stacked_zeroes.shape"
      ],
      "metadata": {
        "colab": {
          "base_uri": "https://localhost:8080/"
        },
        "id": "kPvHTWKMzn35",
        "outputId": "fd32e139-de62-48e2-ea38-c2f0f8d3db97"
      },
      "execution_count": null,
      "outputs": [
        {
          "output_type": "execute_result",
          "data": {
            "text/plain": [
              "torch.Size([5923, 28, 28])"
            ]
          },
          "metadata": {},
          "execution_count": 19
        }
      ]
    },
    {
      "cell_type": "code",
      "source": [
        "mean0 = stacked_zeroes.mean(0)\n",
        "show_image(mean0)"
      ],
      "metadata": {
        "colab": {
          "base_uri": "https://localhost:8080/",
          "height": 131
        },
        "id": "4fa7ekmA0JaG",
        "outputId": "b341510f-bbab-4b12-e13f-9c31db1c10b9"
      },
      "execution_count": null,
      "outputs": [
        {
          "output_type": "execute_result",
          "data": {
            "text/plain": [
              "<Axes: >"
            ]
          },
          "metadata": {},
          "execution_count": 20
        },
        {
          "output_type": "display_data",
          "data": {
            "text/plain": [
              "<Figure size 100x100 with 1 Axes>"
            ],
            "image/png": "[encoded data removed]"
          },
          "metadata": {}
        }
      ]
    },
    {
      "cell_type": "code",
      "source": [
        "a_0 = stacked_zeroes[1]\n",
        "show_image(a_0)"
      ],
      "metadata": {
        "colab": {
          "base_uri": "https://localhost:8080/",
          "height": 131
        },
        "id": "eJrHJIrX0hCS",
        "outputId": "e8c0f2ef-3fa6-4571-d0a5-7d825ce99a8e"
      },
      "execution_count": null,
      "outputs": [
        {
          "output_type": "execute_result",
          "data": {
            "text/plain": [
              "<Axes: >"
            ]
          },
          "metadata": {},
          "execution_count": 21
        },
        {
          "output_type": "display_data",
          "data": {
            "text/plain": [
              "<Figure size 100x100 with 1 Axes>"
            ],
            "image/png": "[encoded data removed]"
          },
          "metadata": {}
        }
      ]
    },
    {
      "cell_type": "code",
      "source": [
        "# different numbers\n",
        "twos = (path/'training'/'2').ls().sorted()\n",
        "two_tensors = [tensor(Image.open(o)) for o in twos]\n",
        "stacked_twos = torch.stack(two_tensors).float()/255\n",
        "mean2 = stacked_twos.mean(0)"
      ],
      "metadata": {
        "id": "uwRtk0r81YIX"
      },
      "execution_count": null,
      "outputs": []
    },
    {
      "cell_type": "code",
      "source": [
        "threes = (path/'training'/'3').ls().sorted()\n",
        "three_tensors = [tensor(Image.open(o)) for o in threes]\n",
        "stacked_threes = torch.stack(three_tensors).float()/255\n",
        "mean3 = stacked_threes.mean(0)"
      ],
      "metadata": {
        "id": "2iXfn8CmRzny"
      },
      "execution_count": null,
      "outputs": []
    },
    {
      "cell_type": "code",
      "source": [
        "fours = (path/'training'/'4').ls().sorted()\n",
        "four_tensors = [tensor(Image.open(o)) for o in fours]\n",
        "stacked_fours = torch.stack(four_tensors).float()/255\n",
        "mean4 = stacked_fours.mean(0)"
      ],
      "metadata": {
        "id": "3_XF2DroSFQr"
      },
      "execution_count": null,
      "outputs": []
    },
    {
      "cell_type": "code",
      "source": [
        "fives = (path/'training'/'5').ls().sorted()\n",
        "five_tensors = [tensor(Image.open(o)) for o in fives]\n",
        "stacked_fives = torch.stack(five_tensors).float()/255\n",
        "mean5 = stacked_fives.mean(0)"
      ],
      "metadata": {
        "id": "s9sbR4vGSSy_"
      },
      "execution_count": null,
      "outputs": []
    },
    {
      "cell_type": "code",
      "source": [
        "sixes = (path/'training'/'6').ls().sorted()\n",
        "six_tensors = [tensor(Image.open(o)) for o in sixes]\n",
        "stacked_sixes = torch.stack(six_tensors).float()/255\n",
        "mean6 = stacked_sixes.mean(0)"
      ],
      "metadata": {
        "id": "dmKZWMXsSdqS"
      },
      "execution_count": null,
      "outputs": []
    },
    {
      "cell_type": "code",
      "source": [
        "sevens = (path/'training'/'7').ls().sorted()\n",
        "seven_tensors = [tensor(Image.open(o)) for o in sevens]\n",
        "stacked_sevens = torch.stack(seven_tensors).float()/255\n",
        "mean7 = stacked_sevens.mean(0)"
      ],
      "metadata": {
        "id": "gHAq_4gWS1ii"
      },
      "execution_count": null,
      "outputs": []
    },
    {
      "cell_type": "code",
      "source": [
        "eights = (path/'training'/'8').ls().sorted()\n",
        "eight_tensors = [tensor(Image.open(o)) for o in eights]\n",
        "stacked_eights = torch.stack(eight_tensors).float()/255\n",
        "mean8 = stacked_eights.mean(0)"
      ],
      "metadata": {
        "id": "mKARAqLeTCGC"
      },
      "execution_count": null,
      "outputs": []
    },
    {
      "cell_type": "code",
      "source": [
        "nines = (path/'training'/'9').ls().sorted()\n",
        "nine_tensors = [tensor(Image.open(o)) for o in nines]\n",
        "stacked_nines = torch.stack(nine_tensors).float()/255\n",
        "mean9 = stacked_nines.mean(0)"
      ],
      "metadata": {
        "id": "njMOyt9BTMCa"
      },
      "execution_count": null,
      "outputs": []
    },
    {
      "cell_type": "code",
      "source": [
        "#find the sum of..\n",
        "sum_mean = (mean0 + mean1 + mean2 + mean3 + mean4 + mean5 + mean6 + mean7 + mean8 + mean9)/10"
      ],
      "metadata": {
        "id": "dAN8Rvy9T-Z_"
      },
      "execution_count": null,
      "outputs": []
    },
    {
      "cell_type": "code",
      "source": [
        "#determine the distance from our ideal 1\n",
        "\n",
        "dist_1_abs = (a_1 - mean1).abs().mean() # mean absolute difference\n",
        "dist_1_sqr = ((a_1 - mean1)**2).mean().sqrt() # root mean squared error\n",
        "dist_1_abs,dist_1_sqr"
      ],
      "metadata": {
        "colab": {
          "base_uri": "https://localhost:8080/"
        },
        "id": "0NTDDa67yx1i",
        "outputId": "b19c2ed9-4135-468b-90ec-eeb986063e44"
      },
      "execution_count": null,
      "outputs": [
        {
          "output_type": "execute_result",
          "data": {
            "text/plain": [
              "(tensor(0.0601), tensor(0.1520))"
            ]
          },
          "metadata": {},
          "execution_count": 31
        }
      ]
    },
    {
      "cell_type": "code",
      "source": [
        "# loss function\n",
        "\n",
        "F.l1_loss(a_1.float(), sum_mean - (mean1/10)), F.mse_loss(a_1, sum_mean - (mean1/10)).sqrt()"
      ],
      "metadata": {
        "colab": {
          "base_uri": "https://localhost:8080/"
        },
        "id": "ndcq8n32zl0E",
        "outputId": "68d6e6b3-4c7f-4e48-87e8-c150e5658e18"
      },
      "execution_count": null,
      "outputs": [
        {
          "output_type": "execute_result",
          "data": {
            "text/plain": [
              "(tensor(0.1297), tensor(0.2202))"
            ]
          },
          "metadata": {},
          "execution_count": 32
        }
      ]
    },
    {
      "cell_type": "code",
      "source": [
        "def mnist_distance(a,b): return (a-b).abs().mean((-1,-2))"
      ],
      "metadata": {
        "id": "cOGpnTW_-oad"
      },
      "execution_count": null,
      "outputs": []
    },
    {
      "cell_type": "code",
      "source": [
        "def is_0(x): return mnist_distance(x,mean0) < mnist_distance(x, sum_mean - (mean0/10))\n",
        "def is_1(x): return mnist_distance(x,mean1) < mnist_distance(x, sum_mean - (mean1/10))\n",
        "def is_2(x): return mnist_distance(x,mean2) < mnist_distance(x, sum_mean - (mean2/10))\n",
        "def is_3(x): return mnist_distance(x,mean3) < mnist_distance(x, sum_mean - (mean3/10))\n",
        "def is_4(x): return mnist_distance(x,mean4) < mnist_distance(x, sum_mean - (mean4/10))\n",
        "def is_5(x): return mnist_distance(x,mean5) < mnist_distance(x, sum_mean - (mean5/10))\n",
        "def is_6(x): return mnist_distance(x,mean6) < mnist_distance(x, sum_mean - (mean6/10))\n",
        "def is_7(x): return mnist_distance(x,mean7) < mnist_distance(x, sum_mean - (mean7/10))\n",
        "def is_8(x): return mnist_distance(x,mean8) < mnist_distance(x, sum_mean - (mean8/10))\n",
        "def is_9(x): return mnist_distance(x,mean9) < mnist_distance(x, sum_mean - (mean9/10))"
      ],
      "metadata": {
        "id": "oPL0irX-2sM-"
      },
      "execution_count": null,
      "outputs": []
    },
    {
      "cell_type": "code",
      "source": [
        "is_1(a_1), is_1(a_1).float()"
      ],
      "metadata": {
        "colab": {
          "base_uri": "https://localhost:8080/"
        },
        "id": "TMbYck2q-_QM",
        "outputId": "b1ba8d03-3271-42ea-c880-3cfac9a20784"
      },
      "execution_count": null,
      "outputs": [
        {
          "output_type": "execute_result",
          "data": {
            "text/plain": [
              "(tensor(True), tensor(1.))"
            ]
          },
          "metadata": {},
          "execution_count": 35
        }
      ]
    },
    {
      "cell_type": "code",
      "source": [
        "# validation set\n",
        "\n",
        "valid_0_tens = torch.stack([tensor(Image.open(o))\n",
        "                            for o in (path/'testing'/'0').ls()])\n",
        "valid_0_tens = valid_0_tens.float()\n",
        "\n",
        "valid_1_tens = torch.stack([tensor(Image.open(o))\n",
        "                            for o in (path/'testing'/'1').ls()])\n",
        "valid_1_tens = valid_1_tens.float()\n",
        "\n",
        "valid_2_tens = torch.stack([tensor(Image.open(o))\n",
        "                            for o in (path/'testing'/'2').ls()])\n",
        "valid_2_tens = valid_2_tens.float()\n",
        "\n",
        "valid_3_tens = torch.stack([tensor(Image.open(o))\n",
        "                            for o in (path/'testing'/'3').ls()])\n",
        "valid_3_tens = valid_3_tens.float()\n",
        "\n",
        "valid_4_tens = torch.stack([tensor(Image.open(o))\n",
        "                            for o in (path/'testing'/'4').ls()])\n",
        "valid_4_tens = valid_4_tens.float()\n",
        "\n",
        "valid_5_tens = torch.stack([tensor(Image.open(o))\n",
        "                            for o in (path/'testing'/'5').ls()])\n",
        "valid_5_tens = valid_5_tens.float()\n",
        "\n",
        "valid_6_tens = torch.stack([tensor(Image.open(o))\n",
        "                            for o in (path/'testing'/'6').ls()])\n",
        "valid_6_tens = valid_6_tens.float()\n",
        "\n",
        "valid_7_tens = torch.stack([tensor(Image.open(o))\n",
        "                            for o in (path/'testing'/'7').ls()])\n",
        "valid_7_tens = valid_7_tens.float()\n",
        "\n",
        "valid_8_tens = torch.stack([tensor(Image.open(o))\n",
        "                            for o in (path/'testing'/'8').ls()])\n",
        "valid_8_tens = valid_8_tens.float()\n",
        "\n",
        "valid_9_tens = torch.stack([tensor(Image.open(o))\n",
        "                            for o in (path/'testing'/'9').ls()])\n",
        "valid_9_tens = valid_9_tens.float()\n"
      ],
      "metadata": {
        "id": "lcG0uUgQXbWw"
      },
      "execution_count": null,
      "outputs": []
    },
    {
      "cell_type": "code",
      "source": [
        "#acc helper function\n",
        "\n",
        "def is_num(n):\n",
        "  is_0s = (is_0(n).float()).mean()\n",
        "  is_1s = (is_1(n).float()).mean()\n",
        "  is_2s = (is_2(n).float()).mean()\n",
        "  is_3s = (is_3(n).float()).mean()\n",
        "  is_4s = (is_4(n).float()).mean()\n",
        "  is_5s = (is_5(n).float()).mean()\n",
        "  is_6s = (is_6(n).float()).mean()\n",
        "  is_7s = (is_7(n).float()).mean()\n",
        "  is_8s = (is_8(n).float()).mean()\n",
        "  is_9s = (is_9(n).float()).mean()\n",
        "\n",
        "  return max(is_0s, is_1s, is_2s, is_3s, is_4s, is_5s, is_6s, is_7s, is_8s, is_9s)\n",
        "\n"
      ],
      "metadata": {
        "id": "JGN_EbLyl5G4"
      },
      "execution_count": null,
      "outputs": []
    },
    {
      "cell_type": "code",
      "source": [
        "#accuracy\n",
        "accuracy_0s = is_num(valid_0_tens)\n",
        "accuracy_1s = is_num(valid_1_tens)\n",
        "accuracy_2s = is_num(valid_2_tens)\n",
        "accuracy_3s = is_num(valid_3_tens)\n",
        "accuracy_4s = is_num(valid_4_tens)\n",
        "accuracy_5s = is_num(valid_5_tens)\n",
        "accuracy_6s = is_num(valid_6_tens)\n",
        "accuracy_7s = is_num(valid_7_tens)\n",
        "accuracy_8s = is_num(valid_8_tens)\n",
        "accuracy_9s = is_num(valid_9_tens)\n",
        "\n",
        "sum_acc = accuracy_0s + accuracy_1s + accuracy_2s + accuracy_3s + accuracy_4s + accuracy_5s + accuracy_6s + accuracy_7s + accuracy_8s + accuracy_9s\n",
        "accuracy_0s, accuracy_1s, accuracy_2s, accuracy_3s,accuracy_4s,accuracy_5s,accuracy_6s,accuracy_7s,accuracy_8s,accuracy_9s,sum_acc/10"
      ],
      "metadata": {
        "colab": {
          "base_uri": "https://localhost:8080/"
        },
        "id": "NS-mD_dbZTGh",
        "outputId": "5b319550-9670-49ad-a362-35c10aceccb9"
      },
      "execution_count": null,
      "outputs": [
        {
          "output_type": "execute_result",
          "data": {
            "text/plain": [
              "(tensor(0.9653),\n",
              " tensor(1.),\n",
              " tensor(0.9293),\n",
              " tensor(0.9762),\n",
              " tensor(0.9959),\n",
              " tensor(0.9047),\n",
              " tensor(0.9906),\n",
              " tensor(0.9864),\n",
              " tensor(0.9908),\n",
              " tensor(0.9970),\n",
              " tensor(0.9736))"
            ]
          },
          "metadata": {},
          "execution_count": 38
        }
      ]
    },
    {
      "cell_type": "markdown",
      "source": [
        "Stochastic Gradient Descent (This Week)"
      ],
      "metadata": {
        "id": "Y91mVeVHsrAC"
      }
    },
    {
      "cell_type": "code",
      "source": [
        "# create the MNIST loss function\n",
        "\n",
        "# concatenate the images into a single tensor and then change the type of the result to a list of vectors\n",
        "\n",
        "# train_x = torch.cat([stacked_zeroes, stacked_ones, stacked_twos, stacked_threes, stacked_fours, stacked_fives, stacked_sixes, stacked_sevens, stacked_eights, stacked_nines]).view(-1, 28*28)\n",
        "# train_x = torch.cat([stacked_ones, stacked_zeroes]).view(-1, 28*28)\n",
        "train_x = torch.cat([stacked_ones, stacked_zeroes, stacked_twos, stacked_threes, stacked_fours, stacked_fives, stacked_sixes, stacked_sevens, stacked_eights, stacked_nines]).view(-1, 28*28)\n",
        "train_x.shape"
      ],
      "metadata": {
        "id": "ozGEIdtWuIV5",
        "colab": {
          "base_uri": "https://localhost:8080/"
        },
        "outputId": "82cece8c-65a5-4ee4-8e66-571a96fc30d1"
      },
      "execution_count": null,
      "outputs": [
        {
          "output_type": "execute_result",
          "data": {
            "text/plain": [
              "torch.Size([60000, 784])"
            ]
          },
          "metadata": {},
          "execution_count": 44
        }
      ]
    },
    {
      "cell_type": "code",
      "source": [
        "# sum up the lengths for images of all digits aside from 1\n",
        "\n",
        "train_len = len(zeroes) + len(twos) + len(threes) + len(fours) + len(fives) + len(sixes) + len(sevens) + len(eights) + len(nines)"
      ],
      "metadata": {
        "id": "YTUgs2tDgg14"
      },
      "execution_count": null,
      "outputs": []
    },
    {
      "cell_type": "code",
      "source": [
        "# we need a label for each image so\n",
        "#train_y = tensor([9]*len(nines) + [8] * len(eights) + [7] * len(sevens) + [6]* len(sixes) + [5]*len(fives) + [4]*len(fours) + [3]*len(threes)+ [2]*len(twos) + [1]*len(ones) + [0]*len(zeroes)).unsqueeze(1)\n",
        "train_y = tensor([1]*len(ones) + [0]*train_len).unsqueeze(1)\n",
        "#train_y = tensor([1]*len(ones) + [0]*len(zeroes)).unsqueeze(1)"
      ],
      "metadata": {
        "id": "3fTRGLuB6XIQ"
      },
      "execution_count": null,
      "outputs": []
    },
    {
      "cell_type": "code",
      "source": [
        "# find the shape of both training sets\n",
        "train_x.shape, train_y.shape"
      ],
      "metadata": {
        "colab": {
          "base_uri": "https://localhost:8080/"
        },
        "id": "3iGdpkQEgH32",
        "outputId": "c3bd5f90-bd67-467b-ebff-23e1dd19c674"
      },
      "execution_count": null,
      "outputs": [
        {
          "output_type": "execute_result",
          "data": {
            "text/plain": [
              "(torch.Size([60000, 784]), torch.Size([60000, 1]))"
            ]
          },
          "metadata": {},
          "execution_count": 46
        }
      ]
    },
    {
      "cell_type": "code",
      "source": [
        "# uses the list and zip function to return the indexed dataset as a tuple\n",
        "dset = list(zip(train_x,train_y))\n",
        "x,y = dset[0]\n",
        "x.shape, y"
      ],
      "metadata": {
        "colab": {
          "base_uri": "https://localhost:8080/"
        },
        "id": "lOqZKzq0hF9D",
        "outputId": "8952f59a-8288-4e14-b243-20ceb8e5fa15"
      },
      "execution_count": null,
      "outputs": [
        {
          "output_type": "execute_result",
          "data": {
            "text/plain": [
              "(torch.Size([784]), tensor([1]))"
            ]
          },
          "metadata": {},
          "execution_count": 47
        }
      ]
    },
    {
      "cell_type": "code",
      "source": [
        "# take the len of all validation images of digits aside from 1\n",
        "valid_len = len(valid_0_tens) + len(valid_2_tens) + len(valid_3_tens) + len(valid_4_tens) + len(valid_5_tens) + len(valid_6_tens) + len(valid_7_tens) + len(valid_8_tens) + len(valid_9_tens)"
      ],
      "metadata": {
        "id": "Yr9ZsLhE1ksV"
      },
      "execution_count": null,
      "outputs": []
    },
    {
      "cell_type": "code",
      "source": [
        "len(valid_0_tens)"
      ],
      "metadata": {
        "colab": {
          "base_uri": "https://localhost:8080/"
        },
        "id": "GH7yCmG2Eex9",
        "outputId": "ff885f54-cce9-4973-d1ae-728d8fc4fb38"
      },
      "execution_count": null,
      "outputs": [
        {
          "output_type": "execute_result",
          "data": {
            "text/plain": [
              "980"
            ]
          },
          "metadata": {},
          "execution_count": 49
        }
      ]
    },
    {
      "cell_type": "code",
      "source": [
        "valid_x = torch.cat([valid_1_tens, valid_0_tens, valid_2_tens, valid_3_tens, valid_4_tens, valid_5_tens, valid_6_tens, valid_7_tens, valid_8_tens, valid_9_tens]).view(-1, 28*28)\n",
        "# valid_x = torch.cat([valid_1_tens, valid_len]).view(-1, 28*28)\n",
        "valid_y = tensor([1] * len(valid_1_tens) + [0]*valid_len).unsqueeze(1)\n",
        "valid_dset = list(zip(valid_x, valid_y))"
      ],
      "metadata": {
        "id": "LGYAKZ9jhW2d"
      },
      "execution_count": null,
      "outputs": []
    },
    {
      "cell_type": "code",
      "source": [
        "# create an initally random weight for every pixel (initalize step)\n",
        "\n",
        "def init_params(size, std=1.0):\n",
        "  return (torch.randn(size)*std).requires_grad_()"
      ],
      "metadata": {
        "id": "19mZ-rKrzjKf"
      },
      "execution_count": null,
      "outputs": []
    },
    {
      "cell_type": "code",
      "source": [
        "weights = init_params((28*28,1))"
      ],
      "metadata": {
        "id": "2wrYXNHE0HjQ"
      },
      "execution_count": null,
      "outputs": []
    },
    {
      "cell_type": "code",
      "source": [
        "bias = init_params(1)"
      ],
      "metadata": {
        "id": "jRa9J9lN0zVL"
      },
      "execution_count": null,
      "outputs": []
    },
    {
      "cell_type": "code",
      "source": [
        "(train_x[0]*weights.T).sum() + bias"
      ],
      "metadata": {
        "colab": {
          "base_uri": "https://localhost:8080/"
        },
        "id": "_IMTMj7U1eFP",
        "outputId": "4a24cd31-bd78-4e52-ff20-d69233fbe461"
      },
      "execution_count": null,
      "outputs": [
        {
          "output_type": "execute_result",
          "data": {
            "text/plain": [
              "tensor([-8.7663], grad_fn=<AddBackward0>)"
            ]
          },
          "metadata": {},
          "execution_count": 57
        }
      ]
    },
    {
      "cell_type": "code",
      "execution_count": null,
      "metadata": {
        "colab": {
          "base_uri": "https://localhost:8080/"
        },
        "id": "1qU92MgRtNkC",
        "outputId": "3e7aeb8a-18f6-4edb-e004-ac78eafb6100"
      },
      "outputs": [
        {
          "output_type": "execute_result",
          "data": {
            "text/plain": [
              "tensor([[ -8.7663],\n",
              "        [ -8.2612],\n",
              "        [ -5.4104],\n",
              "        ...,\n",
              "        [ -8.8975],\n",
              "        [-10.6736],\n",
              "        [ -6.4075]], grad_fn=<AddBackward0>)"
            ]
          },
          "metadata": {},
          "execution_count": 58
        }
      ],
      "source": [
        "# use matrix multiplication to calculate the prediction for each image\n",
        "# more efficient than loops\n",
        "\n",
        "def linear1(xb): return xb@weights + bias\n",
        "preds = linear1(train_x)\n",
        "preds"
      ]
    },
    {
      "cell_type": "code",
      "execution_count": null,
      "metadata": {
        "colab": {
          "base_uri": "https://localhost:8080/"
        },
        "id": "x_REG4NttNkC",
        "outputId": "ded99b61-6346-4f6f-b267-2e2631f1fc5a"
      },
      "outputs": [
        {
          "output_type": "execute_result",
          "data": {
            "text/plain": [
              "tensor([[False],\n",
              "        [False],\n",
              "        [False],\n",
              "        ...,\n",
              "        [ True],\n",
              "        [ True],\n",
              "        [ True]])"
            ]
          },
          "metadata": {},
          "execution_count": 59
        }
      ],
      "source": [
        "# check the accuracy by finding whether it's greater than 0.0 to decide whether the number is 1.\n",
        "corrects = (preds>0.0).float() == train_y\n",
        "corrects"
      ]
    },
    {
      "cell_type": "code",
      "execution_count": null,
      "metadata": {
        "colab": {
          "base_uri": "https://localhost:8080/"
        },
        "id": "PyrvxAhLtNkC",
        "outputId": "86de7f56-12a6-4f9b-876c-854a3088626b"
      },
      "outputs": [
        {
          "output_type": "execute_result",
          "data": {
            "text/plain": [
              "0.7790499925613403"
            ]
          },
          "metadata": {},
          "execution_count": 60
        }
      ],
      "source": [
        "corrects.float().mean().item()"
      ]
    },
    {
      "cell_type": "code",
      "source": [
        "# find the change in accuracy for a small change in one of the weights\n",
        "\n",
        "with torch.no_grad(): weights[0] *= 1.0001\n",
        "preds = linear1(train_x)\n",
        "((preds>0.0).float() == train_y).float().mean().item()"
      ],
      "metadata": {
        "colab": {
          "base_uri": "https://localhost:8080/"
        },
        "id": "ykktEeLp58MN",
        "outputId": "49e46d09-f1b9-4eda-a431-a3492fa5485a"
      },
      "execution_count": null,
      "outputs": [
        {
          "output_type": "execute_result",
          "data": {
            "text/plain": [
              "0.7790499925613403"
            ]
          },
          "metadata": {},
          "execution_count": 61
        }
      ]
    },
    {
      "cell_type": "code",
      "source": [
        "# measure the difference between the predicted values and the true values (targets/labels)\n",
        "trgts  = tensor([1,0,1])  # tells whether the image actually is a 1\n",
        "prds   = tensor([0.9, 0.4, 0.2]) # each value is the prediction that an image is a 1"
      ],
      "metadata": {
        "id": "rLp4t67l7h33"
      },
      "execution_count": null,
      "outputs": []
    },
    {
      "cell_type": "code",
      "source": [
        "# create a loss function to measure the distance between predictions and targets\n",
        "def mnist_loss(predictions, targets):\n",
        "    return torch.where(targets==1, 1-predictions, predictions).mean()"
      ],
      "metadata": {
        "id": "rzBw_nnP7pl2"
      },
      "execution_count": null,
      "outputs": []
    },
    {
      "cell_type": "code",
      "source": [
        "# where function measures how distant each function is from a number if it should be that number\n",
        "torch.where(trgts==1, 1-prds, prds)"
      ],
      "metadata": {
        "colab": {
          "base_uri": "https://localhost:8080/"
        },
        "id": "7Dzkj-qQAWub",
        "outputId": "dcfbcc81-be53-464b-a980-00112a8f7551"
      },
      "execution_count": null,
      "outputs": [
        {
          "output_type": "execute_result",
          "data": {
            "text/plain": [
              "tensor([0.1000, 0.4000, 0.8000])"
            ]
          },
          "metadata": {},
          "execution_count": 65
        }
      ]
    },
    {
      "cell_type": "code",
      "source": [
        "# need a scalar for the final loss; takes the mean of the previous tensor\n",
        "mnist_loss(prds,trgts)"
      ],
      "metadata": {
        "colab": {
          "base_uri": "https://localhost:8080/"
        },
        "id": "q1iTXHG6A4vK",
        "outputId": "fe9e5a8b-235a-4923-e0c6-87c87a8ca5c2"
      },
      "execution_count": null,
      "outputs": [
        {
          "output_type": "execute_result",
          "data": {
            "text/plain": [
              "tensor(0.4333)"
            ]
          },
          "metadata": {},
          "execution_count": 66
        }
      ]
    },
    {
      "cell_type": "code",
      "source": [
        "# change our prediction of the \"false target\" from 0.2 to 0.8, so the loss will go down\n",
        "mnist_loss(tensor([0.9, 0.4, 0.8]),trgts)"
      ],
      "metadata": {
        "colab": {
          "base_uri": "https://localhost:8080/"
        },
        "id": "KOk5eP1ABMKW",
        "outputId": "b0f96e5a-cce5-4ab4-ee27-a4e40872ee62"
      },
      "execution_count": null,
      "outputs": [
        {
          "output_type": "execute_result",
          "data": {
            "text/plain": [
              "tensor(0.2333)"
            ]
          },
          "metadata": {},
          "execution_count": 67
        }
      ]
    },
    {
      "cell_type": "code",
      "source": [
        "# always outputs a number between 0 and 1\n",
        "def sigmoid(x): return 1/(1+torch.exp(-x))"
      ],
      "metadata": {
        "id": "dcbp-ZbOCkGS"
      },
      "execution_count": null,
      "outputs": []
    },
    {
      "cell_type": "code",
      "source": [
        "# graph the function\n",
        "plot_function(torch.sigmoid, title='Sigmoid', min=-4, max=4)"
      ],
      "metadata": {
        "colab": {
          "base_uri": "https://localhost:8080/",
          "height": 396
        },
        "id": "u5tYvp8MClXB",
        "outputId": "50675379-fecc-48dd-b98c-6fa4a4fd5013"
      },
      "execution_count": null,
      "outputs": [
        {
          "output_type": "display_data",
          "data": {
            "text/plain": [
              "<Figure size 600x400 with 1 Axes>"
            ],
            "image/png": "[encoded data removed]"
          },
          "metadata": {}
        }
      ]
    },
    {
      "cell_type": "code",
      "source": [
        "# update mnist_loss to apply the sigmoid function to the inputs\n",
        "\n",
        "def mnist_loss(predictions, targets):\n",
        "  predictions = predictions.sigmoid()\n",
        "  return torch.where(targets==1, 1-predictions, predictions).mean()"
      ],
      "metadata": {
        "id": "7CtjuHGHxfvK"
      },
      "execution_count": null,
      "outputs": []
    },
    {
      "cell_type": "code",
      "source": [
        "# Dataloader takes any Python collection and turns it into an iterator over small\n",
        "# batches\n",
        "coll = range(15)\n",
        "dl = DataLoader(coll, batch_size=5, shuffle=True)\n",
        "list(dl)"
      ],
      "metadata": {
        "colab": {
          "base_uri": "https://localhost:8080/"
        },
        "id": "HwZiayZaXiq5",
        "outputId": "37e550e7-6341-4cc0-a1f1-9e8d574c0e2a"
      },
      "execution_count": null,
      "outputs": [
        {
          "output_type": "execute_result",
          "data": {
            "text/plain": [
              "[tensor([ 3, 12,  8, 10,  2]),\n",
              " tensor([ 9,  4,  7, 14,  5]),\n",
              " tensor([ 1, 13,  0,  6, 11])]"
            ]
          },
          "metadata": {},
          "execution_count": 70
        }
      ]
    },
    {
      "cell_type": "code",
      "source": [
        "# reinitalize our parameters to fit the image size\n",
        "weights = init_params((28*28,1))\n",
        "bias = init_params(1)"
      ],
      "metadata": {
        "id": "qreR_dqDXfhN"
      },
      "execution_count": null,
      "outputs": []
    },
    {
      "cell_type": "code",
      "source": [
        "# a dataloader can be created from a dataset\n",
        "dl = DataLoader(dset, batch_size=256)\n",
        "xb,yb = first(dl)\n",
        "xb.shape,yb.shape"
      ],
      "metadata": {
        "colab": {
          "base_uri": "https://localhost:8080/"
        },
        "id": "C2JW-oJI8JsU",
        "outputId": "fb1c81dc-15e6-46b8-c638-347bfce035c3"
      },
      "execution_count": null,
      "outputs": [
        {
          "output_type": "execute_result",
          "data": {
            "text/plain": [
              "(torch.Size([256, 784]), torch.Size([256, 1]))"
            ]
          },
          "metadata": {},
          "execution_count": 72
        }
      ]
    },
    {
      "cell_type": "code",
      "source": [
        "# repeat for the validation set\n",
        "valid_dl = DataLoader(valid_dset, batch_size=256)"
      ],
      "metadata": {
        "id": "3wGmvU628Myj"
      },
      "execution_count": null,
      "outputs": []
    },
    {
      "cell_type": "code",
      "source": [
        "# create a batch of 4 for testing\n",
        "batch = train_x[:4]\n",
        "batch.shape"
      ],
      "metadata": {
        "colab": {
          "base_uri": "https://localhost:8080/"
        },
        "id": "v25ilSbT8PYq",
        "outputId": "b233d3e7-a4fc-4db2-bc48-dd4e30225ae8"
      },
      "execution_count": null,
      "outputs": [
        {
          "output_type": "execute_result",
          "data": {
            "text/plain": [
              "torch.Size([4, 784])"
            ]
          },
          "metadata": {},
          "execution_count": 74
        }
      ]
    },
    {
      "cell_type": "code",
      "source": [
        "preds = linear1(batch)\n",
        "preds"
      ],
      "metadata": {
        "colab": {
          "base_uri": "https://localhost:8080/"
        },
        "id": "K3a-cX-g8RCM",
        "outputId": "86f7d94f-408c-4d68-e695-3c45174f3b6c"
      },
      "execution_count": null,
      "outputs": [
        {
          "output_type": "execute_result",
          "data": {
            "text/plain": [
              "tensor([[-1.3872],\n",
              "        [ 5.8706],\n",
              "        [-1.1280],\n",
              "        [ 3.9634]], grad_fn=<AddBackward0>)"
            ]
          },
          "metadata": {},
          "execution_count": 75
        }
      ]
    },
    {
      "cell_type": "code",
      "source": [
        "loss = mnist_loss(preds, train_y[:4])\n",
        "loss"
      ],
      "metadata": {
        "colab": {
          "base_uri": "https://localhost:8080/"
        },
        "id": "_7iNJ8zq8Um0",
        "outputId": "80ad68eb-d781-43c7-96ab-452c49af162d"
      },
      "execution_count": null,
      "outputs": [
        {
          "output_type": "execute_result",
          "data": {
            "text/plain": [
              "tensor(0.3943, grad_fn=<MeanBackward0>)"
            ]
          },
          "metadata": {},
          "execution_count": 76
        }
      ]
    },
    {
      "cell_type": "code",
      "source": [
        "# calculate the gradients\n",
        "\n",
        "loss.backward()\n",
        "weights.grad.shape,weights.grad.mean(),bias.grad"
      ],
      "metadata": {
        "colab": {
          "base_uri": "https://localhost:8080/"
        },
        "id": "PsyyHebs8f4W",
        "outputId": "a3ed9212-1ddc-4bba-e470-b55db0800b09"
      },
      "execution_count": null,
      "outputs": [
        {
          "output_type": "execute_result",
          "data": {
            "text/plain": [
              "(torch.Size([784, 1]), tensor(-0.0046), tensor([-0.0914]))"
            ]
          },
          "metadata": {},
          "execution_count": 77
        }
      ]
    },
    {
      "cell_type": "code",
      "source": [
        "# let's put all of that into a function\n",
        "\n",
        "def calc_grad(xb, yb, model):\n",
        "    preds = model(xb)\n",
        "    loss = mnist_loss(preds, yb)\n",
        "    loss.backward()"
      ],
      "metadata": {
        "id": "YVIMz2sg9MAY"
      },
      "execution_count": null,
      "outputs": []
    },
    {
      "cell_type": "code",
      "source": [
        "# test the function\n",
        "calc_grad(batch, train_y[:4], linear1)\n",
        "weights.grad.mean(),bias.grad"
      ],
      "metadata": {
        "colab": {
          "base_uri": "https://localhost:8080/"
        },
        "id": "2Duso7Vd9emB",
        "outputId": "b22d1345-b56b-4f12-d1d8-6fc896b0e195"
      },
      "execution_count": null,
      "outputs": [
        {
          "output_type": "execute_result",
          "data": {
            "text/plain": [
              "(tensor(-0.0093), tensor([-0.1829]))"
            ]
          },
          "metadata": {},
          "execution_count": 79
        }
      ]
    },
    {
      "cell_type": "code",
      "source": [
        "# set the gradients to 0 so that it doesn't change the gradients each time the function is called\n",
        "weights.grad.zero_()\n",
        "bias.grad.zero_();"
      ],
      "metadata": {
        "id": "FpXbmGhc9uP7"
      },
      "execution_count": null,
      "outputs": []
    },
    {
      "cell_type": "code",
      "source": [
        "# update the weights and biases based on the gradient.\n",
        "# be sure to inform torch not to take the gradient for this function or else\n",
        "# computing the derivative of the batch will be confusing\n",
        "\n",
        "def train_epoch(model, lr, params):\n",
        "    for xb,yb in dl:\n",
        "        calc_grad(xb, yb, model)\n",
        "        for p in params:\n",
        "            p.data -= p.grad*lr\n",
        "            p.grad.zero_()"
      ],
      "metadata": {
        "id": "PSumpWu79uUS"
      },
      "execution_count": null,
      "outputs": []
    },
    {
      "cell_type": "code",
      "source": [
        "# check the accuracy of the batches\n",
        "(preds>0.0).float() == train_y[:4]"
      ],
      "metadata": {
        "colab": {
          "base_uri": "https://localhost:8080/"
        },
        "id": "o-WBcItg99-Z",
        "outputId": "aedefa1c-2cdc-44d5-9ffe-1fa7e5f62599"
      },
      "execution_count": null,
      "outputs": [
        {
          "output_type": "execute_result",
          "data": {
            "text/plain": [
              "tensor([[False],\n",
              "        [ True],\n",
              "        [False],\n",
              "        [ True]])"
            ]
          },
          "metadata": {},
          "execution_count": 82
        }
      ]
    },
    {
      "cell_type": "code",
      "source": [
        "def batch_accuracy(xb, yb):\n",
        "    preds = xb.sigmoid()\n",
        "    correct = (preds>0.5) == yb\n",
        "    return correct.float().mean()"
      ],
      "metadata": {
        "id": "qgPTxV1O-IYU"
      },
      "execution_count": null,
      "outputs": []
    },
    {
      "cell_type": "code",
      "source": [
        "batch_accuracy(linear1(batch), train_y[:4])"
      ],
      "metadata": {
        "colab": {
          "base_uri": "https://localhost:8080/"
        },
        "id": "5f9PoHNk-XNi",
        "outputId": "ea2dc7d5-72f2-4f66-b7f8-8a514cbb0b89"
      },
      "execution_count": null,
      "outputs": [
        {
          "output_type": "execute_result",
          "data": {
            "text/plain": [
              "tensor(0.5000)"
            ]
          },
          "metadata": {},
          "execution_count": 84
        }
      ]
    },
    {
      "cell_type": "code",
      "source": [
        "# now lets check the accuracy of the epoch\n",
        "def validate_epoch(model):\n",
        "    accs = [batch_accuracy(model(xb), yb) for xb,yb in valid_dl]\n",
        "    return round(torch.stack(accs).mean().item(), 4)"
      ],
      "metadata": {
        "id": "H2clCfTe-kgC"
      },
      "execution_count": null,
      "outputs": []
    },
    {
      "cell_type": "code",
      "source": [
        "validate_epoch(linear1)"
      ],
      "metadata": {
        "colab": {
          "base_uri": "https://localhost:8080/"
        },
        "id": "r981DMtj-5ke",
        "outputId": "b2288cac-922b-4431-d630-a6c46d354a7a"
      },
      "execution_count": null,
      "outputs": [
        {
          "output_type": "execute_result",
          "data": {
            "text/plain": [
              "0.3334"
            ]
          },
          "metadata": {},
          "execution_count": 86
        }
      ]
    },
    {
      "cell_type": "code",
      "source": [
        "# let's train for one epoch and see if the accuracy improves\n",
        "\n",
        "lr = 1.\n",
        "params = weights,bias\n",
        "train_epoch(linear1, lr, params)\n",
        "validate_epoch(linear1)"
      ],
      "metadata": {
        "colab": {
          "base_uri": "https://localhost:8080/"
        },
        "id": "OgKJ_Guf_QbS",
        "outputId": "a6084c84-6981-444f-fd69-1320280b7e27"
      },
      "execution_count": null,
      "outputs": [
        {
          "output_type": "execute_result",
          "data": {
            "text/plain": [
              "0.8893"
            ]
          },
          "metadata": {},
          "execution_count": 87
        }
      ]
    },
    {
      "cell_type": "code",
      "source": [
        "# repeat 20 times\n",
        "\n",
        "for i in range(20):\n",
        "    train_epoch(linear1, lr, params)\n",
        "    print(validate_epoch(linear1), end=' ')"
      ],
      "metadata": {
        "colab": {
          "base_uri": "https://localhost:8080/"
        },
        "id": "3TvTwx1L_W0n",
        "outputId": "96ab45c0-e972-426b-c853-f1c5ae439e10"
      },
      "execution_count": null,
      "outputs": [
        {
          "output_type": "stream",
          "name": "stdout",
          "text": [
            "0.9021 0.9285 0.946 0.9564 0.9624 0.9675 0.9705 0.9736 0.9767 0.9778 0.9797 0.9812 0.9821 0.983 0.9839 0.9847 0.9854 0.986 0.9866 0.9867 "
          ]
        }
      ]
    },
    {
      "cell_type": "markdown",
      "source": [
        "Optimizer"
      ],
      "metadata": {
        "id": "n5_LBNlJcRlK"
      }
    },
    {
      "cell_type": "code",
      "source": [
        "linear_model = nn.Linear(28*28, 1)"
      ],
      "metadata": {
        "id": "Bsyg0rBsMiL-"
      },
      "execution_count": null,
      "outputs": []
    },
    {
      "cell_type": "code",
      "source": [
        "w,b = linear_model.parameters()\n",
        "w.shape, b.shape"
      ],
      "metadata": {
        "colab": {
          "base_uri": "https://localhost:8080/"
        },
        "id": "ekrLvTYdc32B",
        "outputId": "4a0f1ca7-505c-41f3-808f-344e903fa943"
      },
      "execution_count": null,
      "outputs": [
        {
          "output_type": "execute_result",
          "data": {
            "text/plain": [
              "(torch.Size([1, 784]), torch.Size([1]))"
            ]
          },
          "metadata": {},
          "execution_count": 91
        }
      ]
    },
    {
      "cell_type": "code",
      "source": [
        "class BasicOptim:\n",
        "  def __init__(self, params, lr):\n",
        "    self.params, self.lr = list(params), lr\n",
        "\n",
        "  def step(self, *args, **kwargs):\n",
        "    for p in self.params:\n",
        "      p.data -= p.grad.data * self.lr\n",
        "\n",
        "  def zero_grad(self, *args, **kwargs):\n",
        "    for p in self.params:\n",
        "      p.grad = None"
      ],
      "metadata": {
        "id": "6a6gUoledtl2"
      },
      "execution_count": null,
      "outputs": []
    },
    {
      "cell_type": "code",
      "source": [
        "opt = BasicOptim(linear_model.parameters(), lr)"
      ],
      "metadata": {
        "id": "OTnkzXyDeKrX"
      },
      "execution_count": null,
      "outputs": []
    },
    {
      "cell_type": "code",
      "source": [
        "# the training loop can be simplified to\n",
        "def train_epoch(model):\n",
        "    for xb,yb in dl:\n",
        "        calc_grad(xb, yb, model)\n",
        "        opt.step()\n",
        "        opt.zero_grad()"
      ],
      "metadata": {
        "id": "C3TlKpoKeUX6"
      },
      "execution_count": null,
      "outputs": []
    },
    {
      "cell_type": "code",
      "source": [
        "validate_epoch(linear_model)"
      ],
      "metadata": {
        "colab": {
          "base_uri": "https://localhost:8080/"
        },
        "id": "dBZK-4jRgt77",
        "outputId": "f565c0dd-858d-4949-e7c6-42e245079283"
      },
      "execution_count": null,
      "outputs": [
        {
          "output_type": "execute_result",
          "data": {
            "text/plain": [
              "0.7016"
            ]
          },
          "metadata": {},
          "execution_count": 95
        }
      ]
    },
    {
      "cell_type": "code",
      "source": [
        "# let's put the training loop into a function\n",
        "\n",
        "def train_model(model, epochs):\n",
        "    for i in range(epochs):\n",
        "        train_epoch(model)\n",
        "        print(validate_epoch(model), end=' ')"
      ],
      "metadata": {
        "id": "lap4twc2gx1c"
      },
      "execution_count": null,
      "outputs": []
    },
    {
      "cell_type": "code",
      "source": [
        "train_model(linear_model, 20)"
      ],
      "metadata": {
        "colab": {
          "base_uri": "https://localhost:8080/"
        },
        "id": "G4y3wvdChdcL",
        "outputId": "5d0641d3-e9af-4ed9-e1b1-0954b7e7d1b7"
      },
      "execution_count": null,
      "outputs": [
        {
          "output_type": "stream",
          "name": "stdout",
          "text": [
            "0.8892 0.8927 0.9112 0.9224 0.9295 0.9356 0.9409 0.9462 0.9513 0.9555 0.9586 0.9614 0.9638 0.9669 0.9693 0.9713 0.9727 0.9744 0.9759 0.9771 "
          ]
        }
      ]
    },
    {
      "cell_type": "code",
      "source": [
        "# let's use the SGD class to train the model since it's easier\n",
        "linear_model = nn.Linear(28*28,1)\n",
        "opt = SGD(linear_model.parameters(), lr)\n",
        "train_model(linear_model, 20)"
      ],
      "metadata": {
        "colab": {
          "base_uri": "https://localhost:8080/"
        },
        "id": "-3sPNhdzhh_8",
        "outputId": "89ddb2b3-caa0-4887-b32b-d144e390e823"
      },
      "execution_count": null,
      "outputs": [
        {
          "output_type": "stream",
          "name": "stdout",
          "text": [
            "0.8892 0.8935 0.9109 0.9216 0.9294 0.9352 0.9404 0.9461 0.9509 0.9554 0.9581 0.9612 0.9637 0.9671 0.9694 0.9712 0.9725 0.9746 0.9757 0.9771 "
          ]
        }
      ]
    },
    {
      "cell_type": "code",
      "source": [
        "# fastai provides Learner.fit which we could use\n",
        "# first, create a dataloaders set with training and test dataloaders\n",
        "dls = DataLoaders(dl, valid_dl)"
      ],
      "metadata": {
        "id": "dUgZkQzlhxUu"
      },
      "execution_count": null,
      "outputs": []
    },
    {
      "cell_type": "code",
      "source": [
        "# create a learner\n",
        "learn = Learner(dls, nn.Linear(28*28, 1), opt_func=SGD, loss_func=mnist_loss, metrics=batch_accuracy)"
      ],
      "metadata": {
        "id": "TyNNSH3QiFYo"
      },
      "execution_count": null,
      "outputs": []
    },
    {
      "cell_type": "code",
      "source": [
        "# call fit\n",
        "learn.fit(10, lr=lr)"
      ],
      "metadata": {
        "colab": {
          "base_uri": "https://localhost:8080/",
          "height": 363
        },
        "id": "kVzUQxy3iSVZ",
        "outputId": "2fd6b548-3fe3-4caf-fcf2-7851be58c859"
      },
      "execution_count": null,
      "outputs": [
        {
          "output_type": "display_data",
          "data": {
            "text/plain": [
              "<IPython.core.display.HTML object>"
            ],
            "text/html": [
              "\n",
              "<style>\n",
              "    /* Turns off some styling */\n",
              "    progress {\n",
              "        /* gets rid of default border in Firefox and Opera. */\n",
              "        border: none;\n",
              "        /* Needs to be in here for Safari polyfill so background images work as expected. */\n",
              "        background-size: auto;\n",
              "    }\n",
              "    progress:not([value]), progress:not([value])::-webkit-progress-bar {\n",
              "        background: repeating-linear-gradient(45deg, #7e7e7e, #7e7e7e 10px, #5c5c5c 10px, #5c5c5c 20px);\n",
              "    }\n",
              "    .progress-bar-interrupted, .progress-bar-interrupted::-webkit-progress-bar {\n",
              "        background: #F44336;\n",
              "    }\n",
              "</style>\n"
            ]
          },
          "metadata": {}
        },
        {
          "output_type": "display_data",
          "data": {
            "text/plain": [
              "<IPython.core.display.HTML object>"
            ],
            "text/html": [
              "<table border=\"1\" class=\"dataframe\">\n",
              "  <thead>\n",
              "    <tr style=\"text-align: left;\">\n",
              "      <th>epoch</th>\n",
              "      <th>train_loss</th>\n",
              "      <th>valid_loss</th>\n",
              "      <th>batch_accuracy</th>\n",
              "      <th>time</th>\n",
              "    </tr>\n",
              "  </thead>\n",
              "  <tbody>\n",
              "    <tr>\n",
              "      <td>0</td>\n",
              "      <td>0.002179</td>\n",
              "      <td>0.113500</td>\n",
              "      <td>0.886500</td>\n",
              "      <td>00:00</td>\n",
              "    </tr>\n",
              "    <tr>\n",
              "      <td>1</td>\n",
              "      <td>0.001573</td>\n",
              "      <td>0.109138</td>\n",
              "      <td>0.890900</td>\n",
              "      <td>00:00</td>\n",
              "    </tr>\n",
              "    <tr>\n",
              "      <td>2</td>\n",
              "      <td>0.001398</td>\n",
              "      <td>0.091523</td>\n",
              "      <td>0.908400</td>\n",
              "      <td>00:00</td>\n",
              "    </tr>\n",
              "    <tr>\n",
              "      <td>3</td>\n",
              "      <td>0.001429</td>\n",
              "      <td>0.080404</td>\n",
              "      <td>0.919600</td>\n",
              "      <td>00:00</td>\n",
              "    </tr>\n",
              "    <tr>\n",
              "      <td>4</td>\n",
              "      <td>0.001492</td>\n",
              "      <td>0.072878</td>\n",
              "      <td>0.927100</td>\n",
              "      <td>00:00</td>\n",
              "    </tr>\n",
              "    <tr>\n",
              "      <td>5</td>\n",
              "      <td>0.001573</td>\n",
              "      <td>0.066642</td>\n",
              "      <td>0.933400</td>\n",
              "      <td>00:00</td>\n",
              "    </tr>\n",
              "    <tr>\n",
              "      <td>6</td>\n",
              "      <td>0.001660</td>\n",
              "      <td>0.060843</td>\n",
              "      <td>0.939200</td>\n",
              "      <td>00:00</td>\n",
              "    </tr>\n",
              "    <tr>\n",
              "      <td>7</td>\n",
              "      <td>0.001747</td>\n",
              "      <td>0.055523</td>\n",
              "      <td>0.944400</td>\n",
              "      <td>00:00</td>\n",
              "    </tr>\n",
              "    <tr>\n",
              "      <td>8</td>\n",
              "      <td>0.001831</td>\n",
              "      <td>0.050253</td>\n",
              "      <td>0.949700</td>\n",
              "      <td>00:00</td>\n",
              "    </tr>\n",
              "    <tr>\n",
              "      <td>9</td>\n",
              "      <td>0.001911</td>\n",
              "      <td>0.045871</td>\n",
              "      <td>0.954200</td>\n",
              "      <td>00:00</td>\n",
              "    </tr>\n",
              "  </tbody>\n",
              "</table>"
            ]
          },
          "metadata": {}
        }
      ]
    },
    {
      "cell_type": "markdown",
      "source": [
        "Adding a Nonlinearity"
      ],
      "metadata": {
        "id": "ecZj6UK4ij3p"
      }
    },
    {
      "cell_type": "code",
      "source": [
        "from base64 import b16decode\n",
        "# let's make our linear classifier a bit more complex\n",
        "\n",
        "# our basic neural network\n",
        "def simple_net(xb):\n",
        "  res = xb@w1 + b1\n",
        "  res = res.max(tensor(0.0))\n",
        "  res = res@w2 + b2\n",
        "  return res"
      ],
      "metadata": {
        "id": "30m6pqSXir3i"
      },
      "execution_count": null,
      "outputs": []
    },
    {
      "cell_type": "code",
      "source": [
        "w1 = init_params((28*28,30))\n",
        "b1 = init_params(30)\n",
        "w2 = init_params((30,1))\n",
        "b2 = init_params(1)"
      ],
      "metadata": {
        "id": "BsyWz-eAjC0E"
      },
      "execution_count": null,
      "outputs": []
    },
    {
      "cell_type": "code",
      "source": [
        "# let's replace the simple network function with something more efficient\n",
        "# using PyTorch\n",
        "simple_net = nn.Sequential(\n",
        "    nn.Linear(28*28, 30),\n",
        "    nn.ReLU(),\n",
        "    nn.Linear(30,1)\n",
        ")"
      ],
      "metadata": {
        "id": "KRN5Ng87jXwZ"
      },
      "execution_count": null,
      "outputs": []
    },
    {
      "cell_type": "code",
      "source": [
        "# since nn.Sequential is a module, we can get its parameters\n",
        "learn = Learner(dls, simple_net, opt_func=SGD, loss_func=mnist_loss, metrics=batch_accuracy)"
      ],
      "metadata": {
        "id": "-NMRftZpjkvr"
      },
      "execution_count": null,
      "outputs": []
    },
    {
      "cell_type": "code",
      "source": [
        "learn.fit(40, 0.1)"
      ],
      "metadata": {
        "colab": {
          "base_uri": "https://localhost:8080/",
          "height": 1000
        },
        "id": "KTuLe9ZFky4e",
        "outputId": "9abe33d0-9ecc-4658-a126-d3ec9217ecc7"
      },
      "execution_count": null,
      "outputs": [
        {
          "output_type": "display_data",
          "data": {
            "text/plain": [
              "<IPython.core.display.HTML object>"
            ],
            "text/html": [
              "\n",
              "<style>\n",
              "    /* Turns off some styling */\n",
              "    progress {\n",
              "        /* gets rid of default border in Firefox and Opera. */\n",
              "        border: none;\n",
              "        /* Needs to be in here for Safari polyfill so background images work as expected. */\n",
              "        background-size: auto;\n",
              "    }\n",
              "    progress:not([value]), progress:not([value])::-webkit-progress-bar {\n",
              "        background: repeating-linear-gradient(45deg, #7e7e7e, #7e7e7e 10px, #5c5c5c 10px, #5c5c5c 20px);\n",
              "    }\n",
              "    .progress-bar-interrupted, .progress-bar-interrupted::-webkit-progress-bar {\n",
              "        background: #F44336;\n",
              "    }\n",
              "</style>\n"
            ]
          },
          "metadata": {}
        },
        {
          "output_type": "display_data",
          "data": {
            "text/plain": [
              "<IPython.core.display.HTML object>"
            ],
            "text/html": [
              "<table border=\"1\" class=\"dataframe\">\n",
              "  <thead>\n",
              "    <tr style=\"text-align: left;\">\n",
              "      <th>epoch</th>\n",
              "      <th>train_loss</th>\n",
              "      <th>valid_loss</th>\n",
              "      <th>batch_accuracy</th>\n",
              "      <th>time</th>\n",
              "    </tr>\n",
              "  </thead>\n",
              "  <tbody>\n",
              "    <tr>\n",
              "      <td>0</td>\n",
              "      <td>0.005851</td>\n",
              "      <td>0.113500</td>\n",
              "      <td>0.886500</td>\n",
              "      <td>00:01</td>\n",
              "    </tr>\n",
              "    <tr>\n",
              "      <td>1</td>\n",
              "      <td>0.004206</td>\n",
              "      <td>0.110497</td>\n",
              "      <td>0.889600</td>\n",
              "      <td>00:01</td>\n",
              "    </tr>\n",
              "    <tr>\n",
              "      <td>2</td>\n",
              "      <td>0.002878</td>\n",
              "      <td>0.078323</td>\n",
              "      <td>0.921700</td>\n",
              "      <td>00:01</td>\n",
              "    </tr>\n",
              "    <tr>\n",
              "      <td>3</td>\n",
              "      <td>0.002705</td>\n",
              "      <td>0.062294</td>\n",
              "      <td>0.937700</td>\n",
              "      <td>00:01</td>\n",
              "    </tr>\n",
              "    <tr>\n",
              "      <td>4</td>\n",
              "      <td>0.002683</td>\n",
              "      <td>0.052990</td>\n",
              "      <td>0.947100</td>\n",
              "      <td>00:00</td>\n",
              "    </tr>\n",
              "    <tr>\n",
              "      <td>5</td>\n",
              "      <td>0.002711</td>\n",
              "      <td>0.045417</td>\n",
              "      <td>0.954600</td>\n",
              "      <td>00:00</td>\n",
              "    </tr>\n",
              "    <tr>\n",
              "      <td>6</td>\n",
              "      <td>0.002757</td>\n",
              "      <td>0.040886</td>\n",
              "      <td>0.959100</td>\n",
              "      <td>00:00</td>\n",
              "    </tr>\n",
              "    <tr>\n",
              "      <td>7</td>\n",
              "      <td>0.002804</td>\n",
              "      <td>0.036318</td>\n",
              "      <td>0.963600</td>\n",
              "      <td>00:00</td>\n",
              "    </tr>\n",
              "    <tr>\n",
              "      <td>8</td>\n",
              "      <td>0.002847</td>\n",
              "      <td>0.032534</td>\n",
              "      <td>0.967500</td>\n",
              "      <td>00:00</td>\n",
              "    </tr>\n",
              "    <tr>\n",
              "      <td>9</td>\n",
              "      <td>0.002884</td>\n",
              "      <td>0.029708</td>\n",
              "      <td>0.970300</td>\n",
              "      <td>00:00</td>\n",
              "    </tr>\n",
              "    <tr>\n",
              "      <td>10</td>\n",
              "      <td>0.002916</td>\n",
              "      <td>0.027799</td>\n",
              "      <td>0.972200</td>\n",
              "      <td>00:00</td>\n",
              "    </tr>\n",
              "    <tr>\n",
              "      <td>11</td>\n",
              "      <td>0.002943</td>\n",
              "      <td>0.026118</td>\n",
              "      <td>0.973900</td>\n",
              "      <td>00:00</td>\n",
              "    </tr>\n",
              "    <tr>\n",
              "      <td>12</td>\n",
              "      <td>0.002966</td>\n",
              "      <td>0.024597</td>\n",
              "      <td>0.975400</td>\n",
              "      <td>00:00</td>\n",
              "    </tr>\n",
              "    <tr>\n",
              "      <td>13</td>\n",
              "      <td>0.002985</td>\n",
              "      <td>0.021918</td>\n",
              "      <td>0.978100</td>\n",
              "      <td>00:00</td>\n",
              "    </tr>\n",
              "    <tr>\n",
              "      <td>14</td>\n",
              "      <td>0.003000</td>\n",
              "      <td>0.020701</td>\n",
              "      <td>0.979300</td>\n",
              "      <td>00:00</td>\n",
              "    </tr>\n",
              "    <tr>\n",
              "      <td>15</td>\n",
              "      <td>0.003013</td>\n",
              "      <td>0.019756</td>\n",
              "      <td>0.980200</td>\n",
              "      <td>00:00</td>\n",
              "    </tr>\n",
              "    <tr>\n",
              "      <td>16</td>\n",
              "      <td>0.003024</td>\n",
              "      <td>0.018801</td>\n",
              "      <td>0.981200</td>\n",
              "      <td>00:00</td>\n",
              "    </tr>\n",
              "    <tr>\n",
              "      <td>17</td>\n",
              "      <td>0.003033</td>\n",
              "      <td>0.018299</td>\n",
              "      <td>0.981700</td>\n",
              "      <td>00:01</td>\n",
              "    </tr>\n",
              "    <tr>\n",
              "      <td>18</td>\n",
              "      <td>0.003040</td>\n",
              "      <td>0.017596</td>\n",
              "      <td>0.982400</td>\n",
              "      <td>00:01</td>\n",
              "    </tr>\n",
              "    <tr>\n",
              "      <td>19</td>\n",
              "      <td>0.003045</td>\n",
              "      <td>0.017198</td>\n",
              "      <td>0.982800</td>\n",
              "      <td>00:01</td>\n",
              "    </tr>\n",
              "    <tr>\n",
              "      <td>20</td>\n",
              "      <td>0.003050</td>\n",
              "      <td>0.016303</td>\n",
              "      <td>0.983700</td>\n",
              "      <td>00:01</td>\n",
              "    </tr>\n",
              "    <tr>\n",
              "      <td>21</td>\n",
              "      <td>0.003053</td>\n",
              "      <td>0.015541</td>\n",
              "      <td>0.984400</td>\n",
              "      <td>00:01</td>\n",
              "    </tr>\n",
              "    <tr>\n",
              "      <td>22</td>\n",
              "      <td>0.003055</td>\n",
              "      <td>0.015006</td>\n",
              "      <td>0.985000</td>\n",
              "      <td>00:00</td>\n",
              "    </tr>\n",
              "    <tr>\n",
              "      <td>23</td>\n",
              "      <td>0.003057</td>\n",
              "      <td>0.014133</td>\n",
              "      <td>0.985900</td>\n",
              "      <td>00:00</td>\n",
              "    </tr>\n",
              "    <tr>\n",
              "      <td>24</td>\n",
              "      <td>0.003057</td>\n",
              "      <td>0.013500</td>\n",
              "      <td>0.986500</td>\n",
              "      <td>00:00</td>\n",
              "    </tr>\n",
              "    <tr>\n",
              "      <td>25</td>\n",
              "      <td>0.003057</td>\n",
              "      <td>0.013276</td>\n",
              "      <td>0.986700</td>\n",
              "      <td>00:00</td>\n",
              "    </tr>\n",
              "    <tr>\n",
              "      <td>26</td>\n",
              "      <td>0.003056</td>\n",
              "      <td>0.012841</td>\n",
              "      <td>0.987200</td>\n",
              "      <td>00:00</td>\n",
              "    </tr>\n",
              "    <tr>\n",
              "      <td>27</td>\n",
              "      <td>0.003054</td>\n",
              "      <td>0.012861</td>\n",
              "      <td>0.987100</td>\n",
              "      <td>00:00</td>\n",
              "    </tr>\n",
              "    <tr>\n",
              "      <td>28</td>\n",
              "      <td>0.003052</td>\n",
              "      <td>0.012500</td>\n",
              "      <td>0.987500</td>\n",
              "      <td>00:00</td>\n",
              "    </tr>\n",
              "    <tr>\n",
              "      <td>29</td>\n",
              "      <td>0.003049</td>\n",
              "      <td>0.012192</td>\n",
              "      <td>0.987800</td>\n",
              "      <td>00:00</td>\n",
              "    </tr>\n",
              "    <tr>\n",
              "      <td>30</td>\n",
              "      <td>0.003045</td>\n",
              "      <td>0.011700</td>\n",
              "      <td>0.988300</td>\n",
              "      <td>00:00</td>\n",
              "    </tr>\n",
              "    <tr>\n",
              "      <td>31</td>\n",
              "      <td>0.003041</td>\n",
              "      <td>0.011500</td>\n",
              "      <td>0.988500</td>\n",
              "      <td>00:00</td>\n",
              "    </tr>\n",
              "    <tr>\n",
              "      <td>32</td>\n",
              "      <td>0.003036</td>\n",
              "      <td>0.011260</td>\n",
              "      <td>0.988700</td>\n",
              "      <td>00:00</td>\n",
              "    </tr>\n",
              "    <tr>\n",
              "      <td>33</td>\n",
              "      <td>0.003030</td>\n",
              "      <td>0.011098</td>\n",
              "      <td>0.988900</td>\n",
              "      <td>00:00</td>\n",
              "    </tr>\n",
              "    <tr>\n",
              "      <td>34</td>\n",
              "      <td>0.003024</td>\n",
              "      <td>0.010900</td>\n",
              "      <td>0.989100</td>\n",
              "      <td>00:00</td>\n",
              "    </tr>\n",
              "    <tr>\n",
              "      <td>35</td>\n",
              "      <td>0.003018</td>\n",
              "      <td>0.010600</td>\n",
              "      <td>0.989400</td>\n",
              "      <td>00:01</td>\n",
              "    </tr>\n",
              "    <tr>\n",
              "      <td>36</td>\n",
              "      <td>0.003011</td>\n",
              "      <td>0.010695</td>\n",
              "      <td>0.989300</td>\n",
              "      <td>00:01</td>\n",
              "    </tr>\n",
              "    <tr>\n",
              "      <td>37</td>\n",
              "      <td>0.003004</td>\n",
              "      <td>0.010600</td>\n",
              "      <td>0.989400</td>\n",
              "      <td>00:01</td>\n",
              "    </tr>\n",
              "    <tr>\n",
              "      <td>38</td>\n",
              "      <td>0.002997</td>\n",
              "      <td>0.010397</td>\n",
              "      <td>0.989600</td>\n",
              "      <td>00:01</td>\n",
              "    </tr>\n",
              "    <tr>\n",
              "      <td>39</td>\n",
              "      <td>0.002989</td>\n",
              "      <td>0.010117</td>\n",
              "      <td>0.989900</td>\n",
              "      <td>00:01</td>\n",
              "    </tr>\n",
              "  </tbody>\n",
              "</table>"
            ]
          },
          "metadata": {}
        }
      ]
    },
    {
      "cell_type": "code",
      "source": [
        "# plot the accuracy over training\n",
        "plt.plot(L(learn.recorder.values).itemgot(2));"
      ],
      "metadata": {
        "colab": {
          "base_uri": "https://localhost:8080/",
          "height": 434
        },
        "id": "xJ_i5R0Yk59c",
        "outputId": "1b5cc065-9132-4cae-f39e-ca7fa8bc9262"
      },
      "execution_count": null,
      "outputs": [
        {
          "output_type": "display_data",
          "data": {
            "text/plain": [
              "<Figure size 640x480 with 1 Axes>"
            ],
            "image/png": "[encoded data removed]"
          },
          "metadata": {}
        }
      ]
    },
    {
      "cell_type": "code",
      "source": [
        "# the final accuracy\n",
        "learn.recorder.values[-1][2]"
      ],
      "metadata": {
        "colab": {
          "base_uri": "https://localhost:8080/"
        },
        "id": "9UnWR18llIlg",
        "outputId": "573e7177-a96a-49ce-c10f-733bc60dc3c1"
      },
      "execution_count": null,
      "outputs": [
        {
          "output_type": "execute_result",
          "data": {
            "text/plain": [
              "0.9898999929428101"
            ]
          },
          "metadata": {},
          "execution_count": 108
        }
      ]
    },
    {
      "cell_type": "code",
      "source": [
        "print(path)\n",
        "print(path.ls())"
      ],
      "metadata": {
        "colab": {
          "base_uri": "https://localhost:8080/"
        },
        "id": "CCqGvRSFaw7H",
        "outputId": "8dc7e773-b6b4-4886-b2e0-8f9dcbec5416"
      },
      "execution_count": null,
      "outputs": [
        {
          "output_type": "stream",
          "name": "stdout",
          "text": [
            "/root/.fastai/data/mnist_png\n",
            "[Path('testing'), Path('training')]\n"
          ]
        }
      ]
    },
    {
      "cell_type": "code",
      "source": [
        "# let's try an 18-layer model using the same approach\n",
        "path = untar_data(URLs.MNIST_SAMPLE)\n",
        "dls = ImageDataLoaders.from_folder(path)\n",
        "learn = vision_learner(dls, resnet18, pretrained=False,\n",
        "                    loss_func=F.cross_entropy, metrics=accuracy)\n",
        "learn.fit_one_cycle(1, 0.1)"
      ],
      "metadata": {
        "colab": {
          "base_uri": "https://localhost:8080/",
          "height": 190
        },
        "id": "4BWxwxk0l9cM",
        "outputId": "b1b1e4f6-2210-4be5-a049-e7edb30d562a"
      },
      "execution_count": null,
      "outputs": [
        {
          "output_type": "display_data",
          "data": {
            "text/plain": [
              "<IPython.core.display.HTML object>"
            ],
            "text/html": [
              "\n",
              "<style>\n",
              "    /* Turns off some styling */\n",
              "    progress {\n",
              "        /* gets rid of default border in Firefox and Opera. */\n",
              "        border: none;\n",
              "        /* Needs to be in here for Safari polyfill so background images work as expected. */\n",
              "        background-size: auto;\n",
              "    }\n",
              "    progress:not([value]), progress:not([value])::-webkit-progress-bar {\n",
              "        background: repeating-linear-gradient(45deg, #7e7e7e, #7e7e7e 10px, #5c5c5c 10px, #5c5c5c 20px);\n",
              "    }\n",
              "    .progress-bar-interrupted, .progress-bar-interrupted::-webkit-progress-bar {\n",
              "        background: #F44336;\n",
              "    }\n",
              "</style>\n"
            ]
          },
          "metadata": {}
        },
        {
          "output_type": "display_data",
          "data": {
            "text/plain": [
              "<IPython.core.display.HTML object>"
            ],
            "text/html": [
              "\n",
              "    <div>\n",
              "      <progress value='3219456' class='' max='3214948' style='width:300px; height:20px; vertical-align: middle;'></progress>\n",
              "      100.14% [3219456/3214948 00:01&lt;00:00]\n",
              "    </div>\n",
              "    "
            ]
          },
          "metadata": {}
        },
        {
          "output_type": "stream",
          "name": "stderr",
          "text": [
            "/usr/local/lib/python3.10/dist-packages/torchvision/models/_utils.py:208: UserWarning: The parameter 'pretrained' is deprecated since 0.13 and may be removed in the future, please use 'weights' instead.\n",
            "  warnings.warn(\n",
            "/usr/local/lib/python3.10/dist-packages/torchvision/models/_utils.py:223: UserWarning: Arguments other than a weight enum or `None` for 'weights' are deprecated since 0.13 and may be removed in the future. The current behavior is equivalent to passing `weights=None`.\n",
            "  warnings.warn(msg)\n"
          ]
        },
        {
          "output_type": "display_data",
          "data": {
            "text/plain": [
              "<IPython.core.display.HTML object>"
            ],
            "text/html": [
              "\n",
              "<style>\n",
              "    /* Turns off some styling */\n",
              "    progress {\n",
              "        /* gets rid of default border in Firefox and Opera. */\n",
              "        border: none;\n",
              "        /* Needs to be in here for Safari polyfill so background images work as expected. */\n",
              "        background-size: auto;\n",
              "    }\n",
              "    progress:not([value]), progress:not([value])::-webkit-progress-bar {\n",
              "        background: repeating-linear-gradient(45deg, #7e7e7e, #7e7e7e 10px, #5c5c5c 10px, #5c5c5c 20px);\n",
              "    }\n",
              "    .progress-bar-interrupted, .progress-bar-interrupted::-webkit-progress-bar {\n",
              "        background: #F44336;\n",
              "    }\n",
              "</style>\n"
            ]
          },
          "metadata": {}
        },
        {
          "output_type": "display_data",
          "data": {
            "text/plain": [
              "<IPython.core.display.HTML object>"
            ],
            "text/html": [
              "<table border=\"1\" class=\"dataframe\">\n",
              "  <thead>\n",
              "    <tr style=\"text-align: left;\">\n",
              "      <th>epoch</th>\n",
              "      <th>train_loss</th>\n",
              "      <th>valid_loss</th>\n",
              "      <th>accuracy</th>\n",
              "      <th>time</th>\n",
              "    </tr>\n",
              "  </thead>\n",
              "  <tbody>\n",
              "    <tr>\n",
              "      <td>0</td>\n",
              "      <td>0.122027</td>\n",
              "      <td>0.037101</td>\n",
              "      <td>0.992149</td>\n",
              "      <td>00:25</td>\n",
              "    </tr>\n",
              "  </tbody>\n",
              "</table>"
            ]
          },
          "metadata": {}
        }
      ]
    }
  ]
}